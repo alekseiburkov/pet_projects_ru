{
  "cells": [
    {
      "cell_type": "markdown",
      "id": "fa985b42",
      "metadata": {
        "id": "fa985b42"
      },
      "source": [
        "# Исследование надежности заемщиков."
      ]
    },
    {
      "cell_type": "markdown",
      "id": "6f8c4092",
      "metadata": {
        "id": "6f8c4092"
      },
      "source": [
        "## Введение"
      ]
    },
    {
      "cell_type": "markdown",
      "id": "0cd4df58",
      "metadata": {
        "id": "0cd4df58"
      },
      "source": [
        "Заказчик — кредитный отдел банка.\n",
        "\n",
        "Задача — выяснить влияет ли семейное положение и количество детей клиента на факт погашения кредита в срок.\n",
        "\n",
        "Предоставлены входные данные от банка — статистика о платёжеспособности клиентов.\n",
        "\n",
        "Результаты исследования будут использоваться при построении модели кредитного скоринга — специальной системы, которая оценивает способность потенциального заёмщика вернуть кредит банку."
      ]
    },
    {
      "cell_type": "markdown",
      "id": "a643b316",
      "metadata": {
        "id": "a643b316"
      },
      "source": [
        "<b>План по выполнению проекта</b>\n",
        "\n",
        "1. Загрузка данных\n",
        "2. Предобработка и подготовка данных\n",
        "    * Найти столбцы с аномальными значения и обработать их\n",
        "    * Найти и обработать пропущенные значения\n",
        "    * Проверить правильность типов данных\n",
        "    * Найти строки дубликаты, удалить их и обработать неявные дубликаты\n",
        "    * Создайть два новых датафрейма, в которых:\n",
        "        * каждому уникальному значению из education соответствует уникальное значение education_id — в первом;\n",
        "        * каждому уникальному значению из family_status соответствует уникальное значение family_status_id — во втором.\n",
        "    * Удалить из исходного датафрейма столбцы education и family_status, оставив только их идентификаторы: education_id и family_status_id.\n",
        "    * На основании диапазонов, указанных ниже, создать столбец total_income_category с категориями:\n",
        "        * 0–30000 — 'E'\n",
        "        * 30001–50000 — 'D'\n",
        "        * 50001–200000 — 'C'\n",
        "        * 200001–1000000 — 'B'\n",
        "        * 1000001 и выше — 'A'\n",
        "    * Создать функцию, которая на основании данных из столбца purpose сформирует новый столбец purpose_category, в который войдут следующие категории:\n",
        "        * 'операции с автомобилем'\n",
        "        * 'операции с недвижимостью'\n",
        "        * 'проведение свадьбы'\n",
        "        * 'получение образования'\n",
        "\n",
        "3. Ответы на вопросы\n",
        "\n",
        "    * Есть ли зависимость между количеством детей и возвратом кредита в срок?\n",
        "    * Есть ли зависимость между семейным положением и возвратом кредита в срок?\n",
        "    * Есть ли зависимость между уровнем дохода и возвратом кредита в срок?\n",
        "    * Как разные цели кредита влияют на его возврат в срок?\n",
        "\n",
        "4. Вывод"
      ]
    },
    {
      "cell_type": "markdown",
      "id": "b3aea973",
      "metadata": {
        "id": "b3aea973"
      },
      "source": [
        "## 1. Обзор данных"
      ]
    },
    {
      "cell_type": "code",
      "execution_count": 1,
      "id": "16eac465",
      "metadata": {
        "id": "16eac465"
      },
      "outputs": [],
      "source": [
        "import numpy as np\n",
        "import pandas as pd\n",
        "\n",
        "import matplotlib.pyplot as plt\n",
        "import seaborn as sns"
      ]
    },
    {
      "cell_type": "code",
      "source": [
        "pd.options.display.float_format = '{:.3f}'.format\n",
        "pd.set_option(\"display.max_columns\", None)\n",
        "\n",
        "plt.rcParams['figure.figsize'] = (10, 5)"
      ],
      "metadata": {
        "id": "4CCp787R6H8c"
      },
      "id": "4CCp787R6H8c",
      "execution_count": 2,
      "outputs": []
    },
    {
      "cell_type": "code",
      "execution_count": 3,
      "id": "Rp-U9aeKHGkQ",
      "metadata": {
        "id": "Rp-U9aeKHGkQ"
      },
      "outputs": [],
      "source": [
        "df = pd.read_csv('https://code.s3.yandex.net/datasets/data.csv')"
      ]
    },
    {
      "cell_type": "code",
      "source": [
        "df_original = df.copy()"
      ],
      "metadata": {
        "id": "_Py9M-CwK06_"
      },
      "id": "_Py9M-CwK06_",
      "execution_count": 4,
      "outputs": []
    },
    {
      "cell_type": "code",
      "execution_count": 5,
      "id": "OQZyoIv3HhoD",
      "metadata": {
        "colab": {
          "base_uri": "https://localhost:8080/",
          "height": 357
        },
        "id": "OQZyoIv3HhoD",
        "outputId": "bef311c2-164a-46b7-aa72-110101944c72",
        "scrolled": false
      },
      "outputs": [
        {
          "output_type": "execute_result",
          "data": {
            "text/plain": [
              "   children  days_employed  dob_years education  education_id  \\\n",
              "0         1      -8437.673         42    высшее             0   \n",
              "1         1      -4024.804         36   среднее             1   \n",
              "2         0      -5623.423         33   Среднее             1   \n",
              "3         3      -4124.747         32   среднее             1   \n",
              "4         0     340266.072         53   среднее             1   \n",
              "\n",
              "      family_status  family_status_id gender income_type  debt  total_income  \\\n",
              "0   женат / замужем                 0      F   сотрудник     0    253875.639   \n",
              "1   женат / замужем                 0      F   сотрудник     0    112080.014   \n",
              "2   женат / замужем                 0      M   сотрудник     0    145885.952   \n",
              "3   женат / замужем                 0      M   сотрудник     0    267628.550   \n",
              "4  гражданский брак                 1      F   пенсионер     0    158616.078   \n",
              "\n",
              "                      purpose  \n",
              "0               покупка жилья  \n",
              "1     приобретение автомобиля  \n",
              "2               покупка жилья  \n",
              "3  дополнительное образование  \n",
              "4             сыграть свадьбу  "
            ],
            "text/html": [
              "\n",
              "\n",
              "  <div id=\"df-69f0c685-a0ee-4c39-b8cb-98c52804a1a7\">\n",
              "    <div class=\"colab-df-container\">\n",
              "      <div>\n",
              "<style scoped>\n",
              "    .dataframe tbody tr th:only-of-type {\n",
              "        vertical-align: middle;\n",
              "    }\n",
              "\n",
              "    .dataframe tbody tr th {\n",
              "        vertical-align: top;\n",
              "    }\n",
              "\n",
              "    .dataframe thead th {\n",
              "        text-align: right;\n",
              "    }\n",
              "</style>\n",
              "<table border=\"1\" class=\"dataframe\">\n",
              "  <thead>\n",
              "    <tr style=\"text-align: right;\">\n",
              "      <th></th>\n",
              "      <th>children</th>\n",
              "      <th>days_employed</th>\n",
              "      <th>dob_years</th>\n",
              "      <th>education</th>\n",
              "      <th>education_id</th>\n",
              "      <th>family_status</th>\n",
              "      <th>family_status_id</th>\n",
              "      <th>gender</th>\n",
              "      <th>income_type</th>\n",
              "      <th>debt</th>\n",
              "      <th>total_income</th>\n",
              "      <th>purpose</th>\n",
              "    </tr>\n",
              "  </thead>\n",
              "  <tbody>\n",
              "    <tr>\n",
              "      <th>0</th>\n",
              "      <td>1</td>\n",
              "      <td>-8437.673</td>\n",
              "      <td>42</td>\n",
              "      <td>высшее</td>\n",
              "      <td>0</td>\n",
              "      <td>женат / замужем</td>\n",
              "      <td>0</td>\n",
              "      <td>F</td>\n",
              "      <td>сотрудник</td>\n",
              "      <td>0</td>\n",
              "      <td>253875.639</td>\n",
              "      <td>покупка жилья</td>\n",
              "    </tr>\n",
              "    <tr>\n",
              "      <th>1</th>\n",
              "      <td>1</td>\n",
              "      <td>-4024.804</td>\n",
              "      <td>36</td>\n",
              "      <td>среднее</td>\n",
              "      <td>1</td>\n",
              "      <td>женат / замужем</td>\n",
              "      <td>0</td>\n",
              "      <td>F</td>\n",
              "      <td>сотрудник</td>\n",
              "      <td>0</td>\n",
              "      <td>112080.014</td>\n",
              "      <td>приобретение автомобиля</td>\n",
              "    </tr>\n",
              "    <tr>\n",
              "      <th>2</th>\n",
              "      <td>0</td>\n",
              "      <td>-5623.423</td>\n",
              "      <td>33</td>\n",
              "      <td>Среднее</td>\n",
              "      <td>1</td>\n",
              "      <td>женат / замужем</td>\n",
              "      <td>0</td>\n",
              "      <td>M</td>\n",
              "      <td>сотрудник</td>\n",
              "      <td>0</td>\n",
              "      <td>145885.952</td>\n",
              "      <td>покупка жилья</td>\n",
              "    </tr>\n",
              "    <tr>\n",
              "      <th>3</th>\n",
              "      <td>3</td>\n",
              "      <td>-4124.747</td>\n",
              "      <td>32</td>\n",
              "      <td>среднее</td>\n",
              "      <td>1</td>\n",
              "      <td>женат / замужем</td>\n",
              "      <td>0</td>\n",
              "      <td>M</td>\n",
              "      <td>сотрудник</td>\n",
              "      <td>0</td>\n",
              "      <td>267628.550</td>\n",
              "      <td>дополнительное образование</td>\n",
              "    </tr>\n",
              "    <tr>\n",
              "      <th>4</th>\n",
              "      <td>0</td>\n",
              "      <td>340266.072</td>\n",
              "      <td>53</td>\n",
              "      <td>среднее</td>\n",
              "      <td>1</td>\n",
              "      <td>гражданский брак</td>\n",
              "      <td>1</td>\n",
              "      <td>F</td>\n",
              "      <td>пенсионер</td>\n",
              "      <td>0</td>\n",
              "      <td>158616.078</td>\n",
              "      <td>сыграть свадьбу</td>\n",
              "    </tr>\n",
              "  </tbody>\n",
              "</table>\n",
              "</div>\n",
              "      <button class=\"colab-df-convert\" onclick=\"convertToInteractive('df-69f0c685-a0ee-4c39-b8cb-98c52804a1a7')\"\n",
              "              title=\"Convert this dataframe to an interactive table.\"\n",
              "              style=\"display:none;\">\n",
              "\n",
              "  <svg xmlns=\"http://www.w3.org/2000/svg\" height=\"24px\"viewBox=\"0 0 24 24\"\n",
              "       width=\"24px\">\n",
              "    <path d=\"M0 0h24v24H0V0z\" fill=\"none\"/>\n",
              "    <path d=\"M18.56 5.44l.94 2.06.94-2.06 2.06-.94-2.06-.94-.94-2.06-.94 2.06-2.06.94zm-11 1L8.5 8.5l.94-2.06 2.06-.94-2.06-.94L8.5 2.5l-.94 2.06-2.06.94zm10 10l.94 2.06.94-2.06 2.06-.94-2.06-.94-.94-2.06-.94 2.06-2.06.94z\"/><path d=\"M17.41 7.96l-1.37-1.37c-.4-.4-.92-.59-1.43-.59-.52 0-1.04.2-1.43.59L10.3 9.45l-7.72 7.72c-.78.78-.78 2.05 0 2.83L4 21.41c.39.39.9.59 1.41.59.51 0 1.02-.2 1.41-.59l7.78-7.78 2.81-2.81c.8-.78.8-2.07 0-2.86zM5.41 20L4 18.59l7.72-7.72 1.47 1.35L5.41 20z\"/>\n",
              "  </svg>\n",
              "      </button>\n",
              "\n",
              "\n",
              "\n",
              "    <div id=\"df-1a2bea81-544a-4e8a-bc86-b70c57459a8b\">\n",
              "      <button class=\"colab-df-quickchart\" onclick=\"quickchart('df-1a2bea81-544a-4e8a-bc86-b70c57459a8b')\"\n",
              "              title=\"Suggest charts.\"\n",
              "              style=\"display:none;\">\n",
              "\n",
              "<svg xmlns=\"http://www.w3.org/2000/svg\" height=\"24px\"viewBox=\"0 0 24 24\"\n",
              "     width=\"24px\">\n",
              "    <g>\n",
              "        <path d=\"M19 3H5c-1.1 0-2 .9-2 2v14c0 1.1.9 2 2 2h14c1.1 0 2-.9 2-2V5c0-1.1-.9-2-2-2zM9 17H7v-7h2v7zm4 0h-2V7h2v10zm4 0h-2v-4h2v4z\"/>\n",
              "    </g>\n",
              "</svg>\n",
              "      </button>\n",
              "    </div>\n",
              "\n",
              "<style>\n",
              "  .colab-df-quickchart {\n",
              "    background-color: #E8F0FE;\n",
              "    border: none;\n",
              "    border-radius: 50%;\n",
              "    cursor: pointer;\n",
              "    display: none;\n",
              "    fill: #1967D2;\n",
              "    height: 32px;\n",
              "    padding: 0 0 0 0;\n",
              "    width: 32px;\n",
              "  }\n",
              "\n",
              "  .colab-df-quickchart:hover {\n",
              "    background-color: #E2EBFA;\n",
              "    box-shadow: 0px 1px 2px rgba(60, 64, 67, 0.3), 0px 1px 3px 1px rgba(60, 64, 67, 0.15);\n",
              "    fill: #174EA6;\n",
              "  }\n",
              "\n",
              "  [theme=dark] .colab-df-quickchart {\n",
              "    background-color: #3B4455;\n",
              "    fill: #D2E3FC;\n",
              "  }\n",
              "\n",
              "  [theme=dark] .colab-df-quickchart:hover {\n",
              "    background-color: #434B5C;\n",
              "    box-shadow: 0px 1px 3px 1px rgba(0, 0, 0, 0.15);\n",
              "    filter: drop-shadow(0px 1px 2px rgba(0, 0, 0, 0.3));\n",
              "    fill: #FFFFFF;\n",
              "  }\n",
              "</style>\n",
              "\n",
              "    <script>\n",
              "      async function quickchart(key) {\n",
              "        const containerElement = document.querySelector('#' + key);\n",
              "        const charts = await google.colab.kernel.invokeFunction(\n",
              "            'suggestCharts', [key], {});\n",
              "      }\n",
              "    </script>\n",
              "\n",
              "      <script>\n",
              "\n",
              "function displayQuickchartButton(domScope) {\n",
              "  let quickchartButtonEl =\n",
              "    domScope.querySelector('#df-1a2bea81-544a-4e8a-bc86-b70c57459a8b button.colab-df-quickchart');\n",
              "  quickchartButtonEl.style.display =\n",
              "    google.colab.kernel.accessAllowed ? 'block' : 'none';\n",
              "}\n",
              "\n",
              "        displayQuickchartButton(document);\n",
              "      </script>\n",
              "      <style>\n",
              "    .colab-df-container {\n",
              "      display:flex;\n",
              "      flex-wrap:wrap;\n",
              "      gap: 12px;\n",
              "    }\n",
              "\n",
              "    .colab-df-convert {\n",
              "      background-color: #E8F0FE;\n",
              "      border: none;\n",
              "      border-radius: 50%;\n",
              "      cursor: pointer;\n",
              "      display: none;\n",
              "      fill: #1967D2;\n",
              "      height: 32px;\n",
              "      padding: 0 0 0 0;\n",
              "      width: 32px;\n",
              "    }\n",
              "\n",
              "    .colab-df-convert:hover {\n",
              "      background-color: #E2EBFA;\n",
              "      box-shadow: 0px 1px 2px rgba(60, 64, 67, 0.3), 0px 1px 3px 1px rgba(60, 64, 67, 0.15);\n",
              "      fill: #174EA6;\n",
              "    }\n",
              "\n",
              "    [theme=dark] .colab-df-convert {\n",
              "      background-color: #3B4455;\n",
              "      fill: #D2E3FC;\n",
              "    }\n",
              "\n",
              "    [theme=dark] .colab-df-convert:hover {\n",
              "      background-color: #434B5C;\n",
              "      box-shadow: 0px 1px 3px 1px rgba(0, 0, 0, 0.15);\n",
              "      filter: drop-shadow(0px 1px 2px rgba(0, 0, 0, 0.3));\n",
              "      fill: #FFFFFF;\n",
              "    }\n",
              "  </style>\n",
              "\n",
              "      <script>\n",
              "        const buttonEl =\n",
              "          document.querySelector('#df-69f0c685-a0ee-4c39-b8cb-98c52804a1a7 button.colab-df-convert');\n",
              "        buttonEl.style.display =\n",
              "          google.colab.kernel.accessAllowed ? 'block' : 'none';\n",
              "\n",
              "        async function convertToInteractive(key) {\n",
              "          const element = document.querySelector('#df-69f0c685-a0ee-4c39-b8cb-98c52804a1a7');\n",
              "          const dataTable =\n",
              "            await google.colab.kernel.invokeFunction('convertToInteractive',\n",
              "                                                     [key], {});\n",
              "          if (!dataTable) return;\n",
              "\n",
              "          const docLinkHtml = 'Like what you see? Visit the ' +\n",
              "            '<a target=\"_blank\" href=https://colab.research.google.com/notebooks/data_table.ipynb>data table notebook</a>'\n",
              "            + ' to learn more about interactive tables.';\n",
              "          element.innerHTML = '';\n",
              "          dataTable['output_type'] = 'display_data';\n",
              "          await google.colab.output.renderOutput(dataTable, element);\n",
              "          const docLink = document.createElement('div');\n",
              "          docLink.innerHTML = docLinkHtml;\n",
              "          element.appendChild(docLink);\n",
              "        }\n",
              "      </script>\n",
              "    </div>\n",
              "  </div>\n"
            ]
          },
          "metadata": {},
          "execution_count": 5
        }
      ],
      "source": [
        "df.head()"
      ]
    },
    {
      "cell_type": "markdown",
      "id": "3913565f",
      "metadata": {
        "id": "3913565f"
      },
      "source": [
        "<b>Описание столбцов данных</b>\n",
        "* children — количество детей в семье\n",
        "* days_employed — общий трудовой стаж в днях\n",
        "* dob_years — возраст клиента в годах\n",
        "* education — уровень образования клиента\n",
        "* education_id — идентификатор уровня образования\n",
        "* family_status — семейное положение\n",
        "* family_status_id — идентификатор семейного положения\n",
        "* gender — пол клиента\n",
        "* income_type — тип занятости\n",
        "* debt — имел ли задолженность по возврату кредитов\n",
        "* total_income — ежемесячный доход\n",
        "* purpose — цель получения кредита"
      ]
    },
    {
      "cell_type": "markdown",
      "id": "YJsj5d2xFBgb",
      "metadata": {
        "id": "YJsj5d2xFBgb"
      },
      "source": [
        "## 2. Обработка данных"
      ]
    },
    {
      "cell_type": "markdown",
      "id": "_vmwjZIGJM75",
      "metadata": {
        "id": "_vmwjZIGJM75"
      },
      "source": [
        "Получим общую информацию о датасете."
      ]
    },
    {
      "cell_type": "code",
      "execution_count": 6,
      "id": "h4MQv8PbJD4h",
      "metadata": {
        "colab": {
          "base_uri": "https://localhost:8080/"
        },
        "id": "h4MQv8PbJD4h",
        "outputId": "80c93f94-6771-465e-8026-d11af9c1900f"
      },
      "outputs": [
        {
          "output_type": "stream",
          "name": "stdout",
          "text": [
            "<class 'pandas.core.frame.DataFrame'>\n",
            "RangeIndex: 21525 entries, 0 to 21524\n",
            "Data columns (total 12 columns):\n",
            " #   Column            Non-Null Count  Dtype  \n",
            "---  ------            --------------  -----  \n",
            " 0   children          21525 non-null  int64  \n",
            " 1   days_employed     19351 non-null  float64\n",
            " 2   dob_years         21525 non-null  int64  \n",
            " 3   education         21525 non-null  object \n",
            " 4   education_id      21525 non-null  int64  \n",
            " 5   family_status     21525 non-null  object \n",
            " 6   family_status_id  21525 non-null  int64  \n",
            " 7   gender            21525 non-null  object \n",
            " 8   income_type       21525 non-null  object \n",
            " 9   debt              21525 non-null  int64  \n",
            " 10  total_income      19351 non-null  float64\n",
            " 11  purpose           21525 non-null  object \n",
            "dtypes: float64(2), int64(5), object(5)\n",
            "memory usage: 2.0+ MB\n"
          ]
        }
      ],
      "source": [
        "df.info()"
      ]
    },
    {
      "cell_type": "code",
      "execution_count": 7,
      "id": "E5ocL0s-JAEL",
      "metadata": {
        "colab": {
          "base_uri": "https://localhost:8080/"
        },
        "id": "E5ocL0s-JAEL",
        "outputId": "fcbfbf98-7e5a-4509-e4ac-218300ed2ad8"
      },
      "outputs": [
        {
          "output_type": "execute_result",
          "data": {
            "text/plain": [
              "Index(['children', 'days_employed', 'dob_years', 'education', 'education_id',\n",
              "       'family_status', 'family_status_id', 'gender', 'income_type', 'debt',\n",
              "       'total_income', 'purpose'],\n",
              "      dtype='object')"
            ]
          },
          "metadata": {},
          "execution_count": 7
        }
      ],
      "source": [
        "df.columns"
      ]
    },
    {
      "cell_type": "markdown",
      "id": "NNvUBWgKJJvX",
      "metadata": {
        "id": "NNvUBWgKJJvX"
      },
      "source": [
        "В названиях столбцов ошибок и опечаток нет."
      ]
    },
    {
      "cell_type": "code",
      "execution_count": 8,
      "id": "UOLYgA-mZXVE",
      "metadata": {
        "colab": {
          "base_uri": "https://localhost:8080/"
        },
        "id": "UOLYgA-mZXVE",
        "outputId": "21e4f5ff-a6a6-4c86-a2cc-6c9ec6aa390f"
      },
      "outputs": [
        {
          "output_type": "execute_result",
          "data": {
            "text/plain": [
              "children               0\n",
              "days_employed       2174\n",
              "dob_years              0\n",
              "education              0\n",
              "education_id           0\n",
              "family_status          0\n",
              "family_status_id       0\n",
              "gender                 0\n",
              "income_type            0\n",
              "debt                   0\n",
              "total_income        2174\n",
              "purpose                0\n",
              "dtype: int64"
            ]
          },
          "metadata": {},
          "execution_count": 8
        }
      ],
      "source": [
        "df.isna().sum()"
      ]
    },
    {
      "cell_type": "markdown",
      "source": [
        "Посмотрим соотношение пропущенных значений в столбцах."
      ],
      "metadata": {
        "id": "FziF_0Mu9eT7"
      },
      "id": "FziF_0Mu9eT7"
    },
    {
      "cell_type": "code",
      "source": [
        "plot_isna = df.isna().mean().sort_values(ascending=False) * 100\n",
        "plot_isna = plot_isna[plot_isna > 0]"
      ],
      "metadata": {
        "id": "F_9umJs19asK"
      },
      "id": "F_9umJs19asK",
      "execution_count": 9,
      "outputs": []
    },
    {
      "cell_type": "code",
      "source": [
        "sns.barplot(x=plot_isna, y=plot_isna.index).set(title=('Распределение процента пропущенных значений в столбцах'),\n",
        "                                                xlabel='Процент пропущенных значений (%)',\n",
        "                                                ylabel='Столбец')\n",
        "\n",
        "plt.show()"
      ],
      "metadata": {
        "colab": {
          "base_uri": "https://localhost:8080/",
          "height": 487
        },
        "id": "4kMXlTQD9lnN",
        "outputId": "c378e1c3-590b-4694-8d70-c75df7ab950d"
      },
      "id": "4kMXlTQD9lnN",
      "execution_count": 10,
      "outputs": [
        {
          "output_type": "display_data",
          "data": {
            "text/plain": [
              "<Figure size 1000x500 with 1 Axes>"
            ],
            "image/png": "[encoded data removed]"
          },
          "metadata": {}
        }
      ]
    },
    {
      "cell_type": "markdown",
      "id": "JNMEydboZhka",
      "metadata": {
        "id": "JNMEydboZhka"
      },
      "source": [
        "В столбцах 'days_employed' и 'total__income' есть пропущенные значения."
      ]
    },
    {
      "cell_type": "markdown",
      "id": "c338d671",
      "metadata": {
        "id": "c338d671"
      },
      "source": [
        "### 2.1 Проверка данных на аномалии и исправления."
      ]
    },
    {
      "cell_type": "markdown",
      "id": "Nb12ufvtRZ3W",
      "metadata": {
        "id": "Nb12ufvtRZ3W"
      },
      "source": [
        "Проверим столбцы на аномальные данные."
      ]
    },
    {
      "cell_type": "code",
      "source": [
        "df.head()"
      ],
      "metadata": {
        "colab": {
          "base_uri": "https://localhost:8080/",
          "height": 357
        },
        "id": "ybUfZzSFLfpN",
        "outputId": "db860cf4-d5b2-4c2a-f9cb-30b3101b399d"
      },
      "id": "ybUfZzSFLfpN",
      "execution_count": 11,
      "outputs": [
        {
          "output_type": "execute_result",
          "data": {
            "text/plain": [
              "   children  days_employed  dob_years education  education_id  \\\n",
              "0         1      -8437.673         42    высшее             0   \n",
              "1         1      -4024.804         36   среднее             1   \n",
              "2         0      -5623.423         33   Среднее             1   \n",
              "3         3      -4124.747         32   среднее             1   \n",
              "4         0     340266.072         53   среднее             1   \n",
              "\n",
              "      family_status  family_status_id gender income_type  debt  total_income  \\\n",
              "0   женат / замужем                 0      F   сотрудник     0    253875.639   \n",
              "1   женат / замужем                 0      F   сотрудник     0    112080.014   \n",
              "2   женат / замужем                 0      M   сотрудник     0    145885.952   \n",
              "3   женат / замужем                 0      M   сотрудник     0    267628.550   \n",
              "4  гражданский брак                 1      F   пенсионер     0    158616.078   \n",
              "\n",
              "                      purpose  \n",
              "0               покупка жилья  \n",
              "1     приобретение автомобиля  \n",
              "2               покупка жилья  \n",
              "3  дополнительное образование  \n",
              "4             сыграть свадьбу  "
            ],
            "text/html": [
              "\n",
              "\n",
              "  <div id=\"df-c9a12117-2209-4be9-9b00-fb884e212785\">\n",
              "    <div class=\"colab-df-container\">\n",
              "      <div>\n",
              "<style scoped>\n",
              "    .dataframe tbody tr th:only-of-type {\n",
              "        vertical-align: middle;\n",
              "    }\n",
              "\n",
              "    .dataframe tbody tr th {\n",
              "        vertical-align: top;\n",
              "    }\n",
              "\n",
              "    .dataframe thead th {\n",
              "        text-align: right;\n",
              "    }\n",
              "</style>\n",
              "<table border=\"1\" class=\"dataframe\">\n",
              "  <thead>\n",
              "    <tr style=\"text-align: right;\">\n",
              "      <th></th>\n",
              "      <th>children</th>\n",
              "      <th>days_employed</th>\n",
              "      <th>dob_years</th>\n",
              "      <th>education</th>\n",
              "      <th>education_id</th>\n",
              "      <th>family_status</th>\n",
              "      <th>family_status_id</th>\n",
              "      <th>gender</th>\n",
              "      <th>income_type</th>\n",
              "      <th>debt</th>\n",
              "      <th>total_income</th>\n",
              "      <th>purpose</th>\n",
              "    </tr>\n",
              "  </thead>\n",
              "  <tbody>\n",
              "    <tr>\n",
              "      <th>0</th>\n",
              "      <td>1</td>\n",
              "      <td>-8437.673</td>\n",
              "      <td>42</td>\n",
              "      <td>высшее</td>\n",
              "      <td>0</td>\n",
              "      <td>женат / замужем</td>\n",
              "      <td>0</td>\n",
              "      <td>F</td>\n",
              "      <td>сотрудник</td>\n",
              "      <td>0</td>\n",
              "      <td>253875.639</td>\n",
              "      <td>покупка жилья</td>\n",
              "    </tr>\n",
              "    <tr>\n",
              "      <th>1</th>\n",
              "      <td>1</td>\n",
              "      <td>-4024.804</td>\n",
              "      <td>36</td>\n",
              "      <td>среднее</td>\n",
              "      <td>1</td>\n",
              "      <td>женат / замужем</td>\n",
              "      <td>0</td>\n",
              "      <td>F</td>\n",
              "      <td>сотрудник</td>\n",
              "      <td>0</td>\n",
              "      <td>112080.014</td>\n",
              "      <td>приобретение автомобиля</td>\n",
              "    </tr>\n",
              "    <tr>\n",
              "      <th>2</th>\n",
              "      <td>0</td>\n",
              "      <td>-5623.423</td>\n",
              "      <td>33</td>\n",
              "      <td>Среднее</td>\n",
              "      <td>1</td>\n",
              "      <td>женат / замужем</td>\n",
              "      <td>0</td>\n",
              "      <td>M</td>\n",
              "      <td>сотрудник</td>\n",
              "      <td>0</td>\n",
              "      <td>145885.952</td>\n",
              "      <td>покупка жилья</td>\n",
              "    </tr>\n",
              "    <tr>\n",
              "      <th>3</th>\n",
              "      <td>3</td>\n",
              "      <td>-4124.747</td>\n",
              "      <td>32</td>\n",
              "      <td>среднее</td>\n",
              "      <td>1</td>\n",
              "      <td>женат / замужем</td>\n",
              "      <td>0</td>\n",
              "      <td>M</td>\n",
              "      <td>сотрудник</td>\n",
              "      <td>0</td>\n",
              "      <td>267628.550</td>\n",
              "      <td>дополнительное образование</td>\n",
              "    </tr>\n",
              "    <tr>\n",
              "      <th>4</th>\n",
              "      <td>0</td>\n",
              "      <td>340266.072</td>\n",
              "      <td>53</td>\n",
              "      <td>среднее</td>\n",
              "      <td>1</td>\n",
              "      <td>гражданский брак</td>\n",
              "      <td>1</td>\n",
              "      <td>F</td>\n",
              "      <td>пенсионер</td>\n",
              "      <td>0</td>\n",
              "      <td>158616.078</td>\n",
              "      <td>сыграть свадьбу</td>\n",
              "    </tr>\n",
              "  </tbody>\n",
              "</table>\n",
              "</div>\n",
              "      <button class=\"colab-df-convert\" onclick=\"convertToInteractive('df-c9a12117-2209-4be9-9b00-fb884e212785')\"\n",
              "              title=\"Convert this dataframe to an interactive table.\"\n",
              "              style=\"display:none;\">\n",
              "\n",
              "  <svg xmlns=\"http://www.w3.org/2000/svg\" height=\"24px\"viewBox=\"0 0 24 24\"\n",
              "       width=\"24px\">\n",
              "    <path d=\"M0 0h24v24H0V0z\" fill=\"none\"/>\n",
              "    <path d=\"M18.56 5.44l.94 2.06.94-2.06 2.06-.94-2.06-.94-.94-2.06-.94 2.06-2.06.94zm-11 1L8.5 8.5l.94-2.06 2.06-.94-2.06-.94L8.5 2.5l-.94 2.06-2.06.94zm10 10l.94 2.06.94-2.06 2.06-.94-2.06-.94-.94-2.06-.94 2.06-2.06.94z\"/><path d=\"M17.41 7.96l-1.37-1.37c-.4-.4-.92-.59-1.43-.59-.52 0-1.04.2-1.43.59L10.3 9.45l-7.72 7.72c-.78.78-.78 2.05 0 2.83L4 21.41c.39.39.9.59 1.41.59.51 0 1.02-.2 1.41-.59l7.78-7.78 2.81-2.81c.8-.78.8-2.07 0-2.86zM5.41 20L4 18.59l7.72-7.72 1.47 1.35L5.41 20z\"/>\n",
              "  </svg>\n",
              "      </button>\n",
              "\n",
              "\n",
              "\n",
              "    <div id=\"df-3c4e99a2-9b44-4c96-adf3-323eb5cf4477\">\n",
              "      <button class=\"colab-df-quickchart\" onclick=\"quickchart('df-3c4e99a2-9b44-4c96-adf3-323eb5cf4477')\"\n",
              "              title=\"Suggest charts.\"\n",
              "              style=\"display:none;\">\n",
              "\n",
              "<svg xmlns=\"http://www.w3.org/2000/svg\" height=\"24px\"viewBox=\"0 0 24 24\"\n",
              "     width=\"24px\">\n",
              "    <g>\n",
              "        <path d=\"M19 3H5c-1.1 0-2 .9-2 2v14c0 1.1.9 2 2 2h14c1.1 0 2-.9 2-2V5c0-1.1-.9-2-2-2zM9 17H7v-7h2v7zm4 0h-2V7h2v10zm4 0h-2v-4h2v4z\"/>\n",
              "    </g>\n",
              "</svg>\n",
              "      </button>\n",
              "    </div>\n",
              "\n",
              "<style>\n",
              "  .colab-df-quickchart {\n",
              "    background-color: #E8F0FE;\n",
              "    border: none;\n",
              "    border-radius: 50%;\n",
              "    cursor: pointer;\n",
              "    display: none;\n",
              "    fill: #1967D2;\n",
              "    height: 32px;\n",
              "    padding: 0 0 0 0;\n",
              "    width: 32px;\n",
              "  }\n",
              "\n",
              "  .colab-df-quickchart:hover {\n",
              "    background-color: #E2EBFA;\n",
              "    box-shadow: 0px 1px 2px rgba(60, 64, 67, 0.3), 0px 1px 3px 1px rgba(60, 64, 67, 0.15);\n",
              "    fill: #174EA6;\n",
              "  }\n",
              "\n",
              "  [theme=dark] .colab-df-quickchart {\n",
              "    background-color: #3B4455;\n",
              "    fill: #D2E3FC;\n",
              "  }\n",
              "\n",
              "  [theme=dark] .colab-df-quickchart:hover {\n",
              "    background-color: #434B5C;\n",
              "    box-shadow: 0px 1px 3px 1px rgba(0, 0, 0, 0.15);\n",
              "    filter: drop-shadow(0px 1px 2px rgba(0, 0, 0, 0.3));\n",
              "    fill: #FFFFFF;\n",
              "  }\n",
              "</style>\n",
              "\n",
              "    <script>\n",
              "      async function quickchart(key) {\n",
              "        const containerElement = document.querySelector('#' + key);\n",
              "        const charts = await google.colab.kernel.invokeFunction(\n",
              "            'suggestCharts', [key], {});\n",
              "      }\n",
              "    </script>\n",
              "\n",
              "      <script>\n",
              "\n",
              "function displayQuickchartButton(domScope) {\n",
              "  let quickchartButtonEl =\n",
              "    domScope.querySelector('#df-3c4e99a2-9b44-4c96-adf3-323eb5cf4477 button.colab-df-quickchart');\n",
              "  quickchartButtonEl.style.display =\n",
              "    google.colab.kernel.accessAllowed ? 'block' : 'none';\n",
              "}\n",
              "\n",
              "        displayQuickchartButton(document);\n",
              "      </script>\n",
              "      <style>\n",
              "    .colab-df-container {\n",
              "      display:flex;\n",
              "      flex-wrap:wrap;\n",
              "      gap: 12px;\n",
              "    }\n",
              "\n",
              "    .colab-df-convert {\n",
              "      background-color: #E8F0FE;\n",
              "      border: none;\n",
              "      border-radius: 50%;\n",
              "      cursor: pointer;\n",
              "      display: none;\n",
              "      fill: #1967D2;\n",
              "      height: 32px;\n",
              "      padding: 0 0 0 0;\n",
              "      width: 32px;\n",
              "    }\n",
              "\n",
              "    .colab-df-convert:hover {\n",
              "      background-color: #E2EBFA;\n",
              "      box-shadow: 0px 1px 2px rgba(60, 64, 67, 0.3), 0px 1px 3px 1px rgba(60, 64, 67, 0.15);\n",
              "      fill: #174EA6;\n",
              "    }\n",
              "\n",
              "    [theme=dark] .colab-df-convert {\n",
              "      background-color: #3B4455;\n",
              "      fill: #D2E3FC;\n",
              "    }\n",
              "\n",
              "    [theme=dark] .colab-df-convert:hover {\n",
              "      background-color: #434B5C;\n",
              "      box-shadow: 0px 1px 3px 1px rgba(0, 0, 0, 0.15);\n",
              "      filter: drop-shadow(0px 1px 2px rgba(0, 0, 0, 0.3));\n",
              "      fill: #FFFFFF;\n",
              "    }\n",
              "  </style>\n",
              "\n",
              "      <script>\n",
              "        const buttonEl =\n",
              "          document.querySelector('#df-c9a12117-2209-4be9-9b00-fb884e212785 button.colab-df-convert');\n",
              "        buttonEl.style.display =\n",
              "          google.colab.kernel.accessAllowed ? 'block' : 'none';\n",
              "\n",
              "        async function convertToInteractive(key) {\n",
              "          const element = document.querySelector('#df-c9a12117-2209-4be9-9b00-fb884e212785');\n",
              "          const dataTable =\n",
              "            await google.colab.kernel.invokeFunction('convertToInteractive',\n",
              "                                                     [key], {});\n",
              "          if (!dataTable) return;\n",
              "\n",
              "          const docLinkHtml = 'Like what you see? Visit the ' +\n",
              "            '<a target=\"_blank\" href=https://colab.research.google.com/notebooks/data_table.ipynb>data table notebook</a>'\n",
              "            + ' to learn more about interactive tables.';\n",
              "          element.innerHTML = '';\n",
              "          dataTable['output_type'] = 'display_data';\n",
              "          await google.colab.output.renderOutput(dataTable, element);\n",
              "          const docLink = document.createElement('div');\n",
              "          docLink.innerHTML = docLinkHtml;\n",
              "          element.appendChild(docLink);\n",
              "        }\n",
              "      </script>\n",
              "    </div>\n",
              "  </div>\n"
            ]
          },
          "metadata": {},
          "execution_count": 11
        }
      ]
    },
    {
      "cell_type": "markdown",
      "id": "nUfunJIfX348",
      "metadata": {
        "id": "nUfunJIfX348"
      },
      "source": [
        "**Столбец 'children'.**"
      ]
    },
    {
      "cell_type": "code",
      "execution_count": 12,
      "id": "zpkw5j3gRdUW",
      "metadata": {
        "colab": {
          "base_uri": "https://localhost:8080/"
        },
        "id": "zpkw5j3gRdUW",
        "outputId": "638dcbfa-44a4-45a0-d8ac-0474ab03b9ee"
      },
      "outputs": [
        {
          "output_type": "stream",
          "name": "stdout",
          "text": [
            "-1        47\n",
            " 0     14149\n",
            " 1      4818\n",
            " 2      2055\n",
            " 3       330\n",
            " 4        41\n",
            " 5         9\n",
            " 20       76\n",
            "Name: children, dtype: int64\n"
          ]
        }
      ],
      "source": [
        "counted_values_children = df['children'].value_counts().sort_index()\n",
        "print(counted_values_children)"
      ]
    },
    {
      "cell_type": "code",
      "execution_count": 13,
      "id": "S8cpYH0QTvvf",
      "metadata": {
        "colab": {
          "base_uri": "https://localhost:8080/"
        },
        "id": "S8cpYH0QTvvf",
        "outputId": "125622e7-003c-47ee-b45a-7e8a6d2dec53"
      },
      "outputs": [
        {
          "output_type": "stream",
          "name": "stdout",
          "text": [
            "Процент значений -1 в столбце 'children': 0.218%\n",
            "Процент значений 20 в столбце 'children': 0.353%\n"
          ]
        }
      ],
      "source": [
        "perc_children_print_1 = counted_values_children[-1] / len(df['children'])\n",
        "perc_children_print_2 = counted_values_children[20] / len(df['children'])\n",
        "print(f'Процент значений -1 в столбце \\'children\\': {perc_children_print_1:.3%}')\n",
        "print(f'Процент значений 20 в столбце \\'children\\': {perc_children_print_2:.3%}')"
      ]
    },
    {
      "cell_type": "markdown",
      "id": "_UY_sKqvShG0",
      "metadata": {
        "id": "_UY_sKqvShG0"
      },
      "source": [
        "Можно заметить, что выделяются значения -1 и 20. Теоретически 20 детей возможный случай, но такое большое количество строк (больше чем 4 и 5 вместе) очень маловероятно. Количество строк с аномальными значениями небольшое по отношению к общему числу строк."
      ]
    },
    {
      "cell_type": "markdown",
      "id": "6Zr-5L6NXPco",
      "metadata": {
        "id": "6Zr-5L6NXPco"
      },
      "source": [
        "В реальности можно попытаться выяснить с чем связаны эти ошибки заполнения и какое должно быть значение. Можно предположить, что -1 = 1, 20 = 2 (как наиболее возможные опечатки), либо 20 это маркер для пропущенных значений. Так как количество таких значений небольшое удалим их из датасета."
      ]
    },
    {
      "cell_type": "code",
      "execution_count": 14,
      "id": "k431bYQiXSqe",
      "metadata": {
        "colab": {
          "base_uri": "https://localhost:8080/"
        },
        "id": "k431bYQiXSqe",
        "outputId": "28ce1743-a411-404e-fd1c-1ac7bed048d4"
      },
      "outputs": [
        {
          "output_type": "stream",
          "name": "stdout",
          "text": [
            "0    14149\n",
            "1     4818\n",
            "2     2055\n",
            "3      330\n",
            "4       41\n",
            "5        9\n",
            "Name: children, dtype: int64\n"
          ]
        }
      ],
      "source": [
        "df = df.drop(df[df['children'].isin([-1, 20])].index)\n",
        "\n",
        "print(df['children'].value_counts())"
      ]
    },
    {
      "cell_type": "markdown",
      "id": "y7YmiatOX9iK",
      "metadata": {
        "id": "y7YmiatOX9iK"
      },
      "source": [
        "**Столбец 'days_employed'.**"
      ]
    },
    {
      "cell_type": "code",
      "execution_count": 15,
      "id": "AtgRbQLOYGJi",
      "metadata": {
        "colab": {
          "base_uri": "https://localhost:8080/"
        },
        "id": "AtgRbQLOYGJi",
        "outputId": "825d3513-f73c-4392-9474-7ca066b59b70"
      },
      "outputs": [
        {
          "output_type": "stream",
          "name": "stdout",
          "text": [
            "6954    401755.400\n",
            "10006   401715.812\n",
            "7664    401675.093\n",
            "2156    401674.467\n",
            "7794    401663.850\n",
            "Name: days_employed, dtype: float64\n",
            "16825   -16119.688\n",
            "17838   -16264.700\n",
            "7329    -16593.473\n",
            "4299    -17615.563\n",
            "16335   -18388.950\n",
            "Name: days_employed, dtype: float64\n"
          ]
        }
      ],
      "source": [
        "print(df['days_employed'].dropna().sort_values(ascending=False).head())\n",
        "print(df['days_employed'].dropna().sort_values(ascending=False).tail())"
      ]
    },
    {
      "cell_type": "code",
      "execution_count": 16,
      "id": "Kr30v0z3YQ1W",
      "metadata": {
        "colab": {
          "base_uri": "https://localhost:8080/",
          "height": 487
        },
        "id": "Kr30v0z3YQ1W",
        "outputId": "9d5f96c7-da3f-45a7-c672-19bdcc180b5f"
      },
      "outputs": [
        {
          "output_type": "display_data",
          "data": {
            "text/plain": [
              "<Figure size 1000x500 with 1 Axes>"
            ],
            "image/png": "[encoded data removed]"
          },
          "metadata": {}
        }
      ],
      "source": [
        "sns.histplot(df['days_employed']).set(title=('Распределение трудового стажа'),\n",
        "                                      xlabel='Дни трудового стажа (день)',\n",
        "                                      ylabel='Количество (шт.)')\n",
        "\n",
        "plt.show()"
      ]
    },
    {
      "cell_type": "markdown",
      "id": "zisBlyzmYVZp",
      "metadata": {
        "id": "zisBlyzmYVZp"
      },
      "source": [
        "Можно заметить, большое количество отрицательных значений, и также некоторое количество теоретически невозможных значений (трудовой стаж превышающий 100 лет).\n",
        "\n",
        "Исправим отрицательные значения на положительные. Непонятна природа аномально высоких значений: это могут быть например часы или пропуски, которые по какой-то причине трансформировались в аномальные значения для этого признака."
      ]
    },
    {
      "cell_type": "code",
      "execution_count": 17,
      "id": "YDsY5ZFKZ_pr",
      "metadata": {
        "id": "YDsY5ZFKZ_pr"
      },
      "outputs": [],
      "source": [
        "df['days_employed'] = df['days_employed'].abs()"
      ]
    },
    {
      "cell_type": "code",
      "execution_count": 18,
      "id": "leHJiTxKaHSx",
      "metadata": {
        "colab": {
          "base_uri": "https://localhost:8080/",
          "height": 487
        },
        "id": "leHJiTxKaHSx",
        "outputId": "8c8cf0a5-9e8c-4d4b-e499-9b8339964d1a"
      },
      "outputs": [
        {
          "output_type": "display_data",
          "data": {
            "text/plain": [
              "<Figure size 1000x500 with 1 Axes>"
            ],
            "image/png": "[encoded data removed]"
          },
          "metadata": {}
        }
      ],
      "source": [
        "sns.histplot(df['days_employed']).set(title=('Распределение трудового стажа'),\n",
        "                                      xlabel='Дни трудового стажа (день)',\n",
        "                                      ylabel='Количество (шт.)')\n",
        "\n",
        "plt.show()"
      ]
    },
    {
      "cell_type": "markdown",
      "source": [
        "Посмотрим количество и процентальное отношение аномально высоких значений. Поставим отсечку в 50 лет, как максимально возможный трудовой стаж."
      ],
      "metadata": {
        "id": "8WE_2v2IPJec"
      },
      "id": "8WE_2v2IPJec"
    },
    {
      "cell_type": "code",
      "source": [
        "print('Количество аномальных значений:', df[df['days_employed'] > 50 * 365]['days_employed'].count())\n",
        "\n",
        "perc_d_employed_anom = (df[df['days_employed'] > 50 * 365]['days_employed'].count() / df['days_employed'].count())\n",
        "print(f'Процент аномальных значений в столбце \\'days_employed\\': {perc_d_employed_anom:.3%}')"
      ],
      "metadata": {
        "colab": {
          "base_uri": "https://localhost:8080/"
        },
        "id": "W6EE2c1aPbk8",
        "outputId": "de3bafd1-c54e-4807-f6b1-e677d2b4841f"
      },
      "id": "W6EE2c1aPbk8",
      "execution_count": 19,
      "outputs": [
        {
          "output_type": "stream",
          "name": "stdout",
          "text": [
            "Количество аномальных значений: 3432\n",
            "Процент аномальных значений в столбце 'days_employed': 17.838%\n"
          ]
        }
      ]
    },
    {
      "cell_type": "markdown",
      "source": [
        "Большое количество аномальных значений, не убдем их удалять, так как в этих строках может содержаться ценные данные по другим признакам."
      ],
      "metadata": {
        "id": "si8ddgntUCve"
      },
      "id": "si8ddgntUCve"
    },
    {
      "cell_type": "markdown",
      "id": "TwyjKvKmDpsu",
      "metadata": {
        "id": "TwyjKvKmDpsu"
      },
      "source": [
        "Гистограмма не очень хорошо отображается из-за аномально высоких значений. Отфильтруем их и построим новую."
      ]
    },
    {
      "cell_type": "code",
      "source": [
        "days_employed_filt = df[df['days_employed'] < 50 * 365]['days_employed']"
      ],
      "metadata": {
        "id": "VNBxEEqYmd36"
      },
      "id": "VNBxEEqYmd36",
      "execution_count": 20,
      "outputs": []
    },
    {
      "cell_type": "code",
      "execution_count": 21,
      "id": "OXYFiSQQeT54",
      "metadata": {
        "colab": {
          "base_uri": "https://localhost:8080/",
          "height": 487
        },
        "id": "OXYFiSQQeT54",
        "outputId": "c7d4b3f1-dafa-470c-851a-61c015667758"
      },
      "outputs": [
        {
          "output_type": "display_data",
          "data": {
            "text/plain": [
              "<Figure size 1000x500 with 1 Axes>"
            ],
            "image/png": "[encoded data removed]"
          },
          "metadata": {}
        }
      ],
      "source": [
        "sns.histplot(days_employed_filt).set(title=('Распределение трудового стажа'),\n",
        "                                     xlabel='Дни трудового стажа (день)',\n",
        "                                     ylabel='Количество (шт.)')\n",
        "\n",
        "plt.show()"
      ]
    },
    {
      "cell_type": "markdown",
      "id": "fio_C1X-EDL0",
      "metadata": {
        "id": "fio_C1X-EDL0"
      },
      "source": [
        "Как видно по гистограмме, количество людей немного возрастает от 0 дней трудового стажа, а затем начинает постепенно снижаться с возрастанием трудового стажа."
      ]
    },
    {
      "cell_type": "markdown",
      "id": "1W3FOs7Pa8hK",
      "metadata": {
        "id": "1W3FOs7Pa8hK"
      },
      "source": [
        "Столбец 'dob_years'."
      ]
    },
    {
      "cell_type": "code",
      "execution_count": 22,
      "id": "MRKuIILsbPqx",
      "metadata": {
        "colab": {
          "base_uri": "https://localhost:8080/"
        },
        "id": "MRKuIILsbPqx",
        "outputId": "7a234e39-a5ef-4a3c-cc20-5900b33bdc1b"
      },
      "outputs": [
        {
          "output_type": "stream",
          "name": "stdout",
          "text": [
            "0     100\n",
            "19     14\n",
            "20     51\n",
            "21    110\n",
            "22    183\n",
            "Name: dob_years, dtype: int64\n",
            "71    58\n",
            "72    33\n",
            "73     8\n",
            "74     6\n",
            "75     1\n",
            "Name: dob_years, dtype: int64\n"
          ]
        }
      ],
      "source": [
        "counted_values_d_years = df['dob_years'].value_counts().sort_index()\n",
        "print(counted_values_d_years.head())\n",
        "print(counted_values_d_years.tail())"
      ]
    },
    {
      "cell_type": "code",
      "execution_count": 23,
      "id": "qWxAa3exRdbt",
      "metadata": {
        "colab": {
          "base_uri": "https://localhost:8080/"
        },
        "id": "qWxAa3exRdbt",
        "outputId": "493d8206-a9e7-4036-f74c-0dd6bfc32bee"
      },
      "outputs": [
        {
          "output_type": "stream",
          "name": "stdout",
          "text": [
            "Процент значений 0 в столбце 'dob_years': 0.467%\n"
          ]
        }
      ],
      "source": [
        "perc_d_years_print = counted_values_d_years[0] / len(df['dob_years'])\n",
        "print(f'Процент значений 0 в столбце \\'dob_years\\': {perc_d_years_print:.3%}')"
      ]
    },
    {
      "cell_type": "markdown",
      "id": "osm6VRdVRT21",
      "metadata": {
        "id": "osm6VRdVRT21"
      },
      "source": [
        "Из аномальных значений можно выделить только 0 лет. Процент строк со значением 0 к общему количеству строк маленький. Удалим эти строки."
      ]
    },
    {
      "cell_type": "code",
      "source": [
        "df = df.drop(df[df['dob_years'] == 0].index)\n",
        "\n",
        "print(df['dob_years'].value_counts().sort_index().head())"
      ],
      "metadata": {
        "colab": {
          "base_uri": "https://localhost:8080/"
        },
        "id": "6Au67nnrhC4G",
        "outputId": "e4da7126-3124-42e4-8a5d-62e9afa882ed"
      },
      "id": "6Au67nnrhC4G",
      "execution_count": 24,
      "outputs": [
        {
          "output_type": "stream",
          "name": "stdout",
          "text": [
            "19     14\n",
            "20     51\n",
            "21    110\n",
            "22    183\n",
            "23    252\n",
            "Name: dob_years, dtype: int64\n"
          ]
        }
      ]
    },
    {
      "cell_type": "markdown",
      "id": "25o1_FFPSTB3",
      "metadata": {
        "id": "25o1_FFPSTB3"
      },
      "source": [
        "**Столбец 'education' и 'education_id'.**"
      ]
    },
    {
      "cell_type": "code",
      "execution_count": 25,
      "id": "S8nqxAwUSYLP",
      "metadata": {
        "colab": {
          "base_uri": "https://localhost:8080/"
        },
        "id": "S8nqxAwUSYLP",
        "outputId": "e66b64d0-34a9-4870-d343-ca196839c578"
      },
      "outputs": [
        {
          "output_type": "execute_result",
          "data": {
            "text/plain": [
              "среднее                13609\n",
              "высшее                  4666\n",
              "СРЕДНЕЕ                  764\n",
              "Среднее                  700\n",
              "неоконченное высшее      663\n",
              "ВЫСШЕЕ                   270\n",
              "Высшее                   266\n",
              "начальное                250\n",
              "Неоконченное высшее       47\n",
              "НЕОКОНЧЕННОЕ ВЫСШЕЕ       29\n",
              "НАЧАЛЬНОЕ                 17\n",
              "Начальное                 15\n",
              "ученая степень             4\n",
              "Ученая степень             1\n",
              "УЧЕНАЯ СТЕПЕНЬ             1\n",
              "Name: education, dtype: int64"
            ]
          },
          "metadata": {},
          "execution_count": 25
        }
      ],
      "source": [
        "df['education'].value_counts()"
      ]
    },
    {
      "cell_type": "markdown",
      "id": "yWTOZReRShCF",
      "metadata": {
        "id": "yWTOZReRShCF"
      },
      "source": [
        "Категориальная переменная, аномальных значений нет, есть неявные дубликаты. Поправим их в дальнейшем."
      ]
    },
    {
      "cell_type": "code",
      "execution_count": 26,
      "id": "nYIudKIXTDia",
      "metadata": {
        "colab": {
          "base_uri": "https://localhost:8080/"
        },
        "id": "nYIudKIXTDia",
        "outputId": "6e7578ca-1d59-400b-cdb4-b0fc4c13a938"
      },
      "outputs": [
        {
          "output_type": "execute_result",
          "data": {
            "text/plain": [
              "0     5202\n",
              "1    15073\n",
              "2      739\n",
              "3      282\n",
              "4        6\n",
              "Name: education_id, dtype: int64"
            ]
          },
          "metadata": {},
          "execution_count": 26
        }
      ],
      "source": [
        "df['education_id'].value_counts().sort_index()"
      ]
    },
    {
      "cell_type": "markdown",
      "id": "gE-KryZTTS7t",
      "metadata": {
        "id": "gE-KryZTTS7t"
      },
      "source": [
        "Категориальная переменная, аномальных значений нет. Столбцы 'education' и 'education_id' связаны. Столбец 'education' и его связь с 'education_id' стоит вынести в отдельный датасет."
      ]
    },
    {
      "cell_type": "markdown",
      "id": "P2lSXRQdUmqt",
      "metadata": {
        "id": "P2lSXRQdUmqt"
      },
      "source": [
        "**Столбцы 'family_status' и 'family_status_id'.**"
      ]
    },
    {
      "cell_type": "code",
      "execution_count": 27,
      "id": "5NfAAOxCUvzk",
      "metadata": {
        "colab": {
          "base_uri": "https://localhost:8080/"
        },
        "id": "5NfAAOxCUvzk",
        "outputId": "028a7e3f-26ac-42c7-9d06-58d761e18d31"
      },
      "outputs": [
        {
          "output_type": "execute_result",
          "data": {
            "text/plain": [
              "женат / замужем          12254\n",
              "гражданский брак          4139\n",
              "Не женат / не замужем     2783\n",
              "в разводе                 1179\n",
              "вдовец / вдова             947\n",
              "Name: family_status, dtype: int64"
            ]
          },
          "metadata": {},
          "execution_count": 27
        }
      ],
      "source": [
        "df['family_status'].value_counts()"
      ]
    },
    {
      "cell_type": "markdown",
      "id": "ffbPtVViXFHE",
      "metadata": {
        "id": "ffbPtVViXFHE"
      },
      "source": [
        "Категориальная переменная, аномальных значений нет, есть заглавные буквы. Поправим."
      ]
    },
    {
      "cell_type": "code",
      "execution_count": 28,
      "id": "YGr7m9wAXQew",
      "metadata": {
        "colab": {
          "base_uri": "https://localhost:8080/"
        },
        "id": "YGr7m9wAXQew",
        "outputId": "c08f4e49-aeaf-41f0-a0bd-49c694cd1a8b"
      },
      "outputs": [
        {
          "output_type": "execute_result",
          "data": {
            "text/plain": [
              "женат / замужем          12254\n",
              "гражданский брак          4139\n",
              "не женат / не замужем     2783\n",
              "в разводе                 1179\n",
              "вдовец / вдова             947\n",
              "Name: family_status, dtype: int64"
            ]
          },
          "metadata": {},
          "execution_count": 28
        }
      ],
      "source": [
        "df['family_status'] = df['family_status'].str.lower()\n",
        "df['family_status'].value_counts()"
      ]
    },
    {
      "cell_type": "markdown",
      "id": "_WIzhfOLkJHP",
      "metadata": {
        "id": "_WIzhfOLkJHP"
      },
      "source": [
        "Законодательно \"гражданский брак\" - это обычный брак зарегистрированный в государственных органах и таким образом он является неявным дубликатом \"женат / замужем\". Возможно имеется ввиду, то что обывательски подразумевается под гражданским браком - сожительство. Можно было бы запрость у отвественных за заполнение, что имелось ввиду. Примем вариант, что имеется ввиду сожительство."
      ]
    },
    {
      "cell_type": "code",
      "execution_count": 29,
      "id": "AtYe6uHqXmv4",
      "metadata": {
        "colab": {
          "base_uri": "https://localhost:8080/"
        },
        "id": "AtYe6uHqXmv4",
        "outputId": "2ea1913c-c9e7-4337-e03c-9fff1d57d0b0"
      },
      "outputs": [
        {
          "output_type": "execute_result",
          "data": {
            "text/plain": [
              "0    12254\n",
              "1     4139\n",
              "2      947\n",
              "3     1179\n",
              "4     2783\n",
              "Name: family_status_id, dtype: int64"
            ]
          },
          "metadata": {},
          "execution_count": 29
        }
      ],
      "source": [
        "df['family_status_id'].value_counts().sort_index()"
      ]
    },
    {
      "cell_type": "markdown",
      "id": "B7Gwq7QxXuco",
      "metadata": {
        "id": "B7Gwq7QxXuco"
      },
      "source": [
        "Категориальная переменная, аномальных значений нет. Столбцы 'family_status' и 'family_status_id' связаны. Столбец 'family_status' и его связь с 'family_status_id' стоит вынести в отдельный датасет."
      ]
    },
    {
      "cell_type": "markdown",
      "id": "m7k2c6e9X4U4",
      "metadata": {
        "id": "m7k2c6e9X4U4"
      },
      "source": [
        "**Столбец 'gender'.**"
      ]
    },
    {
      "cell_type": "code",
      "execution_count": 30,
      "id": "P0bj9QrRX_A6",
      "metadata": {
        "colab": {
          "base_uri": "https://localhost:8080/"
        },
        "id": "P0bj9QrRX_A6",
        "outputId": "417b3524-fbf9-4fcb-d33e-50650314c60c"
      },
      "outputs": [
        {
          "output_type": "execute_result",
          "data": {
            "text/plain": [
              "F      14083\n",
              "M       7218\n",
              "XNA        1\n",
              "Name: gender, dtype: int64"
            ]
          },
          "metadata": {},
          "execution_count": 30
        }
      ],
      "source": [
        "df['gender'].value_counts()"
      ]
    },
    {
      "cell_type": "markdown",
      "id": "Hlm9BWFdYRMw",
      "metadata": {
        "id": "Hlm9BWFdYRMw"
      },
      "source": [
        "Категориальная переменная, аномальное значение одно - XNA. В предоставленных данных не указано какие значениям может принимать данный столбец и что может значить XNA (нежелание указывать, небинарного человека и т.п.). Удалим это значение."
      ]
    },
    {
      "cell_type": "code",
      "source": [
        "df = df.drop(df[df['gender'] == 'XNA'].index)"
      ],
      "metadata": {
        "id": "XINlzbZ8jGal"
      },
      "id": "XINlzbZ8jGal",
      "execution_count": 31,
      "outputs": []
    },
    {
      "cell_type": "code",
      "source": [
        "df['gender'].value_counts()"
      ],
      "metadata": {
        "colab": {
          "base_uri": "https://localhost:8080/"
        },
        "id": "wC9RHGvkjN5r",
        "outputId": "0a691ea9-f7e5-4f18-d0da-48d7ef875389"
      },
      "id": "wC9RHGvkjN5r",
      "execution_count": 32,
      "outputs": [
        {
          "output_type": "execute_result",
          "data": {
            "text/plain": [
              "F    14083\n",
              "M     7218\n",
              "Name: gender, dtype: int64"
            ]
          },
          "metadata": {},
          "execution_count": 32
        }
      ]
    },
    {
      "cell_type": "markdown",
      "id": "ay3Akrj8Yt5J",
      "metadata": {
        "id": "ay3Akrj8Yt5J"
      },
      "source": [
        "**Столбец 'income_type'.**"
      ]
    },
    {
      "cell_type": "code",
      "execution_count": 33,
      "id": "h2a1V9-vY2bP",
      "metadata": {
        "colab": {
          "base_uri": "https://localhost:8080/"
        },
        "id": "h2a1V9-vY2bP",
        "outputId": "805e9ecd-38f4-44c2-b819-02346703c95c"
      },
      "outputs": [
        {
          "output_type": "execute_result",
          "data": {
            "text/plain": [
              "сотрудник          10996\n",
              "компаньон           5033\n",
              "пенсионер           3819\n",
              "госслужащий         1447\n",
              "безработный            2\n",
              "предприниматель        2\n",
              "студент                1\n",
              "в декрете              1\n",
              "Name: income_type, dtype: int64"
            ]
          },
          "metadata": {},
          "execution_count": 33
        }
      ],
      "source": [
        "df['income_type'].value_counts()"
      ]
    },
    {
      "cell_type": "markdown",
      "id": "bE6Wn0zPY9N0",
      "metadata": {
        "id": "bE6Wn0zPY9N0"
      },
      "source": [
        "Категориальная переменная, аномальных значений нет."
      ]
    },
    {
      "cell_type": "markdown",
      "id": "jOwWu4R5ZFBO",
      "metadata": {
        "id": "jOwWu4R5ZFBO"
      },
      "source": [
        "**Столбец 'debt'.**"
      ]
    },
    {
      "cell_type": "code",
      "execution_count": 34,
      "id": "D4lH_vKpZH7A",
      "metadata": {
        "colab": {
          "base_uri": "https://localhost:8080/"
        },
        "id": "D4lH_vKpZH7A",
        "outputId": "bdf1977c-80bd-4d94-d902-ef16f7d6ab6a"
      },
      "outputs": [
        {
          "output_type": "execute_result",
          "data": {
            "text/plain": [
              "0    19577\n",
              "1     1724\n",
              "Name: debt, dtype: int64"
            ]
          },
          "metadata": {},
          "execution_count": 34
        }
      ],
      "source": [
        "df['debt'].value_counts()"
      ]
    },
    {
      "cell_type": "markdown",
      "id": "mCGD4b4jZMdc",
      "metadata": {
        "id": "mCGD4b4jZMdc"
      },
      "source": [
        "Категориальная переменная, аномальных значений нет."
      ]
    },
    {
      "cell_type": "markdown",
      "id": "Byr78UZSZNd6",
      "metadata": {
        "id": "Byr78UZSZNd6"
      },
      "source": [
        "**Столбец 'total_income'.**"
      ]
    },
    {
      "cell_type": "code",
      "execution_count": 35,
      "id": "b-rgL8OaZ0E1",
      "metadata": {
        "colab": {
          "base_uri": "https://localhost:8080/"
        },
        "id": "b-rgL8OaZ0E1",
        "outputId": "4c967804-7a40-45c1-9ca1-74d1a708074f"
      },
      "outputs": [
        {
          "output_type": "stream",
          "name": "stdout",
          "text": [
            "12412   2265604.029\n",
            "19606   2200852.210\n",
            "9169    1726276.014\n",
            "20809   1715018.393\n",
            "17178   1711309.268\n",
            "Name: total_income, dtype: float64\n",
            "14276   21895.614\n",
            "1598    21695.102\n",
            "16174   21367.648\n",
            "13006   21205.281\n",
            "14585   20667.264\n",
            "Name: total_income, dtype: float64\n"
          ]
        }
      ],
      "source": [
        "print(df['total_income'].dropna().sort_values(ascending=False).head())\n",
        "print(df['total_income'].dropna().sort_values(ascending=False).tail())"
      ]
    },
    {
      "cell_type": "code",
      "execution_count": 36,
      "id": "7YgoDd34Z2-R",
      "metadata": {
        "colab": {
          "base_uri": "https://localhost:8080/",
          "height": 487
        },
        "id": "7YgoDd34Z2-R",
        "outputId": "99eb40da-2194-45b0-d641-775df1dadc3a"
      },
      "outputs": [
        {
          "output_type": "display_data",
          "data": {
            "text/plain": [
              "<Figure size 1000x500 with 1 Axes>"
            ],
            "image/png": "[encoded data removed]"
          },
          "metadata": {}
        }
      ],
      "source": [
        "sns.histplot(df['total_income']).set(title=('Распределение ежемесячного дохода'),\n",
        "                                     xlabel='Ежемесячный доход (руб.)',\n",
        "                                     ylabel='Количество (шт.)')\n",
        "\n",
        "plt.show()"
      ]
    },
    {
      "cell_type": "markdown",
      "id": "aEqn4cdzZ44P",
      "metadata": {
        "id": "aEqn4cdzZ44P"
      },
      "source": [
        "Аномальных значений нет."
      ]
    },
    {
      "cell_type": "markdown",
      "id": "JNTLsZiUZ_vR",
      "metadata": {
        "id": "JNTLsZiUZ_vR"
      },
      "source": [
        "**Столбец 'purpose'.**"
      ]
    },
    {
      "cell_type": "code",
      "execution_count": 37,
      "id": "a5rIguiMaDhl",
      "metadata": {
        "colab": {
          "base_uri": "https://localhost:8080/"
        },
        "id": "a5rIguiMaDhl",
        "outputId": "e5b378e1-3977-4e91-8bce-a9648479ef61"
      },
      "outputs": [
        {
          "output_type": "execute_result",
          "data": {
            "text/plain": [
              "свадьба                                   791\n",
              "на проведение свадьбы                     768\n",
              "сыграть свадьбу                           764\n",
              "операции с недвижимостью                  670\n",
              "покупка коммерческой недвижимости         658\n",
              "покупка жилья для сдачи                   649\n",
              "операции с коммерческой недвижимостью     644\n",
              "операции с жильем                         642\n",
              "покупка жилья для семьи                   639\n",
              "жилье                                     636\n",
              "покупка жилья                             635\n",
              "недвижимость                              628\n",
              "операции со своей недвижимостью           626\n",
              "строительство собственной недвижимости    626\n",
              "строительство недвижимости                620\n",
              "строительство жилой недвижимости          619\n",
              "покупка своего жилья                      618\n",
              "покупка недвижимости                      615\n",
              "ремонт жилью                              607\n",
              "покупка жилой недвижимости                600\n",
              "на покупку своего автомобиля              501\n",
              "заняться высшим образованием              493\n",
              "автомобиль                                488\n",
              "сделка с подержанным автомобилем          482\n",
              "автомобили                                474\n",
              "на покупку подержанного автомобиля        472\n",
              "свой автомобиль                           472\n",
              "на покупку автомобиля                     466\n",
              "приобретение автомобиля                   458\n",
              "дополнительное образование                455\n",
              "сделка с автомобилем                      454\n",
              "высшее образование                        444\n",
              "получение дополнительного образования     443\n",
              "получение образования                     440\n",
              "образование                               439\n",
              "профильное образование                    431\n",
              "получение высшего образования             423\n",
              "заняться образованием                     411\n",
              "Name: purpose, dtype: int64"
            ]
          },
          "metadata": {},
          "execution_count": 37
        }
      ],
      "source": [
        "df['purpose'].value_counts()"
      ]
    },
    {
      "cell_type": "markdown",
      "id": "grAj_bO_aM-5",
      "metadata": {
        "id": "grAj_bO_aM-5"
      },
      "source": [
        "Категориальная переменная, аномальных значений нет, есть схожие цели кредитов, для группировки нужен либо столбец с суммами кредитов, либо столбец с категориями кредитов (как 'education_id' и 'family_status_id'). \"ремонт жилью\" переименуем в \"ремонт жилья\".\n"
      ]
    },
    {
      "cell_type": "code",
      "source": [
        "df['purpose'] = df['purpose'].replace('ремонт жилью', 'ремонт жилья')"
      ],
      "metadata": {
        "id": "PW4O__ozkKLY"
      },
      "id": "PW4O__ozkKLY",
      "execution_count": 38,
      "outputs": []
    },
    {
      "cell_type": "code",
      "source": [
        "print((df['purpose'] == 'ремонт жилью').sum())\n",
        "print((df['purpose'] == 'ремонт жилья').sum())"
      ],
      "metadata": {
        "colab": {
          "base_uri": "https://localhost:8080/"
        },
        "id": "5P1A7EJ2kbSt",
        "outputId": "9119412e-445a-41a2-b134-01068084c1e5"
      },
      "id": "5P1A7EJ2kbSt",
      "execution_count": 39,
      "outputs": [
        {
          "output_type": "stream",
          "name": "stdout",
          "text": [
            "0\n",
            "607\n"
          ]
        }
      ]
    },
    {
      "cell_type": "markdown",
      "id": "c293c1f8",
      "metadata": {
        "id": "c293c1f8"
      },
      "source": [
        "### 2.2 Заполнение пропусков"
      ]
    },
    {
      "cell_type": "markdown",
      "id": "7HapCK4nK-m9",
      "metadata": {
        "id": "7HapCK4nK-m9"
      },
      "source": [
        "Подсчитаем пропуски."
      ]
    },
    {
      "cell_type": "code",
      "execution_count": 40,
      "id": "74f5402c",
      "metadata": {
        "colab": {
          "base_uri": "https://localhost:8080/"
        },
        "id": "74f5402c",
        "outputId": "2a46ff96-a78c-4f64-8793-71d0d4173657"
      },
      "outputs": [
        {
          "output_type": "execute_result",
          "data": {
            "text/plain": [
              "children               0\n",
              "days_employed       2152\n",
              "dob_years              0\n",
              "education              0\n",
              "education_id           0\n",
              "family_status          0\n",
              "family_status_id       0\n",
              "gender                 0\n",
              "income_type            0\n",
              "debt                   0\n",
              "total_income        2152\n",
              "purpose                0\n",
              "dtype: int64"
            ]
          },
          "metadata": {},
          "execution_count": 40
        }
      ],
      "source": [
        "df.isna().sum()"
      ]
    },
    {
      "cell_type": "markdown",
      "id": "sHLA62bxNFWJ",
      "metadata": {
        "id": "sHLA62bxNFWJ"
      },
      "source": [
        "Значения пропущены в столбцах показывающих общий трудовой стаж в днях ('days_employed') и ежемесячный доход ('total_income')."
      ]
    },
    {
      "cell_type": "markdown",
      "id": "5OiPVCHDLoH8",
      "metadata": {
        "id": "5OiPVCHDLoH8"
      },
      "source": [
        "Подсчитаем процент пропущенных значений в столбцах 'days_employed' и 'total_income', так как количество пропусков одинаковое, считаем только для одного столбца."
      ]
    },
    {
      "cell_type": "code",
      "execution_count": 41,
      "id": "vQRaVeHnLH8I",
      "metadata": {
        "colab": {
          "base_uri": "https://localhost:8080/"
        },
        "id": "vQRaVeHnLH8I",
        "outputId": "cbcc7432-18e1-4c2c-9ef7-a9d5a9dbc1eb"
      },
      "outputs": [
        {
          "output_type": "stream",
          "name": "stdout",
          "text": [
            "Процент пропусков в days_employed: 10.1%\n",
            "Процент пропусков в total_income: 10.1%\n"
          ]
        }
      ],
      "source": [
        "perc_d_employed_print  = df['days_employed'].isna().sum() / len(df)\n",
        "\n",
        "print(f'Процент пропусков в days_employed: {perc_d_employed_print:.1%}')\n",
        "print(f'Процент пропусков в total_income: {perc_d_employed_print:.1%}')"
      ]
    },
    {
      "cell_type": "markdown",
      "id": "EeS4TgA1NqFr",
      "metadata": {
        "id": "EeS4TgA1NqFr"
      },
      "source": [
        "**Рассмотрим столбец 'days_employed'.**"
      ]
    },
    {
      "cell_type": "code",
      "execution_count": 42,
      "id": "HsdIYcuPN6ou",
      "metadata": {
        "colab": {
          "base_uri": "https://localhost:8080/"
        },
        "id": "HsdIYcuPN6ou",
        "outputId": "37edc1f3-1abd-44ed-f867-2884f219dd98"
      },
      "outputs": [
        {
          "output_type": "stream",
          "name": "stdout",
          "text": [
            "6954    401755.400\n",
            "10006   401715.812\n",
            "7664    401675.093\n",
            "2156    401674.467\n",
            "7794    401663.850\n",
            "Name: days_employed, dtype: float64\n",
            "2127    34.701\n",
            "9683    33.521\n",
            "6157    30.195\n",
            "8336    24.241\n",
            "17437   24.142\n",
            "Name: days_employed, dtype: float64\n"
          ]
        }
      ],
      "source": [
        "print(df['days_employed'].dropna().sort_values(ascending=False).head())\n",
        "print(df['days_employed'].dropna().sort_values(ascending=False).tail())"
      ]
    },
    {
      "cell_type": "markdown",
      "id": "H6EKl8RhOs0o",
      "metadata": {
        "id": "H6EKl8RhOs0o"
      },
      "source": [
        "В столбце 'days_employed' присутствуют аномально высокие значения. Отфильтруем их для подсчета медианы и заполнения пропусков (смотри пункт 2.1). Используем медиану, как более устойчивую к выбросам.\n",
        "\n"
      ]
    },
    {
      "cell_type": "code",
      "execution_count": 43,
      "id": "BAqLWJmXPLSZ",
      "metadata": {
        "colab": {
          "base_uri": "https://localhost:8080/",
          "height": 487
        },
        "id": "BAqLWJmXPLSZ",
        "outputId": "7a2b64a6-a0e3-45f6-81af-1c9929595586"
      },
      "outputs": [
        {
          "output_type": "display_data",
          "data": {
            "text/plain": [
              "<Figure size 1000x500 with 1 Axes>"
            ],
            "image/png": "[encoded data removed]"
          },
          "metadata": {}
        }
      ],
      "source": [
        "sns.histplot(days_employed_filt).set(title=('Распределение трудового стажа'),\n",
        "                                     xlabel='Дни трудового стажа (день)',\n",
        "                                     ylabel='Количество (шт.)')\n",
        "\n",
        "plt.show()"
      ]
    },
    {
      "cell_type": "code",
      "execution_count": 44,
      "id": "jcggh0tZdy7g",
      "metadata": {
        "colab": {
          "base_uri": "https://localhost:8080/"
        },
        "id": "jcggh0tZdy7g",
        "outputId": "7012ca95-d9d5-4259-8dd1-cb1b1c6dea81"
      },
      "outputs": [
        {
          "output_type": "execute_result",
          "data": {
            "text/plain": [
              "1630.3945349007106"
            ]
          },
          "metadata": {},
          "execution_count": 44
        }
      ],
      "source": [
        "days_employed_filt_median = days_employed_filt.median()\n",
        "days_employed_filt_median"
      ]
    },
    {
      "cell_type": "code",
      "execution_count": 45,
      "id": "g7iTuR4kb6Rl",
      "metadata": {
        "colab": {
          "base_uri": "https://localhost:8080/"
        },
        "id": "g7iTuR4kb6Rl",
        "outputId": "6419141d-42ac-4d4d-b7ee-8182f873c4c5"
      },
      "outputs": [
        {
          "output_type": "execute_result",
          "data": {
            "text/plain": [
              "0"
            ]
          },
          "metadata": {},
          "execution_count": 45
        }
      ],
      "source": [
        "df['days_employed'] = df['days_employed'].fillna(days_employed_filt_median)\n",
        "df['days_employed'].isna().sum()"
      ]
    },
    {
      "cell_type": "markdown",
      "id": "SEFtg-MvcC7W",
      "metadata": {
        "id": "SEFtg-MvcC7W"
      },
      "source": [
        "**Рассмотрим столбец 'total_income'.**"
      ]
    },
    {
      "cell_type": "code",
      "execution_count": 46,
      "id": "hutaGx1rOPmL",
      "metadata": {
        "colab": {
          "base_uri": "https://localhost:8080/"
        },
        "id": "hutaGx1rOPmL",
        "outputId": "ff38aeaa-1bef-4120-f761-a77c6fbadd6b"
      },
      "outputs": [
        {
          "output_type": "stream",
          "name": "stdout",
          "text": [
            "12412   2265604.029\n",
            "19606   2200852.210\n",
            "9169    1726276.014\n",
            "20809   1715018.393\n",
            "17178   1711309.268\n",
            "Name: total_income, dtype: float64\n",
            "14276   21895.614\n",
            "1598    21695.102\n",
            "16174   21367.648\n",
            "13006   21205.281\n",
            "14585   20667.264\n",
            "Name: total_income, dtype: float64\n"
          ]
        }
      ],
      "source": [
        "print(df['total_income'].dropna().sort_values(ascending=False).head())\n",
        "print(df['total_income'].dropna().sort_values(ascending=False).tail())"
      ]
    },
    {
      "cell_type": "code",
      "execution_count": 47,
      "id": "astv4gXEPcVb",
      "metadata": {
        "colab": {
          "base_uri": "https://localhost:8080/",
          "height": 487
        },
        "id": "astv4gXEPcVb",
        "outputId": "6ce18cb7-7b1d-480e-8ba7-da617560d8a7"
      },
      "outputs": [
        {
          "output_type": "display_data",
          "data": {
            "text/plain": [
              "<Figure size 1000x500 with 1 Axes>"
            ],
            "image/png": "[encoded data removed]"
          },
          "metadata": {}
        }
      ],
      "source": [
        "sns.histplot(df['total_income']).set(title=('Распределение ежемесячного дохода'),\n",
        "                                     xlabel='Ежемесячный доход (руб.)',\n",
        "                                     ylabel='Количество (шт.)')\n",
        "\n",
        "plt.show()"
      ]
    },
    {
      "cell_type": "markdown",
      "id": "p6VDGWoTdEN_",
      "metadata": {
        "id": "p6VDGWoTdEN_"
      },
      "source": [
        "Заполним пропуски медианой в 'total_income' там присутствуют несколько очень высоких значений заработной платы, среднее исказит данные."
      ]
    },
    {
      "cell_type": "code",
      "execution_count": 48,
      "id": "Kbu56xKgdUZy",
      "metadata": {
        "colab": {
          "base_uri": "https://localhost:8080/"
        },
        "id": "Kbu56xKgdUZy",
        "outputId": "f0bc0693-2de5-4a7b-a034-5be396f71bdb"
      },
      "outputs": [
        {
          "output_type": "stream",
          "name": "stdout",
          "text": [
            "167491.8688048186\n"
          ]
        },
        {
          "output_type": "execute_result",
          "data": {
            "text/plain": [
              "145017.93753253992"
            ]
          },
          "metadata": {},
          "execution_count": 48
        }
      ],
      "source": [
        "print(df['total_income'].mean())\n",
        "df['total_income'].median()"
      ]
    },
    {
      "cell_type": "code",
      "execution_count": 49,
      "id": "1df0407c",
      "metadata": {
        "colab": {
          "base_uri": "https://localhost:8080/"
        },
        "id": "1df0407c",
        "outputId": "28b61e56-c9c1-4410-9512-5a2a4f9335db"
      },
      "outputs": [
        {
          "output_type": "execute_result",
          "data": {
            "text/plain": [
              "0"
            ]
          },
          "metadata": {},
          "execution_count": 49
        }
      ],
      "source": [
        "df['total_income'] = df['total_income'].fillna(df['total_income'].median())\n",
        "df['total_income'].isna().sum()"
      ]
    },
    {
      "cell_type": "markdown",
      "id": "855fa6cf",
      "metadata": {
        "id": "855fa6cf"
      },
      "source": [
        "### 2.3 Изменение типов данных."
      ]
    },
    {
      "cell_type": "markdown",
      "id": "cYZoeY2-eyJn",
      "metadata": {
        "id": "cYZoeY2-eyJn"
      },
      "source": [
        "В столбцe 'total_income', данные представлены как вещественные числа. Для удобства заменим на целочисленные (дробная часть пренебрежительно мала по сравнению с целочисленной)."
      ]
    },
    {
      "cell_type": "code",
      "execution_count": 50,
      "id": "ed61fdd3",
      "metadata": {
        "colab": {
          "base_uri": "https://localhost:8080/"
        },
        "id": "ed61fdd3",
        "outputId": "11314271-73ce-4e16-9a8b-5f3444a4c751"
      },
      "outputs": [
        {
          "output_type": "execute_result",
          "data": {
            "text/plain": [
              "14585      20667\n",
              "13006      21205\n",
              "16174      21367\n",
              "1598       21695\n",
              "14276      21895\n",
              "          ...   \n",
              "17178    1711309\n",
              "20809    1715018\n",
              "9169     1726276\n",
              "19606    2200852\n",
              "12412    2265604\n",
              "Name: total_income, Length: 21301, dtype: int64"
            ]
          },
          "metadata": {},
          "execution_count": 50
        }
      ],
      "source": [
        "df['total_income'] = df['total_income'].astype('int64')\n",
        "df['total_income'].sort_values()"
      ]
    },
    {
      "cell_type": "markdown",
      "id": "d4297766",
      "metadata": {
        "id": "d4297766"
      },
      "source": [
        "### 2.4 Удаление дубликатов."
      ]
    },
    {
      "cell_type": "markdown",
      "id": "j5OOfLIqlLWu",
      "metadata": {
        "id": "j5OOfLIqlLWu"
      },
      "source": [
        "Так как не представлены уникальные номера клиентов, проверка на полные дубликаты не совсем корректна, могут быть люди у которых совпадут все значения строк. Для целей исследования предположим, что такие полные совпадения маловероятны. Проверку на полные дубликаты проведем после замены неявных дубликатов в конкретных столбцах."
      ]
    },
    {
      "cell_type": "markdown",
      "id": "RHYbSCW_j0z8",
      "metadata": {
        "id": "RHYbSCW_j0z8"
      },
      "source": [
        "Неявные дубликаты присутствуют в столбце 'education' (см. пункт 2.1)."
      ]
    },
    {
      "cell_type": "markdown",
      "id": "eu0o7gTBrod5",
      "metadata": {
        "id": "eu0o7gTBrod5"
      },
      "source": [
        "**Столбец 'education'.**"
      ]
    },
    {
      "cell_type": "code",
      "execution_count": 51,
      "id": "L5HlOlTbmEBT",
      "metadata": {
        "colab": {
          "base_uri": "https://localhost:8080/"
        },
        "id": "L5HlOlTbmEBT",
        "outputId": "5309d266-c08a-4cd0-8f04-d4625f6c994f"
      },
      "outputs": [
        {
          "output_type": "execute_result",
          "data": {
            "text/plain": [
              "array(['высшее', 'среднее', 'Среднее', 'СРЕДНЕЕ', 'ВЫСШЕЕ',\n",
              "       'неоконченное высшее', 'начальное', 'Высшее',\n",
              "       'НЕОКОНЧЕННОЕ ВЫСШЕЕ', 'Неоконченное высшее', 'НАЧАЛЬНОЕ',\n",
              "       'Начальное', 'Ученая степень', 'УЧЕНАЯ СТЕПЕНЬ', 'ученая степень'],\n",
              "      dtype=object)"
            ]
          },
          "metadata": {},
          "execution_count": 51
        }
      ],
      "source": [
        "df['education'].unique()"
      ]
    },
    {
      "cell_type": "markdown",
      "id": "3n1Ox_x_mao1",
      "metadata": {
        "id": "3n1Ox_x_mao1"
      },
      "source": [
        "Согласно 'education_id', у нас есть 5 категорий образования, примем их как:\n",
        "\n",
        "1.   'начальное'\n",
        "2.   'среднее'\n",
        "3.   'неоконченное высшее'\n",
        "4.   'высшее'\n",
        "5.   'ученая степень'\n",
        "\n"
      ]
    },
    {
      "cell_type": "markdown",
      "id": "lYACb5Xapyey",
      "metadata": {
        "id": "lYACb5Xapyey"
      },
      "source": [
        "Можем заметить, что разница в значениях только заглавные буквы. Применим метод lower(), предварительно обратившись к строке внутри Series."
      ]
    },
    {
      "cell_type": "code",
      "execution_count": 52,
      "id": "qWdsQqqWp0oU",
      "metadata": {
        "colab": {
          "base_uri": "https://localhost:8080/"
        },
        "id": "qWdsQqqWp0oU",
        "outputId": "34e8fe4f-a5ff-48ba-8a20-ed6b320c6c40"
      },
      "outputs": [
        {
          "output_type": "execute_result",
          "data": {
            "text/plain": [
              "array(['высшее', 'среднее', 'неоконченное высшее', 'начальное',\n",
              "       'ученая степень'], dtype=object)"
            ]
          },
          "metadata": {},
          "execution_count": 52
        }
      ],
      "source": [
        "df['education'] = df['education'].str.lower()\n",
        "df['education'].unique()"
      ]
    },
    {
      "cell_type": "markdown",
      "id": "howfXRYv1KWs",
      "metadata": {
        "id": "howfXRYv1KWs"
      },
      "source": [
        "В данном случае неочевидные дубликаты скорее всего появились в результате внесения текстовых данных в базу оператором."
      ]
    },
    {
      "cell_type": "markdown",
      "id": "QCSV18UJ0gBl",
      "metadata": {
        "id": "QCSV18UJ0gBl"
      },
      "source": [
        "**Обработаем явные дубликаты.**"
      ]
    },
    {
      "cell_type": "code",
      "execution_count": 53,
      "id": "HVeK4fL50kqW",
      "metadata": {
        "colab": {
          "base_uri": "https://localhost:8080/"
        },
        "id": "HVeK4fL50kqW",
        "outputId": "9283d92f-e58d-4aa8-d40d-639bddf38cee"
      },
      "outputs": [
        {
          "output_type": "execute_result",
          "data": {
            "text/plain": [
              "71"
            ]
          },
          "metadata": {},
          "execution_count": 53
        }
      ],
      "source": [
        "df.duplicated().sum()"
      ]
    },
    {
      "cell_type": "code",
      "execution_count": 54,
      "id": "2puI8vul0qOQ",
      "metadata": {
        "colab": {
          "base_uri": "https://localhost:8080/"
        },
        "id": "2puI8vul0qOQ",
        "outputId": "b4d2c237-2d74-4767-8953-2506c4830283"
      },
      "outputs": [
        {
          "output_type": "execute_result",
          "data": {
            "text/plain": [
              "0"
            ]
          },
          "metadata": {},
          "execution_count": 54
        }
      ],
      "source": [
        "df = df.drop_duplicates(ignore_index=True)\n",
        "df.duplicated().sum()"
      ]
    },
    {
      "cell_type": "markdown",
      "id": "341b3552",
      "metadata": {
        "id": "341b3552"
      },
      "source": [
        "### 2.5. Формирование дополнительных датафреймов словарей, декомпозиция исходного датафрейма."
      ]
    },
    {
      "cell_type": "markdown",
      "id": "PjOwjbWp-AOE",
      "metadata": {
        "id": "PjOwjbWp-AOE"
      },
      "source": [
        "Столбцы 'education' и 'education_id', а также для 'family_status' и 'family_status_id' связаны, и столбцы со строковыми значениями не нужны в исходном датафрейме. Переработаем датафрейм."
      ]
    },
    {
      "cell_type": "markdown",
      "id": "Nv-dII9I6tCe",
      "metadata": {
        "id": "Nv-dII9I6tCe"
      },
      "source": [
        "Создадим датафреймы словарей для 'education' и 'education_id', а также для 'family_status' и 'family_status_id'."
      ]
    },
    {
      "cell_type": "code",
      "execution_count": 55,
      "id": "9b13d3a8",
      "metadata": {
        "colab": {
          "base_uri": "https://localhost:8080/",
          "height": 206
        },
        "id": "9b13d3a8",
        "outputId": "789b112a-054b-4122-e217-8d5a7888df8e"
      },
      "outputs": [
        {
          "output_type": "execute_result",
          "data": {
            "text/plain": [
              "   education_id            education\n",
              "0             0               высшее\n",
              "1             1              среднее\n",
              "2             2  неоконченное высшее\n",
              "3             3            начальное\n",
              "4             4       ученая степень"
            ],
            "text/html": [
              "\n",
              "\n",
              "  <div id=\"df-78a94fa0-3f35-497c-b1d8-721be08b01de\">\n",
              "    <div class=\"colab-df-container\">\n",
              "      <div>\n",
              "<style scoped>\n",
              "    .dataframe tbody tr th:only-of-type {\n",
              "        vertical-align: middle;\n",
              "    }\n",
              "\n",
              "    .dataframe tbody tr th {\n",
              "        vertical-align: top;\n",
              "    }\n",
              "\n",
              "    .dataframe thead th {\n",
              "        text-align: right;\n",
              "    }\n",
              "</style>\n",
              "<table border=\"1\" class=\"dataframe\">\n",
              "  <thead>\n",
              "    <tr style=\"text-align: right;\">\n",
              "      <th></th>\n",
              "      <th>education_id</th>\n",
              "      <th>education</th>\n",
              "    </tr>\n",
              "  </thead>\n",
              "  <tbody>\n",
              "    <tr>\n",
              "      <th>0</th>\n",
              "      <td>0</td>\n",
              "      <td>высшее</td>\n",
              "    </tr>\n",
              "    <tr>\n",
              "      <th>1</th>\n",
              "      <td>1</td>\n",
              "      <td>среднее</td>\n",
              "    </tr>\n",
              "    <tr>\n",
              "      <th>2</th>\n",
              "      <td>2</td>\n",
              "      <td>неоконченное высшее</td>\n",
              "    </tr>\n",
              "    <tr>\n",
              "      <th>3</th>\n",
              "      <td>3</td>\n",
              "      <td>начальное</td>\n",
              "    </tr>\n",
              "    <tr>\n",
              "      <th>4</th>\n",
              "      <td>4</td>\n",
              "      <td>ученая степень</td>\n",
              "    </tr>\n",
              "  </tbody>\n",
              "</table>\n",
              "</div>\n",
              "      <button class=\"colab-df-convert\" onclick=\"convertToInteractive('df-78a94fa0-3f35-497c-b1d8-721be08b01de')\"\n",
              "              title=\"Convert this dataframe to an interactive table.\"\n",
              "              style=\"display:none;\">\n",
              "\n",
              "  <svg xmlns=\"http://www.w3.org/2000/svg\" height=\"24px\"viewBox=\"0 0 24 24\"\n",
              "       width=\"24px\">\n",
              "    <path d=\"M0 0h24v24H0V0z\" fill=\"none\"/>\n",
              "    <path d=\"M18.56 5.44l.94 2.06.94-2.06 2.06-.94-2.06-.94-.94-2.06-.94 2.06-2.06.94zm-11 1L8.5 8.5l.94-2.06 2.06-.94-2.06-.94L8.5 2.5l-.94 2.06-2.06.94zm10 10l.94 2.06.94-2.06 2.06-.94-2.06-.94-.94-2.06-.94 2.06-2.06.94z\"/><path d=\"M17.41 7.96l-1.37-1.37c-.4-.4-.92-.59-1.43-.59-.52 0-1.04.2-1.43.59L10.3 9.45l-7.72 7.72c-.78.78-.78 2.05 0 2.83L4 21.41c.39.39.9.59 1.41.59.51 0 1.02-.2 1.41-.59l7.78-7.78 2.81-2.81c.8-.78.8-2.07 0-2.86zM5.41 20L4 18.59l7.72-7.72 1.47 1.35L5.41 20z\"/>\n",
              "  </svg>\n",
              "      </button>\n",
              "\n",
              "\n",
              "\n",
              "    <div id=\"df-a1ef4719-8a5b-4fd5-9dff-a739bf7f055e\">\n",
              "      <button class=\"colab-df-quickchart\" onclick=\"quickchart('df-a1ef4719-8a5b-4fd5-9dff-a739bf7f055e')\"\n",
              "              title=\"Suggest charts.\"\n",
              "              style=\"display:none;\">\n",
              "\n",
              "<svg xmlns=\"http://www.w3.org/2000/svg\" height=\"24px\"viewBox=\"0 0 24 24\"\n",
              "     width=\"24px\">\n",
              "    <g>\n",
              "        <path d=\"M19 3H5c-1.1 0-2 .9-2 2v14c0 1.1.9 2 2 2h14c1.1 0 2-.9 2-2V5c0-1.1-.9-2-2-2zM9 17H7v-7h2v7zm4 0h-2V7h2v10zm4 0h-2v-4h2v4z\"/>\n",
              "    </g>\n",
              "</svg>\n",
              "      </button>\n",
              "    </div>\n",
              "\n",
              "<style>\n",
              "  .colab-df-quickchart {\n",
              "    background-color: #E8F0FE;\n",
              "    border: none;\n",
              "    border-radius: 50%;\n",
              "    cursor: pointer;\n",
              "    display: none;\n",
              "    fill: #1967D2;\n",
              "    height: 32px;\n",
              "    padding: 0 0 0 0;\n",
              "    width: 32px;\n",
              "  }\n",
              "\n",
              "  .colab-df-quickchart:hover {\n",
              "    background-color: #E2EBFA;\n",
              "    box-shadow: 0px 1px 2px rgba(60, 64, 67, 0.3), 0px 1px 3px 1px rgba(60, 64, 67, 0.15);\n",
              "    fill: #174EA6;\n",
              "  }\n",
              "\n",
              "  [theme=dark] .colab-df-quickchart {\n",
              "    background-color: #3B4455;\n",
              "    fill: #D2E3FC;\n",
              "  }\n",
              "\n",
              "  [theme=dark] .colab-df-quickchart:hover {\n",
              "    background-color: #434B5C;\n",
              "    box-shadow: 0px 1px 3px 1px rgba(0, 0, 0, 0.15);\n",
              "    filter: drop-shadow(0px 1px 2px rgba(0, 0, 0, 0.3));\n",
              "    fill: #FFFFFF;\n",
              "  }\n",
              "</style>\n",
              "\n",
              "    <script>\n",
              "      async function quickchart(key) {\n",
              "        const containerElement = document.querySelector('#' + key);\n",
              "        const charts = await google.colab.kernel.invokeFunction(\n",
              "            'suggestCharts', [key], {});\n",
              "      }\n",
              "    </script>\n",
              "\n",
              "      <script>\n",
              "\n",
              "function displayQuickchartButton(domScope) {\n",
              "  let quickchartButtonEl =\n",
              "    domScope.querySelector('#df-a1ef4719-8a5b-4fd5-9dff-a739bf7f055e button.colab-df-quickchart');\n",
              "  quickchartButtonEl.style.display =\n",
              "    google.colab.kernel.accessAllowed ? 'block' : 'none';\n",
              "}\n",
              "\n",
              "        displayQuickchartButton(document);\n",
              "      </script>\n",
              "      <style>\n",
              "    .colab-df-container {\n",
              "      display:flex;\n",
              "      flex-wrap:wrap;\n",
              "      gap: 12px;\n",
              "    }\n",
              "\n",
              "    .colab-df-convert {\n",
              "      background-color: #E8F0FE;\n",
              "      border: none;\n",
              "      border-radius: 50%;\n",
              "      cursor: pointer;\n",
              "      display: none;\n",
              "      fill: #1967D2;\n",
              "      height: 32px;\n",
              "      padding: 0 0 0 0;\n",
              "      width: 32px;\n",
              "    }\n",
              "\n",
              "    .colab-df-convert:hover {\n",
              "      background-color: #E2EBFA;\n",
              "      box-shadow: 0px 1px 2px rgba(60, 64, 67, 0.3), 0px 1px 3px 1px rgba(60, 64, 67, 0.15);\n",
              "      fill: #174EA6;\n",
              "    }\n",
              "\n",
              "    [theme=dark] .colab-df-convert {\n",
              "      background-color: #3B4455;\n",
              "      fill: #D2E3FC;\n",
              "    }\n",
              "\n",
              "    [theme=dark] .colab-df-convert:hover {\n",
              "      background-color: #434B5C;\n",
              "      box-shadow: 0px 1px 3px 1px rgba(0, 0, 0, 0.15);\n",
              "      filter: drop-shadow(0px 1px 2px rgba(0, 0, 0, 0.3));\n",
              "      fill: #FFFFFF;\n",
              "    }\n",
              "  </style>\n",
              "\n",
              "      <script>\n",
              "        const buttonEl =\n",
              "          document.querySelector('#df-78a94fa0-3f35-497c-b1d8-721be08b01de button.colab-df-convert');\n",
              "        buttonEl.style.display =\n",
              "          google.colab.kernel.accessAllowed ? 'block' : 'none';\n",
              "\n",
              "        async function convertToInteractive(key) {\n",
              "          const element = document.querySelector('#df-78a94fa0-3f35-497c-b1d8-721be08b01de');\n",
              "          const dataTable =\n",
              "            await google.colab.kernel.invokeFunction('convertToInteractive',\n",
              "                                                     [key], {});\n",
              "          if (!dataTable) return;\n",
              "\n",
              "          const docLinkHtml = 'Like what you see? Visit the ' +\n",
              "            '<a target=\"_blank\" href=https://colab.research.google.com/notebooks/data_table.ipynb>data table notebook</a>'\n",
              "            + ' to learn more about interactive tables.';\n",
              "          element.innerHTML = '';\n",
              "          dataTable['output_type'] = 'display_data';\n",
              "          await google.colab.output.renderOutput(dataTable, element);\n",
              "          const docLink = document.createElement('div');\n",
              "          docLink.innerHTML = docLinkHtml;\n",
              "          element.appendChild(docLink);\n",
              "        }\n",
              "      </script>\n",
              "    </div>\n",
              "  </div>\n"
            ]
          },
          "metadata": {},
          "execution_count": 55
        }
      ],
      "source": [
        "education_dict = df[['education_id', 'education']]\n",
        "education_dict = education_dict.drop_duplicates().reset_index(drop=True).sort_values('education_id')\n",
        "education_dict"
      ]
    },
    {
      "cell_type": "code",
      "execution_count": 56,
      "id": "v15pQkox9IB9",
      "metadata": {
        "colab": {
          "base_uri": "https://localhost:8080/",
          "height": 206
        },
        "id": "v15pQkox9IB9",
        "outputId": "6de0756e-528e-4659-f3fe-9ff0c0b5df5a"
      },
      "outputs": [
        {
          "output_type": "execute_result",
          "data": {
            "text/plain": [
              "   family_status_id          family_status\n",
              "0                 0        женат / замужем\n",
              "1                 1       гражданский брак\n",
              "2                 2         вдовец / вдова\n",
              "3                 3              в разводе\n",
              "4                 4  не женат / не замужем"
            ],
            "text/html": [
              "\n",
              "\n",
              "  <div id=\"df-e1761dd7-64ec-4d9c-b5d8-3729c4f342f0\">\n",
              "    <div class=\"colab-df-container\">\n",
              "      <div>\n",
              "<style scoped>\n",
              "    .dataframe tbody tr th:only-of-type {\n",
              "        vertical-align: middle;\n",
              "    }\n",
              "\n",
              "    .dataframe tbody tr th {\n",
              "        vertical-align: top;\n",
              "    }\n",
              "\n",
              "    .dataframe thead th {\n",
              "        text-align: right;\n",
              "    }\n",
              "</style>\n",
              "<table border=\"1\" class=\"dataframe\">\n",
              "  <thead>\n",
              "    <tr style=\"text-align: right;\">\n",
              "      <th></th>\n",
              "      <th>family_status_id</th>\n",
              "      <th>family_status</th>\n",
              "    </tr>\n",
              "  </thead>\n",
              "  <tbody>\n",
              "    <tr>\n",
              "      <th>0</th>\n",
              "      <td>0</td>\n",
              "      <td>женат / замужем</td>\n",
              "    </tr>\n",
              "    <tr>\n",
              "      <th>1</th>\n",
              "      <td>1</td>\n",
              "      <td>гражданский брак</td>\n",
              "    </tr>\n",
              "    <tr>\n",
              "      <th>2</th>\n",
              "      <td>2</td>\n",
              "      <td>вдовец / вдова</td>\n",
              "    </tr>\n",
              "    <tr>\n",
              "      <th>3</th>\n",
              "      <td>3</td>\n",
              "      <td>в разводе</td>\n",
              "    </tr>\n",
              "    <tr>\n",
              "      <th>4</th>\n",
              "      <td>4</td>\n",
              "      <td>не женат / не замужем</td>\n",
              "    </tr>\n",
              "  </tbody>\n",
              "</table>\n",
              "</div>\n",
              "      <button class=\"colab-df-convert\" onclick=\"convertToInteractive('df-e1761dd7-64ec-4d9c-b5d8-3729c4f342f0')\"\n",
              "              title=\"Convert this dataframe to an interactive table.\"\n",
              "              style=\"display:none;\">\n",
              "\n",
              "  <svg xmlns=\"http://www.w3.org/2000/svg\" height=\"24px\"viewBox=\"0 0 24 24\"\n",
              "       width=\"24px\">\n",
              "    <path d=\"M0 0h24v24H0V0z\" fill=\"none\"/>\n",
              "    <path d=\"M18.56 5.44l.94 2.06.94-2.06 2.06-.94-2.06-.94-.94-2.06-.94 2.06-2.06.94zm-11 1L8.5 8.5l.94-2.06 2.06-.94-2.06-.94L8.5 2.5l-.94 2.06-2.06.94zm10 10l.94 2.06.94-2.06 2.06-.94-2.06-.94-.94-2.06-.94 2.06-2.06.94z\"/><path d=\"M17.41 7.96l-1.37-1.37c-.4-.4-.92-.59-1.43-.59-.52 0-1.04.2-1.43.59L10.3 9.45l-7.72 7.72c-.78.78-.78 2.05 0 2.83L4 21.41c.39.39.9.59 1.41.59.51 0 1.02-.2 1.41-.59l7.78-7.78 2.81-2.81c.8-.78.8-2.07 0-2.86zM5.41 20L4 18.59l7.72-7.72 1.47 1.35L5.41 20z\"/>\n",
              "  </svg>\n",
              "      </button>\n",
              "\n",
              "\n",
              "\n",
              "    <div id=\"df-2bbd0661-f772-4d6a-9bc6-146386b694f8\">\n",
              "      <button class=\"colab-df-quickchart\" onclick=\"quickchart('df-2bbd0661-f772-4d6a-9bc6-146386b694f8')\"\n",
              "              title=\"Suggest charts.\"\n",
              "              style=\"display:none;\">\n",
              "\n",
              "<svg xmlns=\"http://www.w3.org/2000/svg\" height=\"24px\"viewBox=\"0 0 24 24\"\n",
              "     width=\"24px\">\n",
              "    <g>\n",
              "        <path d=\"M19 3H5c-1.1 0-2 .9-2 2v14c0 1.1.9 2 2 2h14c1.1 0 2-.9 2-2V5c0-1.1-.9-2-2-2zM9 17H7v-7h2v7zm4 0h-2V7h2v10zm4 0h-2v-4h2v4z\"/>\n",
              "    </g>\n",
              "</svg>\n",
              "      </button>\n",
              "    </div>\n",
              "\n",
              "<style>\n",
              "  .colab-df-quickchart {\n",
              "    background-color: #E8F0FE;\n",
              "    border: none;\n",
              "    border-radius: 50%;\n",
              "    cursor: pointer;\n",
              "    display: none;\n",
              "    fill: #1967D2;\n",
              "    height: 32px;\n",
              "    padding: 0 0 0 0;\n",
              "    width: 32px;\n",
              "  }\n",
              "\n",
              "  .colab-df-quickchart:hover {\n",
              "    background-color: #E2EBFA;\n",
              "    box-shadow: 0px 1px 2px rgba(60, 64, 67, 0.3), 0px 1px 3px 1px rgba(60, 64, 67, 0.15);\n",
              "    fill: #174EA6;\n",
              "  }\n",
              "\n",
              "  [theme=dark] .colab-df-quickchart {\n",
              "    background-color: #3B4455;\n",
              "    fill: #D2E3FC;\n",
              "  }\n",
              "\n",
              "  [theme=dark] .colab-df-quickchart:hover {\n",
              "    background-color: #434B5C;\n",
              "    box-shadow: 0px 1px 3px 1px rgba(0, 0, 0, 0.15);\n",
              "    filter: drop-shadow(0px 1px 2px rgba(0, 0, 0, 0.3));\n",
              "    fill: #FFFFFF;\n",
              "  }\n",
              "</style>\n",
              "\n",
              "    <script>\n",
              "      async function quickchart(key) {\n",
              "        const containerElement = document.querySelector('#' + key);\n",
              "        const charts = await google.colab.kernel.invokeFunction(\n",
              "            'suggestCharts', [key], {});\n",
              "      }\n",
              "    </script>\n",
              "\n",
              "      <script>\n",
              "\n",
              "function displayQuickchartButton(domScope) {\n",
              "  let quickchartButtonEl =\n",
              "    domScope.querySelector('#df-2bbd0661-f772-4d6a-9bc6-146386b694f8 button.colab-df-quickchart');\n",
              "  quickchartButtonEl.style.display =\n",
              "    google.colab.kernel.accessAllowed ? 'block' : 'none';\n",
              "}\n",
              "\n",
              "        displayQuickchartButton(document);\n",
              "      </script>\n",
              "      <style>\n",
              "    .colab-df-container {\n",
              "      display:flex;\n",
              "      flex-wrap:wrap;\n",
              "      gap: 12px;\n",
              "    }\n",
              "\n",
              "    .colab-df-convert {\n",
              "      background-color: #E8F0FE;\n",
              "      border: none;\n",
              "      border-radius: 50%;\n",
              "      cursor: pointer;\n",
              "      display: none;\n",
              "      fill: #1967D2;\n",
              "      height: 32px;\n",
              "      padding: 0 0 0 0;\n",
              "      width: 32px;\n",
              "    }\n",
              "\n",
              "    .colab-df-convert:hover {\n",
              "      background-color: #E2EBFA;\n",
              "      box-shadow: 0px 1px 2px rgba(60, 64, 67, 0.3), 0px 1px 3px 1px rgba(60, 64, 67, 0.15);\n",
              "      fill: #174EA6;\n",
              "    }\n",
              "\n",
              "    [theme=dark] .colab-df-convert {\n",
              "      background-color: #3B4455;\n",
              "      fill: #D2E3FC;\n",
              "    }\n",
              "\n",
              "    [theme=dark] .colab-df-convert:hover {\n",
              "      background-color: #434B5C;\n",
              "      box-shadow: 0px 1px 3px 1px rgba(0, 0, 0, 0.15);\n",
              "      filter: drop-shadow(0px 1px 2px rgba(0, 0, 0, 0.3));\n",
              "      fill: #FFFFFF;\n",
              "    }\n",
              "  </style>\n",
              "\n",
              "      <script>\n",
              "        const buttonEl =\n",
              "          document.querySelector('#df-e1761dd7-64ec-4d9c-b5d8-3729c4f342f0 button.colab-df-convert');\n",
              "        buttonEl.style.display =\n",
              "          google.colab.kernel.accessAllowed ? 'block' : 'none';\n",
              "\n",
              "        async function convertToInteractive(key) {\n",
              "          const element = document.querySelector('#df-e1761dd7-64ec-4d9c-b5d8-3729c4f342f0');\n",
              "          const dataTable =\n",
              "            await google.colab.kernel.invokeFunction('convertToInteractive',\n",
              "                                                     [key], {});\n",
              "          if (!dataTable) return;\n",
              "\n",
              "          const docLinkHtml = 'Like what you see? Visit the ' +\n",
              "            '<a target=\"_blank\" href=https://colab.research.google.com/notebooks/data_table.ipynb>data table notebook</a>'\n",
              "            + ' to learn more about interactive tables.';\n",
              "          element.innerHTML = '';\n",
              "          dataTable['output_type'] = 'display_data';\n",
              "          await google.colab.output.renderOutput(dataTable, element);\n",
              "          const docLink = document.createElement('div');\n",
              "          docLink.innerHTML = docLinkHtml;\n",
              "          element.appendChild(docLink);\n",
              "        }\n",
              "      </script>\n",
              "    </div>\n",
              "  </div>\n"
            ]
          },
          "metadata": {},
          "execution_count": 56
        }
      ],
      "source": [
        "family_status_dict = df[['family_status_id', 'family_status']]\n",
        "family_status_dict = family_status_dict.drop_duplicates().reset_index(drop=True).sort_values('family_status_id')\n",
        "family_status_dict"
      ]
    },
    {
      "cell_type": "markdown",
      "id": "DpPCcUxO9au0",
      "metadata": {
        "id": "DpPCcUxO9au0"
      },
      "source": [
        "Удалим столбцы 'education' и 'family_status'."
      ]
    },
    {
      "cell_type": "code",
      "execution_count": 57,
      "id": "NJuzAgl8-YTL",
      "metadata": {
        "colab": {
          "base_uri": "https://localhost:8080/",
          "height": 250
        },
        "id": "NJuzAgl8-YTL",
        "outputId": "f466de53-821b-41a3-a22b-f060e31369a3"
      },
      "outputs": [
        {
          "output_type": "execute_result",
          "data": {
            "text/plain": [
              "   children  days_employed  dob_years  education_id  family_status_id gender  \\\n",
              "0         1       8437.673         42             0                 0      F   \n",
              "1         1       4024.804         36             1                 0      F   \n",
              "2         0       5623.423         33             1                 0      M   \n",
              "3         3       4124.747         32             1                 0      M   \n",
              "4         0     340266.072         53             1                 1      F   \n",
              "\n",
              "  income_type  debt  total_income                     purpose  \n",
              "0   сотрудник     0        253875               покупка жилья  \n",
              "1   сотрудник     0        112080     приобретение автомобиля  \n",
              "2   сотрудник     0        145885               покупка жилья  \n",
              "3   сотрудник     0        267628  дополнительное образование  \n",
              "4   пенсионер     0        158616             сыграть свадьбу  "
            ],
            "text/html": [
              "\n",
              "\n",
              "  <div id=\"df-662075cd-573b-49d1-b631-8dd18b565ced\">\n",
              "    <div class=\"colab-df-container\">\n",
              "      <div>\n",
              "<style scoped>\n",
              "    .dataframe tbody tr th:only-of-type {\n",
              "        vertical-align: middle;\n",
              "    }\n",
              "\n",
              "    .dataframe tbody tr th {\n",
              "        vertical-align: top;\n",
              "    }\n",
              "\n",
              "    .dataframe thead th {\n",
              "        text-align: right;\n",
              "    }\n",
              "</style>\n",
              "<table border=\"1\" class=\"dataframe\">\n",
              "  <thead>\n",
              "    <tr style=\"text-align: right;\">\n",
              "      <th></th>\n",
              "      <th>children</th>\n",
              "      <th>days_employed</th>\n",
              "      <th>dob_years</th>\n",
              "      <th>education_id</th>\n",
              "      <th>family_status_id</th>\n",
              "      <th>gender</th>\n",
              "      <th>income_type</th>\n",
              "      <th>debt</th>\n",
              "      <th>total_income</th>\n",
              "      <th>purpose</th>\n",
              "    </tr>\n",
              "  </thead>\n",
              "  <tbody>\n",
              "    <tr>\n",
              "      <th>0</th>\n",
              "      <td>1</td>\n",
              "      <td>8437.673</td>\n",
              "      <td>42</td>\n",
              "      <td>0</td>\n",
              "      <td>0</td>\n",
              "      <td>F</td>\n",
              "      <td>сотрудник</td>\n",
              "      <td>0</td>\n",
              "      <td>253875</td>\n",
              "      <td>покупка жилья</td>\n",
              "    </tr>\n",
              "    <tr>\n",
              "      <th>1</th>\n",
              "      <td>1</td>\n",
              "      <td>4024.804</td>\n",
              "      <td>36</td>\n",
              "      <td>1</td>\n",
              "      <td>0</td>\n",
              "      <td>F</td>\n",
              "      <td>сотрудник</td>\n",
              "      <td>0</td>\n",
              "      <td>112080</td>\n",
              "      <td>приобретение автомобиля</td>\n",
              "    </tr>\n",
              "    <tr>\n",
              "      <th>2</th>\n",
              "      <td>0</td>\n",
              "      <td>5623.423</td>\n",
              "      <td>33</td>\n",
              "      <td>1</td>\n",
              "      <td>0</td>\n",
              "      <td>M</td>\n",
              "      <td>сотрудник</td>\n",
              "      <td>0</td>\n",
              "      <td>145885</td>\n",
              "      <td>покупка жилья</td>\n",
              "    </tr>\n",
              "    <tr>\n",
              "      <th>3</th>\n",
              "      <td>3</td>\n",
              "      <td>4124.747</td>\n",
              "      <td>32</td>\n",
              "      <td>1</td>\n",
              "      <td>0</td>\n",
              "      <td>M</td>\n",
              "      <td>сотрудник</td>\n",
              "      <td>0</td>\n",
              "      <td>267628</td>\n",
              "      <td>дополнительное образование</td>\n",
              "    </tr>\n",
              "    <tr>\n",
              "      <th>4</th>\n",
              "      <td>0</td>\n",
              "      <td>340266.072</td>\n",
              "      <td>53</td>\n",
              "      <td>1</td>\n",
              "      <td>1</td>\n",
              "      <td>F</td>\n",
              "      <td>пенсионер</td>\n",
              "      <td>0</td>\n",
              "      <td>158616</td>\n",
              "      <td>сыграть свадьбу</td>\n",
              "    </tr>\n",
              "  </tbody>\n",
              "</table>\n",
              "</div>\n",
              "      <button class=\"colab-df-convert\" onclick=\"convertToInteractive('df-662075cd-573b-49d1-b631-8dd18b565ced')\"\n",
              "              title=\"Convert this dataframe to an interactive table.\"\n",
              "              style=\"display:none;\">\n",
              "\n",
              "  <svg xmlns=\"http://www.w3.org/2000/svg\" height=\"24px\"viewBox=\"0 0 24 24\"\n",
              "       width=\"24px\">\n",
              "    <path d=\"M0 0h24v24H0V0z\" fill=\"none\"/>\n",
              "    <path d=\"M18.56 5.44l.94 2.06.94-2.06 2.06-.94-2.06-.94-.94-2.06-.94 2.06-2.06.94zm-11 1L8.5 8.5l.94-2.06 2.06-.94-2.06-.94L8.5 2.5l-.94 2.06-2.06.94zm10 10l.94 2.06.94-2.06 2.06-.94-2.06-.94-.94-2.06-.94 2.06-2.06.94z\"/><path d=\"M17.41 7.96l-1.37-1.37c-.4-.4-.92-.59-1.43-.59-.52 0-1.04.2-1.43.59L10.3 9.45l-7.72 7.72c-.78.78-.78 2.05 0 2.83L4 21.41c.39.39.9.59 1.41.59.51 0 1.02-.2 1.41-.59l7.78-7.78 2.81-2.81c.8-.78.8-2.07 0-2.86zM5.41 20L4 18.59l7.72-7.72 1.47 1.35L5.41 20z\"/>\n",
              "  </svg>\n",
              "      </button>\n",
              "\n",
              "\n",
              "\n",
              "    <div id=\"df-e2d134af-582c-499c-a730-abe2f6fcf603\">\n",
              "      <button class=\"colab-df-quickchart\" onclick=\"quickchart('df-e2d134af-582c-499c-a730-abe2f6fcf603')\"\n",
              "              title=\"Suggest charts.\"\n",
              "              style=\"display:none;\">\n",
              "\n",
              "<svg xmlns=\"http://www.w3.org/2000/svg\" height=\"24px\"viewBox=\"0 0 24 24\"\n",
              "     width=\"24px\">\n",
              "    <g>\n",
              "        <path d=\"M19 3H5c-1.1 0-2 .9-2 2v14c0 1.1.9 2 2 2h14c1.1 0 2-.9 2-2V5c0-1.1-.9-2-2-2zM9 17H7v-7h2v7zm4 0h-2V7h2v10zm4 0h-2v-4h2v4z\"/>\n",
              "    </g>\n",
              "</svg>\n",
              "      </button>\n",
              "    </div>\n",
              "\n",
              "<style>\n",
              "  .colab-df-quickchart {\n",
              "    background-color: #E8F0FE;\n",
              "    border: none;\n",
              "    border-radius: 50%;\n",
              "    cursor: pointer;\n",
              "    display: none;\n",
              "    fill: #1967D2;\n",
              "    height: 32px;\n",
              "    padding: 0 0 0 0;\n",
              "    width: 32px;\n",
              "  }\n",
              "\n",
              "  .colab-df-quickchart:hover {\n",
              "    background-color: #E2EBFA;\n",
              "    box-shadow: 0px 1px 2px rgba(60, 64, 67, 0.3), 0px 1px 3px 1px rgba(60, 64, 67, 0.15);\n",
              "    fill: #174EA6;\n",
              "  }\n",
              "\n",
              "  [theme=dark] .colab-df-quickchart {\n",
              "    background-color: #3B4455;\n",
              "    fill: #D2E3FC;\n",
              "  }\n",
              "\n",
              "  [theme=dark] .colab-df-quickchart:hover {\n",
              "    background-color: #434B5C;\n",
              "    box-shadow: 0px 1px 3px 1px rgba(0, 0, 0, 0.15);\n",
              "    filter: drop-shadow(0px 1px 2px rgba(0, 0, 0, 0.3));\n",
              "    fill: #FFFFFF;\n",
              "  }\n",
              "</style>\n",
              "\n",
              "    <script>\n",
              "      async function quickchart(key) {\n",
              "        const containerElement = document.querySelector('#' + key);\n",
              "        const charts = await google.colab.kernel.invokeFunction(\n",
              "            'suggestCharts', [key], {});\n",
              "      }\n",
              "    </script>\n",
              "\n",
              "      <script>\n",
              "\n",
              "function displayQuickchartButton(domScope) {\n",
              "  let quickchartButtonEl =\n",
              "    domScope.querySelector('#df-e2d134af-582c-499c-a730-abe2f6fcf603 button.colab-df-quickchart');\n",
              "  quickchartButtonEl.style.display =\n",
              "    google.colab.kernel.accessAllowed ? 'block' : 'none';\n",
              "}\n",
              "\n",
              "        displayQuickchartButton(document);\n",
              "      </script>\n",
              "      <style>\n",
              "    .colab-df-container {\n",
              "      display:flex;\n",
              "      flex-wrap:wrap;\n",
              "      gap: 12px;\n",
              "    }\n",
              "\n",
              "    .colab-df-convert {\n",
              "      background-color: #E8F0FE;\n",
              "      border: none;\n",
              "      border-radius: 50%;\n",
              "      cursor: pointer;\n",
              "      display: none;\n",
              "      fill: #1967D2;\n",
              "      height: 32px;\n",
              "      padding: 0 0 0 0;\n",
              "      width: 32px;\n",
              "    }\n",
              "\n",
              "    .colab-df-convert:hover {\n",
              "      background-color: #E2EBFA;\n",
              "      box-shadow: 0px 1px 2px rgba(60, 64, 67, 0.3), 0px 1px 3px 1px rgba(60, 64, 67, 0.15);\n",
              "      fill: #174EA6;\n",
              "    }\n",
              "\n",
              "    [theme=dark] .colab-df-convert {\n",
              "      background-color: #3B4455;\n",
              "      fill: #D2E3FC;\n",
              "    }\n",
              "\n",
              "    [theme=dark] .colab-df-convert:hover {\n",
              "      background-color: #434B5C;\n",
              "      box-shadow: 0px 1px 3px 1px rgba(0, 0, 0, 0.15);\n",
              "      filter: drop-shadow(0px 1px 2px rgba(0, 0, 0, 0.3));\n",
              "      fill: #FFFFFF;\n",
              "    }\n",
              "  </style>\n",
              "\n",
              "      <script>\n",
              "        const buttonEl =\n",
              "          document.querySelector('#df-662075cd-573b-49d1-b631-8dd18b565ced button.colab-df-convert');\n",
              "        buttonEl.style.display =\n",
              "          google.colab.kernel.accessAllowed ? 'block' : 'none';\n",
              "\n",
              "        async function convertToInteractive(key) {\n",
              "          const element = document.querySelector('#df-662075cd-573b-49d1-b631-8dd18b565ced');\n",
              "          const dataTable =\n",
              "            await google.colab.kernel.invokeFunction('convertToInteractive',\n",
              "                                                     [key], {});\n",
              "          if (!dataTable) return;\n",
              "\n",
              "          const docLinkHtml = 'Like what you see? Visit the ' +\n",
              "            '<a target=\"_blank\" href=https://colab.research.google.com/notebooks/data_table.ipynb>data table notebook</a>'\n",
              "            + ' to learn more about interactive tables.';\n",
              "          element.innerHTML = '';\n",
              "          dataTable['output_type'] = 'display_data';\n",
              "          await google.colab.output.renderOutput(dataTable, element);\n",
              "          const docLink = document.createElement('div');\n",
              "          docLink.innerHTML = docLinkHtml;\n",
              "          element.appendChild(docLink);\n",
              "        }\n",
              "      </script>\n",
              "    </div>\n",
              "  </div>\n"
            ]
          },
          "metadata": {},
          "execution_count": 57
        }
      ],
      "source": [
        "df = df.drop(['education', 'family_status'], axis=1)\n",
        "df.head()"
      ]
    },
    {
      "cell_type": "markdown",
      "id": "7049ca54",
      "metadata": {
        "id": "7049ca54"
      },
      "source": [
        "### 2.6. Категоризация дохода."
      ]
    },
    {
      "cell_type": "markdown",
      "id": "hox5--sn_suD",
      "metadata": {
        "id": "hox5--sn_suD"
      },
      "source": [
        "Создадим категории для ежемясячного дохода клиентов и вынесем их в отдельный столбец."
      ]
    },
    {
      "cell_type": "markdown",
      "id": "e5XZzc0-_yFv",
      "metadata": {
        "id": "e5XZzc0-_yFv"
      },
      "source": [
        "Категории:\n",
        "\n",
        "* 0–30000 — 'E'\n",
        "* 30001–50000 — 'D'\n",
        "* 50001–200000 — 'C'\n",
        "* 200001–1000000 — 'B'\n",
        "* 1000001 и выше — 'A'"
      ]
    },
    {
      "cell_type": "markdown",
      "id": "D9FR-gDvHH3I",
      "metadata": {
        "id": "D9FR-gDvHH3I"
      },
      "source": [
        "Напишем функцию которую применим к столбцу 'total_income'"
      ]
    },
    {
      "cell_type": "code",
      "execution_count": 58,
      "id": "bd4d1f40",
      "metadata": {
        "id": "bd4d1f40"
      },
      "outputs": [],
      "source": [
        "def income_cat(income):\n",
        "    '''\n",
        "    Функция возвращает категорию дохода в зависимости от ежемесячного дохода.\n",
        "    В случае ошибки данных функция возвращается np.NaN, для удобства проверки.\n",
        "    '''\n",
        "    if 0 <= income <= 30000:\n",
        "        return('E')\n",
        "    elif 30000 < income <= 50000:\n",
        "        return('D')\n",
        "    elif 50000 < income <= 200000:\n",
        "        return('C')\n",
        "    elif 200000 < income <= 1000000:\n",
        "        return('B')\n",
        "    elif income > 1000000:\n",
        "        return('A')\n",
        "    else: return(np.NaN)"
      ]
    },
    {
      "cell_type": "code",
      "execution_count": 59,
      "id": "v4CFAlhtHSqW",
      "metadata": {
        "colab": {
          "base_uri": "https://localhost:8080/"
        },
        "id": "v4CFAlhtHSqW",
        "outputId": "35660d2e-95b8-41ad-be09-5d9c15387560"
      },
      "outputs": [
        {
          "output_type": "execute_result",
          "data": {
            "text/plain": [
              "0"
            ]
          },
          "metadata": {},
          "execution_count": 59
        }
      ],
      "source": [
        "df.insert(9, 'total_income_category', df['total_income'].apply(income_cat))\n",
        "df['total_income_category'].isna().sum()"
      ]
    },
    {
      "cell_type": "code",
      "execution_count": 60,
      "id": "m1Qiy1CaaXTZ",
      "metadata": {
        "colab": {
          "base_uri": "https://localhost:8080/"
        },
        "id": "m1Qiy1CaaXTZ",
        "outputId": "1792b024-ff82-43ec-ffde-86c5f8a34418"
      },
      "outputs": [
        {
          "output_type": "execute_result",
          "data": {
            "text/plain": [
              "array(['B', 'C', 'D', 'E', 'A'], dtype=object)"
            ]
          },
          "metadata": {},
          "execution_count": 60
        }
      ],
      "source": [
        "df['total_income_category'].unique()"
      ]
    },
    {
      "cell_type": "code",
      "execution_count": 61,
      "id": "nPiKgOgqPQPq",
      "metadata": {
        "colab": {
          "base_uri": "https://localhost:8080/",
          "height": 322
        },
        "id": "nPiKgOgqPQPq",
        "outputId": "8e8cf04e-83dd-44cf-f473-7cc32214f005"
      },
      "outputs": [
        {
          "output_type": "execute_result",
          "data": {
            "text/plain": [
              "   children  days_employed  dob_years  education_id  family_status_id gender  \\\n",
              "0         1       8437.673         42             0                 0      F   \n",
              "1         1       4024.804         36             1                 0      F   \n",
              "2         0       5623.423         33             1                 0      M   \n",
              "3         3       4124.747         32             1                 0      M   \n",
              "4         0     340266.072         53             1                 1      F   \n",
              "\n",
              "  income_type  debt  total_income total_income_category  \\\n",
              "0   сотрудник     0        253875                     B   \n",
              "1   сотрудник     0        112080                     C   \n",
              "2   сотрудник     0        145885                     C   \n",
              "3   сотрудник     0        267628                     B   \n",
              "4   пенсионер     0        158616                     C   \n",
              "\n",
              "                      purpose  \n",
              "0               покупка жилья  \n",
              "1     приобретение автомобиля  \n",
              "2               покупка жилья  \n",
              "3  дополнительное образование  \n",
              "4             сыграть свадьбу  "
            ],
            "text/html": [
              "\n",
              "\n",
              "  <div id=\"df-849f5fba-4379-47ff-a44d-e472d59bb4a2\">\n",
              "    <div class=\"colab-df-container\">\n",
              "      <div>\n",
              "<style scoped>\n",
              "    .dataframe tbody tr th:only-of-type {\n",
              "        vertical-align: middle;\n",
              "    }\n",
              "\n",
              "    .dataframe tbody tr th {\n",
              "        vertical-align: top;\n",
              "    }\n",
              "\n",
              "    .dataframe thead th {\n",
              "        text-align: right;\n",
              "    }\n",
              "</style>\n",
              "<table border=\"1\" class=\"dataframe\">\n",
              "  <thead>\n",
              "    <tr style=\"text-align: right;\">\n",
              "      <th></th>\n",
              "      <th>children</th>\n",
              "      <th>days_employed</th>\n",
              "      <th>dob_years</th>\n",
              "      <th>education_id</th>\n",
              "      <th>family_status_id</th>\n",
              "      <th>gender</th>\n",
              "      <th>income_type</th>\n",
              "      <th>debt</th>\n",
              "      <th>total_income</th>\n",
              "      <th>total_income_category</th>\n",
              "      <th>purpose</th>\n",
              "    </tr>\n",
              "  </thead>\n",
              "  <tbody>\n",
              "    <tr>\n",
              "      <th>0</th>\n",
              "      <td>1</td>\n",
              "      <td>8437.673</td>\n",
              "      <td>42</td>\n",
              "      <td>0</td>\n",
              "      <td>0</td>\n",
              "      <td>F</td>\n",
              "      <td>сотрудник</td>\n",
              "      <td>0</td>\n",
              "      <td>253875</td>\n",
              "      <td>B</td>\n",
              "      <td>покупка жилья</td>\n",
              "    </tr>\n",
              "    <tr>\n",
              "      <th>1</th>\n",
              "      <td>1</td>\n",
              "      <td>4024.804</td>\n",
              "      <td>36</td>\n",
              "      <td>1</td>\n",
              "      <td>0</td>\n",
              "      <td>F</td>\n",
              "      <td>сотрудник</td>\n",
              "      <td>0</td>\n",
              "      <td>112080</td>\n",
              "      <td>C</td>\n",
              "      <td>приобретение автомобиля</td>\n",
              "    </tr>\n",
              "    <tr>\n",
              "      <th>2</th>\n",
              "      <td>0</td>\n",
              "      <td>5623.423</td>\n",
              "      <td>33</td>\n",
              "      <td>1</td>\n",
              "      <td>0</td>\n",
              "      <td>M</td>\n",
              "      <td>сотрудник</td>\n",
              "      <td>0</td>\n",
              "      <td>145885</td>\n",
              "      <td>C</td>\n",
              "      <td>покупка жилья</td>\n",
              "    </tr>\n",
              "    <tr>\n",
              "      <th>3</th>\n",
              "      <td>3</td>\n",
              "      <td>4124.747</td>\n",
              "      <td>32</td>\n",
              "      <td>1</td>\n",
              "      <td>0</td>\n",
              "      <td>M</td>\n",
              "      <td>сотрудник</td>\n",
              "      <td>0</td>\n",
              "      <td>267628</td>\n",
              "      <td>B</td>\n",
              "      <td>дополнительное образование</td>\n",
              "    </tr>\n",
              "    <tr>\n",
              "      <th>4</th>\n",
              "      <td>0</td>\n",
              "      <td>340266.072</td>\n",
              "      <td>53</td>\n",
              "      <td>1</td>\n",
              "      <td>1</td>\n",
              "      <td>F</td>\n",
              "      <td>пенсионер</td>\n",
              "      <td>0</td>\n",
              "      <td>158616</td>\n",
              "      <td>C</td>\n",
              "      <td>сыграть свадьбу</td>\n",
              "    </tr>\n",
              "  </tbody>\n",
              "</table>\n",
              "</div>\n",
              "      <button class=\"colab-df-convert\" onclick=\"convertToInteractive('df-849f5fba-4379-47ff-a44d-e472d59bb4a2')\"\n",
              "              title=\"Convert this dataframe to an interactive table.\"\n",
              "              style=\"display:none;\">\n",
              "\n",
              "  <svg xmlns=\"http://www.w3.org/2000/svg\" height=\"24px\"viewBox=\"0 0 24 24\"\n",
              "       width=\"24px\">\n",
              "    <path d=\"M0 0h24v24H0V0z\" fill=\"none\"/>\n",
              "    <path d=\"M18.56 5.44l.94 2.06.94-2.06 2.06-.94-2.06-.94-.94-2.06-.94 2.06-2.06.94zm-11 1L8.5 8.5l.94-2.06 2.06-.94-2.06-.94L8.5 2.5l-.94 2.06-2.06.94zm10 10l.94 2.06.94-2.06 2.06-.94-2.06-.94-.94-2.06-.94 2.06-2.06.94z\"/><path d=\"M17.41 7.96l-1.37-1.37c-.4-.4-.92-.59-1.43-.59-.52 0-1.04.2-1.43.59L10.3 9.45l-7.72 7.72c-.78.78-.78 2.05 0 2.83L4 21.41c.39.39.9.59 1.41.59.51 0 1.02-.2 1.41-.59l7.78-7.78 2.81-2.81c.8-.78.8-2.07 0-2.86zM5.41 20L4 18.59l7.72-7.72 1.47 1.35L5.41 20z\"/>\n",
              "  </svg>\n",
              "      </button>\n",
              "\n",
              "\n",
              "\n",
              "    <div id=\"df-27bb387f-4bdc-4451-8c1e-a5eb82d6f4f6\">\n",
              "      <button class=\"colab-df-quickchart\" onclick=\"quickchart('df-27bb387f-4bdc-4451-8c1e-a5eb82d6f4f6')\"\n",
              "              title=\"Suggest charts.\"\n",
              "              style=\"display:none;\">\n",
              "\n",
              "<svg xmlns=\"http://www.w3.org/2000/svg\" height=\"24px\"viewBox=\"0 0 24 24\"\n",
              "     width=\"24px\">\n",
              "    <g>\n",
              "        <path d=\"M19 3H5c-1.1 0-2 .9-2 2v14c0 1.1.9 2 2 2h14c1.1 0 2-.9 2-2V5c0-1.1-.9-2-2-2zM9 17H7v-7h2v7zm4 0h-2V7h2v10zm4 0h-2v-4h2v4z\"/>\n",
              "    </g>\n",
              "</svg>\n",
              "      </button>\n",
              "    </div>\n",
              "\n",
              "<style>\n",
              "  .colab-df-quickchart {\n",
              "    background-color: #E8F0FE;\n",
              "    border: none;\n",
              "    border-radius: 50%;\n",
              "    cursor: pointer;\n",
              "    display: none;\n",
              "    fill: #1967D2;\n",
              "    height: 32px;\n",
              "    padding: 0 0 0 0;\n",
              "    width: 32px;\n",
              "  }\n",
              "\n",
              "  .colab-df-quickchart:hover {\n",
              "    background-color: #E2EBFA;\n",
              "    box-shadow: 0px 1px 2px rgba(60, 64, 67, 0.3), 0px 1px 3px 1px rgba(60, 64, 67, 0.15);\n",
              "    fill: #174EA6;\n",
              "  }\n",
              "\n",
              "  [theme=dark] .colab-df-quickchart {\n",
              "    background-color: #3B4455;\n",
              "    fill: #D2E3FC;\n",
              "  }\n",
              "\n",
              "  [theme=dark] .colab-df-quickchart:hover {\n",
              "    background-color: #434B5C;\n",
              "    box-shadow: 0px 1px 3px 1px rgba(0, 0, 0, 0.15);\n",
              "    filter: drop-shadow(0px 1px 2px rgba(0, 0, 0, 0.3));\n",
              "    fill: #FFFFFF;\n",
              "  }\n",
              "</style>\n",
              "\n",
              "    <script>\n",
              "      async function quickchart(key) {\n",
              "        const containerElement = document.querySelector('#' + key);\n",
              "        const charts = await google.colab.kernel.invokeFunction(\n",
              "            'suggestCharts', [key], {});\n",
              "      }\n",
              "    </script>\n",
              "\n",
              "      <script>\n",
              "\n",
              "function displayQuickchartButton(domScope) {\n",
              "  let quickchartButtonEl =\n",
              "    domScope.querySelector('#df-27bb387f-4bdc-4451-8c1e-a5eb82d6f4f6 button.colab-df-quickchart');\n",
              "  quickchartButtonEl.style.display =\n",
              "    google.colab.kernel.accessAllowed ? 'block' : 'none';\n",
              "}\n",
              "\n",
              "        displayQuickchartButton(document);\n",
              "      </script>\n",
              "      <style>\n",
              "    .colab-df-container {\n",
              "      display:flex;\n",
              "      flex-wrap:wrap;\n",
              "      gap: 12px;\n",
              "    }\n",
              "\n",
              "    .colab-df-convert {\n",
              "      background-color: #E8F0FE;\n",
              "      border: none;\n",
              "      border-radius: 50%;\n",
              "      cursor: pointer;\n",
              "      display: none;\n",
              "      fill: #1967D2;\n",
              "      height: 32px;\n",
              "      padding: 0 0 0 0;\n",
              "      width: 32px;\n",
              "    }\n",
              "\n",
              "    .colab-df-convert:hover {\n",
              "      background-color: #E2EBFA;\n",
              "      box-shadow: 0px 1px 2px rgba(60, 64, 67, 0.3), 0px 1px 3px 1px rgba(60, 64, 67, 0.15);\n",
              "      fill: #174EA6;\n",
              "    }\n",
              "\n",
              "    [theme=dark] .colab-df-convert {\n",
              "      background-color: #3B4455;\n",
              "      fill: #D2E3FC;\n",
              "    }\n",
              "\n",
              "    [theme=dark] .colab-df-convert:hover {\n",
              "      background-color: #434B5C;\n",
              "      box-shadow: 0px 1px 3px 1px rgba(0, 0, 0, 0.15);\n",
              "      filter: drop-shadow(0px 1px 2px rgba(0, 0, 0, 0.3));\n",
              "      fill: #FFFFFF;\n",
              "    }\n",
              "  </style>\n",
              "\n",
              "      <script>\n",
              "        const buttonEl =\n",
              "          document.querySelector('#df-849f5fba-4379-47ff-a44d-e472d59bb4a2 button.colab-df-convert');\n",
              "        buttonEl.style.display =\n",
              "          google.colab.kernel.accessAllowed ? 'block' : 'none';\n",
              "\n",
              "        async function convertToInteractive(key) {\n",
              "          const element = document.querySelector('#df-849f5fba-4379-47ff-a44d-e472d59bb4a2');\n",
              "          const dataTable =\n",
              "            await google.colab.kernel.invokeFunction('convertToInteractive',\n",
              "                                                     [key], {});\n",
              "          if (!dataTable) return;\n",
              "\n",
              "          const docLinkHtml = 'Like what you see? Visit the ' +\n",
              "            '<a target=\"_blank\" href=https://colab.research.google.com/notebooks/data_table.ipynb>data table notebook</a>'\n",
              "            + ' to learn more about interactive tables.';\n",
              "          element.innerHTML = '';\n",
              "          dataTable['output_type'] = 'display_data';\n",
              "          await google.colab.output.renderOutput(dataTable, element);\n",
              "          const docLink = document.createElement('div');\n",
              "          docLink.innerHTML = docLinkHtml;\n",
              "          element.appendChild(docLink);\n",
              "        }\n",
              "      </script>\n",
              "    </div>\n",
              "  </div>\n"
            ]
          },
          "metadata": {},
          "execution_count": 61
        }
      ],
      "source": [
        "df.head()"
      ]
    },
    {
      "cell_type": "markdown",
      "id": "93524c93",
      "metadata": {
        "id": "93524c93"
      },
      "source": [
        "### 2.7. Категоризация целей кредита."
      ]
    },
    {
      "cell_type": "markdown",
      "id": "tvLKDVurLIXn",
      "metadata": {
        "id": "tvLKDVurLIXn"
      },
      "source": [
        "Рассмотрим уникальные значения в столбце 'purpose'."
      ]
    },
    {
      "cell_type": "code",
      "execution_count": 62,
      "id": "cb01f1d2",
      "metadata": {
        "colab": {
          "base_uri": "https://localhost:8080/"
        },
        "id": "cb01f1d2",
        "outputId": "447119a5-bc2e-49c2-ba59-7cae6047683a"
      },
      "outputs": [
        {
          "output_type": "execute_result",
          "data": {
            "text/plain": [
              "array(['покупка жилья', 'приобретение автомобиля',\n",
              "       'дополнительное образование', 'сыграть свадьбу',\n",
              "       'операции с жильем', 'образование', 'на проведение свадьбы',\n",
              "       'покупка жилья для семьи', 'покупка недвижимости',\n",
              "       'покупка коммерческой недвижимости', 'покупка жилой недвижимости',\n",
              "       'строительство собственной недвижимости', 'недвижимость',\n",
              "       'строительство недвижимости', 'на покупку подержанного автомобиля',\n",
              "       'на покупку своего автомобиля',\n",
              "       'операции с коммерческой недвижимостью',\n",
              "       'строительство жилой недвижимости', 'жилье',\n",
              "       'операции со своей недвижимостью', 'автомобили',\n",
              "       'заняться образованием', 'сделка с подержанным автомобилем',\n",
              "       'получение образования', 'автомобиль', 'свадьба',\n",
              "       'получение дополнительного образования', 'покупка своего жилья',\n",
              "       'операции с недвижимостью', 'получение высшего образования',\n",
              "       'свой автомобиль', 'сделка с автомобилем',\n",
              "       'профильное образование', 'высшее образование',\n",
              "       'покупка жилья для сдачи', 'на покупку автомобиля', 'ремонт жилья',\n",
              "       'заняться высшим образованием'], dtype=object)"
            ]
          },
          "metadata": {},
          "execution_count": 62
        }
      ],
      "source": [
        "df['purpose'].unique()"
      ]
    },
    {
      "cell_type": "markdown",
      "id": "wqqhZHltLWWP",
      "metadata": {
        "id": "wqqhZHltLWWP"
      },
      "source": [
        "Примем как основные категории:\n",
        "* 'операции с автомобилем'\n",
        "* 'операции с недвижимостью'\n",
        "* 'проведение свадьбы'\n",
        "* 'получение образования'"
      ]
    },
    {
      "cell_type": "markdown",
      "id": "I5T2tujTLh39",
      "metadata": {
        "id": "I5T2tujTLh39"
      },
      "source": [
        "Создадим функцию и применим её к столбу 'purpose'."
      ]
    },
    {
      "cell_type": "code",
      "execution_count": 63,
      "id": "zUmb28nNLlE0",
      "metadata": {
        "id": "zUmb28nNLlE0"
      },
      "outputs": [],
      "source": [
        "def purpose_cat(category):\n",
        "    '''\n",
        "    Функция возвращает категорию цели кредита в зависимости от цели кредита,\n",
        "    проверяя наличие ключевых слов в str.\n",
        "    '''\n",
        "    if 'авто' in category:\n",
        "        return('операции с автомобилем')\n",
        "    elif 'жил' in category or 'недвиж' in category:\n",
        "        return('операции с недвижимостью')\n",
        "    elif 'свад' in category:\n",
        "        return('проведение свадьбы')\n",
        "    elif 'образ' in category:\n",
        "        return('получение образования')\n",
        "    else: return(np.NaN)"
      ]
    },
    {
      "cell_type": "code",
      "execution_count": 64,
      "id": "v0veNPqMPX4j",
      "metadata": {
        "colab": {
          "base_uri": "https://localhost:8080/"
        },
        "id": "v0veNPqMPX4j",
        "outputId": "95e87dda-223e-4c2a-9488-9a6794c9af89"
      },
      "outputs": [
        {
          "output_type": "execute_result",
          "data": {
            "text/plain": [
              "0"
            ]
          },
          "metadata": {},
          "execution_count": 64
        }
      ],
      "source": [
        "df['purpose_category'] = df['purpose'].apply(purpose_cat)\n",
        "df['purpose_category'].isna().sum()"
      ]
    },
    {
      "cell_type": "code",
      "execution_count": 65,
      "id": "HFlYLG8vYwoL",
      "metadata": {
        "colab": {
          "base_uri": "https://localhost:8080/"
        },
        "id": "HFlYLG8vYwoL",
        "outputId": "7b06ad17-efb7-4e97-ab78-39281b3f1eb6"
      },
      "outputs": [
        {
          "output_type": "execute_result",
          "data": {
            "text/plain": [
              "array(['операции с недвижимостью', 'операции с автомобилем',\n",
              "       'получение образования', 'проведение свадьбы'], dtype=object)"
            ]
          },
          "metadata": {},
          "execution_count": 65
        }
      ],
      "source": [
        "df['purpose_category'].unique()"
      ]
    },
    {
      "cell_type": "code",
      "execution_count": 66,
      "id": "d8Teb4traPNw",
      "metadata": {
        "colab": {
          "base_uri": "https://localhost:8080/",
          "height": 357
        },
        "id": "d8Teb4traPNw",
        "outputId": "4365a4de-8137-46e3-e303-91f87cef0c66"
      },
      "outputs": [
        {
          "output_type": "execute_result",
          "data": {
            "text/plain": [
              "   children  days_employed  dob_years  education_id  family_status_id gender  \\\n",
              "0         1       8437.673         42             0                 0      F   \n",
              "1         1       4024.804         36             1                 0      F   \n",
              "2         0       5623.423         33             1                 0      M   \n",
              "3         3       4124.747         32             1                 0      M   \n",
              "4         0     340266.072         53             1                 1      F   \n",
              "\n",
              "  income_type  debt  total_income total_income_category  \\\n",
              "0   сотрудник     0        253875                     B   \n",
              "1   сотрудник     0        112080                     C   \n",
              "2   сотрудник     0        145885                     C   \n",
              "3   сотрудник     0        267628                     B   \n",
              "4   пенсионер     0        158616                     C   \n",
              "\n",
              "                      purpose          purpose_category  \n",
              "0               покупка жилья  операции с недвижимостью  \n",
              "1     приобретение автомобиля    операции с автомобилем  \n",
              "2               покупка жилья  операции с недвижимостью  \n",
              "3  дополнительное образование     получение образования  \n",
              "4             сыграть свадьбу        проведение свадьбы  "
            ],
            "text/html": [
              "\n",
              "\n",
              "  <div id=\"df-1e050a9e-d96a-4db5-8e1c-776bfe644f6e\">\n",
              "    <div class=\"colab-df-container\">\n",
              "      <div>\n",
              "<style scoped>\n",
              "    .dataframe tbody tr th:only-of-type {\n",
              "        vertical-align: middle;\n",
              "    }\n",
              "\n",
              "    .dataframe tbody tr th {\n",
              "        vertical-align: top;\n",
              "    }\n",
              "\n",
              "    .dataframe thead th {\n",
              "        text-align: right;\n",
              "    }\n",
              "</style>\n",
              "<table border=\"1\" class=\"dataframe\">\n",
              "  <thead>\n",
              "    <tr style=\"text-align: right;\">\n",
              "      <th></th>\n",
              "      <th>children</th>\n",
              "      <th>days_employed</th>\n",
              "      <th>dob_years</th>\n",
              "      <th>education_id</th>\n",
              "      <th>family_status_id</th>\n",
              "      <th>gender</th>\n",
              "      <th>income_type</th>\n",
              "      <th>debt</th>\n",
              "      <th>total_income</th>\n",
              "      <th>total_income_category</th>\n",
              "      <th>purpose</th>\n",
              "      <th>purpose_category</th>\n",
              "    </tr>\n",
              "  </thead>\n",
              "  <tbody>\n",
              "    <tr>\n",
              "      <th>0</th>\n",
              "      <td>1</td>\n",
              "      <td>8437.673</td>\n",
              "      <td>42</td>\n",
              "      <td>0</td>\n",
              "      <td>0</td>\n",
              "      <td>F</td>\n",
              "      <td>сотрудник</td>\n",
              "      <td>0</td>\n",
              "      <td>253875</td>\n",
              "      <td>B</td>\n",
              "      <td>покупка жилья</td>\n",
              "      <td>операции с недвижимостью</td>\n",
              "    </tr>\n",
              "    <tr>\n",
              "      <th>1</th>\n",
              "      <td>1</td>\n",
              "      <td>4024.804</td>\n",
              "      <td>36</td>\n",
              "      <td>1</td>\n",
              "      <td>0</td>\n",
              "      <td>F</td>\n",
              "      <td>сотрудник</td>\n",
              "      <td>0</td>\n",
              "      <td>112080</td>\n",
              "      <td>C</td>\n",
              "      <td>приобретение автомобиля</td>\n",
              "      <td>операции с автомобилем</td>\n",
              "    </tr>\n",
              "    <tr>\n",
              "      <th>2</th>\n",
              "      <td>0</td>\n",
              "      <td>5623.423</td>\n",
              "      <td>33</td>\n",
              "      <td>1</td>\n",
              "      <td>0</td>\n",
              "      <td>M</td>\n",
              "      <td>сотрудник</td>\n",
              "      <td>0</td>\n",
              "      <td>145885</td>\n",
              "      <td>C</td>\n",
              "      <td>покупка жилья</td>\n",
              "      <td>операции с недвижимостью</td>\n",
              "    </tr>\n",
              "    <tr>\n",
              "      <th>3</th>\n",
              "      <td>3</td>\n",
              "      <td>4124.747</td>\n",
              "      <td>32</td>\n",
              "      <td>1</td>\n",
              "      <td>0</td>\n",
              "      <td>M</td>\n",
              "      <td>сотрудник</td>\n",
              "      <td>0</td>\n",
              "      <td>267628</td>\n",
              "      <td>B</td>\n",
              "      <td>дополнительное образование</td>\n",
              "      <td>получение образования</td>\n",
              "    </tr>\n",
              "    <tr>\n",
              "      <th>4</th>\n",
              "      <td>0</td>\n",
              "      <td>340266.072</td>\n",
              "      <td>53</td>\n",
              "      <td>1</td>\n",
              "      <td>1</td>\n",
              "      <td>F</td>\n",
              "      <td>пенсионер</td>\n",
              "      <td>0</td>\n",
              "      <td>158616</td>\n",
              "      <td>C</td>\n",
              "      <td>сыграть свадьбу</td>\n",
              "      <td>проведение свадьбы</td>\n",
              "    </tr>\n",
              "  </tbody>\n",
              "</table>\n",
              "</div>\n",
              "      <button class=\"colab-df-convert\" onclick=\"convertToInteractive('df-1e050a9e-d96a-4db5-8e1c-776bfe644f6e')\"\n",
              "              title=\"Convert this dataframe to an interactive table.\"\n",
              "              style=\"display:none;\">\n",
              "\n",
              "  <svg xmlns=\"http://www.w3.org/2000/svg\" height=\"24px\"viewBox=\"0 0 24 24\"\n",
              "       width=\"24px\">\n",
              "    <path d=\"M0 0h24v24H0V0z\" fill=\"none\"/>\n",
              "    <path d=\"M18.56 5.44l.94 2.06.94-2.06 2.06-.94-2.06-.94-.94-2.06-.94 2.06-2.06.94zm-11 1L8.5 8.5l.94-2.06 2.06-.94-2.06-.94L8.5 2.5l-.94 2.06-2.06.94zm10 10l.94 2.06.94-2.06 2.06-.94-2.06-.94-.94-2.06-.94 2.06-2.06.94z\"/><path d=\"M17.41 7.96l-1.37-1.37c-.4-.4-.92-.59-1.43-.59-.52 0-1.04.2-1.43.59L10.3 9.45l-7.72 7.72c-.78.78-.78 2.05 0 2.83L4 21.41c.39.39.9.59 1.41.59.51 0 1.02-.2 1.41-.59l7.78-7.78 2.81-2.81c.8-.78.8-2.07 0-2.86zM5.41 20L4 18.59l7.72-7.72 1.47 1.35L5.41 20z\"/>\n",
              "  </svg>\n",
              "      </button>\n",
              "\n",
              "\n",
              "\n",
              "    <div id=\"df-42b83d49-201d-4aa9-9390-aa6c4c3c813c\">\n",
              "      <button class=\"colab-df-quickchart\" onclick=\"quickchart('df-42b83d49-201d-4aa9-9390-aa6c4c3c813c')\"\n",
              "              title=\"Suggest charts.\"\n",
              "              style=\"display:none;\">\n",
              "\n",
              "<svg xmlns=\"http://www.w3.org/2000/svg\" height=\"24px\"viewBox=\"0 0 24 24\"\n",
              "     width=\"24px\">\n",
              "    <g>\n",
              "        <path d=\"M19 3H5c-1.1 0-2 .9-2 2v14c0 1.1.9 2 2 2h14c1.1 0 2-.9 2-2V5c0-1.1-.9-2-2-2zM9 17H7v-7h2v7zm4 0h-2V7h2v10zm4 0h-2v-4h2v4z\"/>\n",
              "    </g>\n",
              "</svg>\n",
              "      </button>\n",
              "    </div>\n",
              "\n",
              "<style>\n",
              "  .colab-df-quickchart {\n",
              "    background-color: #E8F0FE;\n",
              "    border: none;\n",
              "    border-radius: 50%;\n",
              "    cursor: pointer;\n",
              "    display: none;\n",
              "    fill: #1967D2;\n",
              "    height: 32px;\n",
              "    padding: 0 0 0 0;\n",
              "    width: 32px;\n",
              "  }\n",
              "\n",
              "  .colab-df-quickchart:hover {\n",
              "    background-color: #E2EBFA;\n",
              "    box-shadow: 0px 1px 2px rgba(60, 64, 67, 0.3), 0px 1px 3px 1px rgba(60, 64, 67, 0.15);\n",
              "    fill: #174EA6;\n",
              "  }\n",
              "\n",
              "  [theme=dark] .colab-df-quickchart {\n",
              "    background-color: #3B4455;\n",
              "    fill: #D2E3FC;\n",
              "  }\n",
              "\n",
              "  [theme=dark] .colab-df-quickchart:hover {\n",
              "    background-color: #434B5C;\n",
              "    box-shadow: 0px 1px 3px 1px rgba(0, 0, 0, 0.15);\n",
              "    filter: drop-shadow(0px 1px 2px rgba(0, 0, 0, 0.3));\n",
              "    fill: #FFFFFF;\n",
              "  }\n",
              "</style>\n",
              "\n",
              "    <script>\n",
              "      async function quickchart(key) {\n",
              "        const containerElement = document.querySelector('#' + key);\n",
              "        const charts = await google.colab.kernel.invokeFunction(\n",
              "            'suggestCharts', [key], {});\n",
              "      }\n",
              "    </script>\n",
              "\n",
              "      <script>\n",
              "\n",
              "function displayQuickchartButton(domScope) {\n",
              "  let quickchartButtonEl =\n",
              "    domScope.querySelector('#df-42b83d49-201d-4aa9-9390-aa6c4c3c813c button.colab-df-quickchart');\n",
              "  quickchartButtonEl.style.display =\n",
              "    google.colab.kernel.accessAllowed ? 'block' : 'none';\n",
              "}\n",
              "\n",
              "        displayQuickchartButton(document);\n",
              "      </script>\n",
              "      <style>\n",
              "    .colab-df-container {\n",
              "      display:flex;\n",
              "      flex-wrap:wrap;\n",
              "      gap: 12px;\n",
              "    }\n",
              "\n",
              "    .colab-df-convert {\n",
              "      background-color: #E8F0FE;\n",
              "      border: none;\n",
              "      border-radius: 50%;\n",
              "      cursor: pointer;\n",
              "      display: none;\n",
              "      fill: #1967D2;\n",
              "      height: 32px;\n",
              "      padding: 0 0 0 0;\n",
              "      width: 32px;\n",
              "    }\n",
              "\n",
              "    .colab-df-convert:hover {\n",
              "      background-color: #E2EBFA;\n",
              "      box-shadow: 0px 1px 2px rgba(60, 64, 67, 0.3), 0px 1px 3px 1px rgba(60, 64, 67, 0.15);\n",
              "      fill: #174EA6;\n",
              "    }\n",
              "\n",
              "    [theme=dark] .colab-df-convert {\n",
              "      background-color: #3B4455;\n",
              "      fill: #D2E3FC;\n",
              "    }\n",
              "\n",
              "    [theme=dark] .colab-df-convert:hover {\n",
              "      background-color: #434B5C;\n",
              "      box-shadow: 0px 1px 3px 1px rgba(0, 0, 0, 0.15);\n",
              "      filter: drop-shadow(0px 1px 2px rgba(0, 0, 0, 0.3));\n",
              "      fill: #FFFFFF;\n",
              "    }\n",
              "  </style>\n",
              "\n",
              "      <script>\n",
              "        const buttonEl =\n",
              "          document.querySelector('#df-1e050a9e-d96a-4db5-8e1c-776bfe644f6e button.colab-df-convert');\n",
              "        buttonEl.style.display =\n",
              "          google.colab.kernel.accessAllowed ? 'block' : 'none';\n",
              "\n",
              "        async function convertToInteractive(key) {\n",
              "          const element = document.querySelector('#df-1e050a9e-d96a-4db5-8e1c-776bfe644f6e');\n",
              "          const dataTable =\n",
              "            await google.colab.kernel.invokeFunction('convertToInteractive',\n",
              "                                                     [key], {});\n",
              "          if (!dataTable) return;\n",
              "\n",
              "          const docLinkHtml = 'Like what you see? Visit the ' +\n",
              "            '<a target=\"_blank\" href=https://colab.research.google.com/notebooks/data_table.ipynb>data table notebook</a>'\n",
              "            + ' to learn more about interactive tables.';\n",
              "          element.innerHTML = '';\n",
              "          dataTable['output_type'] = 'display_data';\n",
              "          await google.colab.output.renderOutput(dataTable, element);\n",
              "          const docLink = document.createElement('div');\n",
              "          docLink.innerHTML = docLinkHtml;\n",
              "          element.appendChild(docLink);\n",
              "        }\n",
              "      </script>\n",
              "    </div>\n",
              "  </div>\n"
            ]
          },
          "metadata": {},
          "execution_count": 66
        }
      ],
      "source": [
        "df.head()"
      ]
    },
    {
      "cell_type": "markdown",
      "source": [
        "### Вывод"
      ],
      "metadata": {
        "id": "r2LdmSGxzFhw"
      },
      "id": "r2LdmSGxzFhw"
    },
    {
      "cell_type": "markdown",
      "source": [
        "Проведена обработка данных:\n",
        "1. Данные проверены на аномалии и исправлены.\n",
        "2. Заполнены пропуски в столбцах 'days_employed' и 'total_income'.\n",
        "3. Изменены тип данных в 'total_income' на int.\n",
        "4. Удалены дубликаты.\n",
        "5. Сформированы и выделены дополнительные датафреймы для 'education' и 'family_status', данные столбца удалены из основного датафрейма.\n",
        "6. Выполнена категоризация дохода и целей кредита."
      ],
      "metadata": {
        "id": "cL1-JAvlzIf4"
      },
      "id": "cL1-JAvlzIf4"
    },
    {
      "cell_type": "markdown",
      "id": "8d107492",
      "metadata": {
        "id": "8d107492"
      },
      "source": [
        "## Ответы на вопросы."
      ]
    },
    {
      "cell_type": "markdown",
      "id": "c2b43234",
      "metadata": {
        "id": "c2b43234"
      },
      "source": [
        "### Вопрос 1:"
      ]
    },
    {
      "cell_type": "markdown",
      "id": "9b2047b3",
      "metadata": {
        "id": "9b2047b3"
      },
      "source": [
        "Есть ли зависимость между количеством детей и возвратом кредита в срок?"
      ]
    },
    {
      "cell_type": "markdown",
      "id": "gU8n6Bt9GKo1",
      "metadata": {
        "id": "gU8n6Bt9GKo1"
      },
      "source": [
        "Построим сводную таблицу."
      ]
    },
    {
      "cell_type": "code",
      "source": [
        "def my_mean(x):\n",
        "    '''\n",
        "    Функция считает среднее и переводит доли в проценты\n",
        "    '''\n",
        "    return x.mean() * 100"
      ],
      "metadata": {
        "id": "AuVZYma69dCd"
      },
      "id": "AuVZYma69dCd",
      "execution_count": 67,
      "outputs": []
    },
    {
      "cell_type": "code",
      "execution_count": 68,
      "id": "LYj7s7n1dVZ9",
      "metadata": {
        "colab": {
          "base_uri": "https://localhost:8080/",
          "height": 237
        },
        "id": "LYj7s7n1dVZ9",
        "outputId": "5e83abe7-1504-44ba-90b4-d1c228ccce36"
      },
      "outputs": [
        {
          "output_type": "execute_result",
          "data": {
            "text/plain": [
              "   children  count  my_mean\n",
              "0         0  14021    7.546\n",
              "1         1   4792    9.203\n",
              "2         2   2039    9.514\n",
              "3         3    328    8.232\n",
              "4         4     41    9.756\n",
              "5         5      9    0.000"
            ],
            "text/html": [
              "\n",
              "\n",
              "  <div id=\"df-f302d6ba-69f7-45ec-840c-980b1c0fe48f\">\n",
              "    <div class=\"colab-df-container\">\n",
              "      <div>\n",
              "<style scoped>\n",
              "    .dataframe tbody tr th:only-of-type {\n",
              "        vertical-align: middle;\n",
              "    }\n",
              "\n",
              "    .dataframe tbody tr th {\n",
              "        vertical-align: top;\n",
              "    }\n",
              "\n",
              "    .dataframe thead th {\n",
              "        text-align: right;\n",
              "    }\n",
              "</style>\n",
              "<table border=\"1\" class=\"dataframe\">\n",
              "  <thead>\n",
              "    <tr style=\"text-align: right;\">\n",
              "      <th></th>\n",
              "      <th>children</th>\n",
              "      <th>count</th>\n",
              "      <th>my_mean</th>\n",
              "    </tr>\n",
              "  </thead>\n",
              "  <tbody>\n",
              "    <tr>\n",
              "      <th>0</th>\n",
              "      <td>0</td>\n",
              "      <td>14021</td>\n",
              "      <td>7.546</td>\n",
              "    </tr>\n",
              "    <tr>\n",
              "      <th>1</th>\n",
              "      <td>1</td>\n",
              "      <td>4792</td>\n",
              "      <td>9.203</td>\n",
              "    </tr>\n",
              "    <tr>\n",
              "      <th>2</th>\n",
              "      <td>2</td>\n",
              "      <td>2039</td>\n",
              "      <td>9.514</td>\n",
              "    </tr>\n",
              "    <tr>\n",
              "      <th>3</th>\n",
              "      <td>3</td>\n",
              "      <td>328</td>\n",
              "      <td>8.232</td>\n",
              "    </tr>\n",
              "    <tr>\n",
              "      <th>4</th>\n",
              "      <td>4</td>\n",
              "      <td>41</td>\n",
              "      <td>9.756</td>\n",
              "    </tr>\n",
              "    <tr>\n",
              "      <th>5</th>\n",
              "      <td>5</td>\n",
              "      <td>9</td>\n",
              "      <td>0.000</td>\n",
              "    </tr>\n",
              "  </tbody>\n",
              "</table>\n",
              "</div>\n",
              "      <button class=\"colab-df-convert\" onclick=\"convertToInteractive('df-f302d6ba-69f7-45ec-840c-980b1c0fe48f')\"\n",
              "              title=\"Convert this dataframe to an interactive table.\"\n",
              "              style=\"display:none;\">\n",
              "\n",
              "  <svg xmlns=\"http://www.w3.org/2000/svg\" height=\"24px\"viewBox=\"0 0 24 24\"\n",
              "       width=\"24px\">\n",
              "    <path d=\"M0 0h24v24H0V0z\" fill=\"none\"/>\n",
              "    <path d=\"M18.56 5.44l.94 2.06.94-2.06 2.06-.94-2.06-.94-.94-2.06-.94 2.06-2.06.94zm-11 1L8.5 8.5l.94-2.06 2.06-.94-2.06-.94L8.5 2.5l-.94 2.06-2.06.94zm10 10l.94 2.06.94-2.06 2.06-.94-2.06-.94-.94-2.06-.94 2.06-2.06.94z\"/><path d=\"M17.41 7.96l-1.37-1.37c-.4-.4-.92-.59-1.43-.59-.52 0-1.04.2-1.43.59L10.3 9.45l-7.72 7.72c-.78.78-.78 2.05 0 2.83L4 21.41c.39.39.9.59 1.41.59.51 0 1.02-.2 1.41-.59l7.78-7.78 2.81-2.81c.8-.78.8-2.07 0-2.86zM5.41 20L4 18.59l7.72-7.72 1.47 1.35L5.41 20z\"/>\n",
              "  </svg>\n",
              "      </button>\n",
              "\n",
              "\n",
              "\n",
              "    <div id=\"df-844b29a4-f02d-4e4c-867f-5189de7b0bb1\">\n",
              "      <button class=\"colab-df-quickchart\" onclick=\"quickchart('df-844b29a4-f02d-4e4c-867f-5189de7b0bb1')\"\n",
              "              title=\"Suggest charts.\"\n",
              "              style=\"display:none;\">\n",
              "\n",
              "<svg xmlns=\"http://www.w3.org/2000/svg\" height=\"24px\"viewBox=\"0 0 24 24\"\n",
              "     width=\"24px\">\n",
              "    <g>\n",
              "        <path d=\"M19 3H5c-1.1 0-2 .9-2 2v14c0 1.1.9 2 2 2h14c1.1 0 2-.9 2-2V5c0-1.1-.9-2-2-2zM9 17H7v-7h2v7zm4 0h-2V7h2v10zm4 0h-2v-4h2v4z\"/>\n",
              "    </g>\n",
              "</svg>\n",
              "      </button>\n",
              "    </div>\n",
              "\n",
              "<style>\n",
              "  .colab-df-quickchart {\n",
              "    background-color: #E8F0FE;\n",
              "    border: none;\n",
              "    border-radius: 50%;\n",
              "    cursor: pointer;\n",
              "    display: none;\n",
              "    fill: #1967D2;\n",
              "    height: 32px;\n",
              "    padding: 0 0 0 0;\n",
              "    width: 32px;\n",
              "  }\n",
              "\n",
              "  .colab-df-quickchart:hover {\n",
              "    background-color: #E2EBFA;\n",
              "    box-shadow: 0px 1px 2px rgba(60, 64, 67, 0.3), 0px 1px 3px 1px rgba(60, 64, 67, 0.15);\n",
              "    fill: #174EA6;\n",
              "  }\n",
              "\n",
              "  [theme=dark] .colab-df-quickchart {\n",
              "    background-color: #3B4455;\n",
              "    fill: #D2E3FC;\n",
              "  }\n",
              "\n",
              "  [theme=dark] .colab-df-quickchart:hover {\n",
              "    background-color: #434B5C;\n",
              "    box-shadow: 0px 1px 3px 1px rgba(0, 0, 0, 0.15);\n",
              "    filter: drop-shadow(0px 1px 2px rgba(0, 0, 0, 0.3));\n",
              "    fill: #FFFFFF;\n",
              "  }\n",
              "</style>\n",
              "\n",
              "    <script>\n",
              "      async function quickchart(key) {\n",
              "        const containerElement = document.querySelector('#' + key);\n",
              "        const charts = await google.colab.kernel.invokeFunction(\n",
              "            'suggestCharts', [key], {});\n",
              "      }\n",
              "    </script>\n",
              "\n",
              "      <script>\n",
              "\n",
              "function displayQuickchartButton(domScope) {\n",
              "  let quickchartButtonEl =\n",
              "    domScope.querySelector('#df-844b29a4-f02d-4e4c-867f-5189de7b0bb1 button.colab-df-quickchart');\n",
              "  quickchartButtonEl.style.display =\n",
              "    google.colab.kernel.accessAllowed ? 'block' : 'none';\n",
              "}\n",
              "\n",
              "        displayQuickchartButton(document);\n",
              "      </script>\n",
              "      <style>\n",
              "    .colab-df-container {\n",
              "      display:flex;\n",
              "      flex-wrap:wrap;\n",
              "      gap: 12px;\n",
              "    }\n",
              "\n",
              "    .colab-df-convert {\n",
              "      background-color: #E8F0FE;\n",
              "      border: none;\n",
              "      border-radius: 50%;\n",
              "      cursor: pointer;\n",
              "      display: none;\n",
              "      fill: #1967D2;\n",
              "      height: 32px;\n",
              "      padding: 0 0 0 0;\n",
              "      width: 32px;\n",
              "    }\n",
              "\n",
              "    .colab-df-convert:hover {\n",
              "      background-color: #E2EBFA;\n",
              "      box-shadow: 0px 1px 2px rgba(60, 64, 67, 0.3), 0px 1px 3px 1px rgba(60, 64, 67, 0.15);\n",
              "      fill: #174EA6;\n",
              "    }\n",
              "\n",
              "    [theme=dark] .colab-df-convert {\n",
              "      background-color: #3B4455;\n",
              "      fill: #D2E3FC;\n",
              "    }\n",
              "\n",
              "    [theme=dark] .colab-df-convert:hover {\n",
              "      background-color: #434B5C;\n",
              "      box-shadow: 0px 1px 3px 1px rgba(0, 0, 0, 0.15);\n",
              "      filter: drop-shadow(0px 1px 2px rgba(0, 0, 0, 0.3));\n",
              "      fill: #FFFFFF;\n",
              "    }\n",
              "  </style>\n",
              "\n",
              "      <script>\n",
              "        const buttonEl =\n",
              "          document.querySelector('#df-f302d6ba-69f7-45ec-840c-980b1c0fe48f button.colab-df-convert');\n",
              "        buttonEl.style.display =\n",
              "          google.colab.kernel.accessAllowed ? 'block' : 'none';\n",
              "\n",
              "        async function convertToInteractive(key) {\n",
              "          const element = document.querySelector('#df-f302d6ba-69f7-45ec-840c-980b1c0fe48f');\n",
              "          const dataTable =\n",
              "            await google.colab.kernel.invokeFunction('convertToInteractive',\n",
              "                                                     [key], {});\n",
              "          if (!dataTable) return;\n",
              "\n",
              "          const docLinkHtml = 'Like what you see? Visit the ' +\n",
              "            '<a target=\"_blank\" href=https://colab.research.google.com/notebooks/data_table.ipynb>data table notebook</a>'\n",
              "            + ' to learn more about interactive tables.';\n",
              "          element.innerHTML = '';\n",
              "          dataTable['output_type'] = 'display_data';\n",
              "          await google.colab.output.renderOutput(dataTable, element);\n",
              "          const docLink = document.createElement('div');\n",
              "          docLink.innerHTML = docLinkHtml;\n",
              "          element.appendChild(docLink);\n",
              "        }\n",
              "      </script>\n",
              "    </div>\n",
              "  </div>\n"
            ]
          },
          "metadata": {},
          "execution_count": 68
        }
      ],
      "source": [
        "plot_q1 = df.groupby('children')['debt'].agg(['count', my_mean]).reset_index()\n",
        "plot_q1"
      ]
    },
    {
      "cell_type": "code",
      "source": [
        "sns.barplot(data=plot_q1, x='children', y='my_mean').set(title=('Распределение процента невозвращенных кредитов от количества детей'),\n",
        "                                                         xlabel='Количество детей (шт.)',\n",
        "                                                         ylabel='Процент невозвращенных кредитов (%)')\n",
        "\n",
        "plt.show()"
      ],
      "metadata": {
        "colab": {
          "base_uri": "https://localhost:8080/",
          "height": 487
        },
        "id": "PY2uZfdd7H7c",
        "outputId": "e2ee004a-db46-4bf9-b8a8-68b7961754a1"
      },
      "id": "PY2uZfdd7H7c",
      "execution_count": 69,
      "outputs": [
        {
          "output_type": "display_data",
          "data": {
            "text/plain": [
              "<Figure size 1000x500 with 1 Axes>"
            ],
            "image/png": "[encoded data removed]"
          },
          "metadata": {}
        }
      ]
    },
    {
      "cell_type": "markdown",
      "id": "40fca2a0",
      "metadata": {
        "id": "40fca2a0"
      },
      "source": [
        "#### Вывод 1:"
      ]
    },
    {
      "cell_type": "markdown",
      "id": "e2d4e337",
      "metadata": {
        "id": "e2d4e337"
      },
      "source": [
        "Как видно из таблицы и графика с увеличением количества детей растет шанс невозврата кредита в срок, до 3 детей. Для 4 и 5 детей слишком маленькая выборка, чтобы сделать какие-то выводы."
      ]
    },
    {
      "cell_type": "markdown",
      "id": "APzKB0IUNa4V",
      "metadata": {
        "id": "APzKB0IUNa4V"
      },
      "source": [
        "### Вопрос 2:"
      ]
    },
    {
      "cell_type": "markdown",
      "id": "7K01j-RBNy4B",
      "metadata": {
        "id": "7K01j-RBNy4B"
      },
      "source": [
        "Есть ли зависимость между семейным положением и возвратом кредита в срок?"
      ]
    },
    {
      "cell_type": "markdown",
      "id": "a8o_Jaj7N2oP",
      "metadata": {
        "id": "a8o_Jaj7N2oP"
      },
      "source": [
        "Построим сводную таблицу."
      ]
    },
    {
      "cell_type": "code",
      "execution_count": 70,
      "id": "LS-BeeSmN5eN",
      "metadata": {
        "colab": {
          "base_uri": "https://localhost:8080/",
          "height": 206
        },
        "id": "LS-BeeSmN5eN",
        "outputId": "5e89c7dd-4e3b-4724-a773-9ea1786102ae"
      },
      "outputs": [
        {
          "output_type": "execute_result",
          "data": {
            "text/plain": [
              "   family_status_id          family_status  count  my_mean\n",
              "0                 2         вдовец / вдова    946    6.554\n",
              "1                 3              в разводе   1179    7.125\n",
              "2                 0        женат / замужем  12213    7.558\n",
              "3                 1       гражданский брак   4112    9.314\n",
              "4                 4  не женат / не замужем   2780    9.784"
            ],
            "text/html": [
              "\n",
              "\n",
              "  <div id=\"df-36aa832e-dca7-4420-842d-e367fb8ea25b\">\n",
              "    <div class=\"colab-df-container\">\n",
              "      <div>\n",
              "<style scoped>\n",
              "    .dataframe tbody tr th:only-of-type {\n",
              "        vertical-align: middle;\n",
              "    }\n",
              "\n",
              "    .dataframe tbody tr th {\n",
              "        vertical-align: top;\n",
              "    }\n",
              "\n",
              "    .dataframe thead th {\n",
              "        text-align: right;\n",
              "    }\n",
              "</style>\n",
              "<table border=\"1\" class=\"dataframe\">\n",
              "  <thead>\n",
              "    <tr style=\"text-align: right;\">\n",
              "      <th></th>\n",
              "      <th>family_status_id</th>\n",
              "      <th>family_status</th>\n",
              "      <th>count</th>\n",
              "      <th>my_mean</th>\n",
              "    </tr>\n",
              "  </thead>\n",
              "  <tbody>\n",
              "    <tr>\n",
              "      <th>0</th>\n",
              "      <td>2</td>\n",
              "      <td>вдовец / вдова</td>\n",
              "      <td>946</td>\n",
              "      <td>6.554</td>\n",
              "    </tr>\n",
              "    <tr>\n",
              "      <th>1</th>\n",
              "      <td>3</td>\n",
              "      <td>в разводе</td>\n",
              "      <td>1179</td>\n",
              "      <td>7.125</td>\n",
              "    </tr>\n",
              "    <tr>\n",
              "      <th>2</th>\n",
              "      <td>0</td>\n",
              "      <td>женат / замужем</td>\n",
              "      <td>12213</td>\n",
              "      <td>7.558</td>\n",
              "    </tr>\n",
              "    <tr>\n",
              "      <th>3</th>\n",
              "      <td>1</td>\n",
              "      <td>гражданский брак</td>\n",
              "      <td>4112</td>\n",
              "      <td>9.314</td>\n",
              "    </tr>\n",
              "    <tr>\n",
              "      <th>4</th>\n",
              "      <td>4</td>\n",
              "      <td>не женат / не замужем</td>\n",
              "      <td>2780</td>\n",
              "      <td>9.784</td>\n",
              "    </tr>\n",
              "  </tbody>\n",
              "</table>\n",
              "</div>\n",
              "      <button class=\"colab-df-convert\" onclick=\"convertToInteractive('df-36aa832e-dca7-4420-842d-e367fb8ea25b')\"\n",
              "              title=\"Convert this dataframe to an interactive table.\"\n",
              "              style=\"display:none;\">\n",
              "\n",
              "  <svg xmlns=\"http://www.w3.org/2000/svg\" height=\"24px\"viewBox=\"0 0 24 24\"\n",
              "       width=\"24px\">\n",
              "    <path d=\"M0 0h24v24H0V0z\" fill=\"none\"/>\n",
              "    <path d=\"M18.56 5.44l.94 2.06.94-2.06 2.06-.94-2.06-.94-.94-2.06-.94 2.06-2.06.94zm-11 1L8.5 8.5l.94-2.06 2.06-.94-2.06-.94L8.5 2.5l-.94 2.06-2.06.94zm10 10l.94 2.06.94-2.06 2.06-.94-2.06-.94-.94-2.06-.94 2.06-2.06.94z\"/><path d=\"M17.41 7.96l-1.37-1.37c-.4-.4-.92-.59-1.43-.59-.52 0-1.04.2-1.43.59L10.3 9.45l-7.72 7.72c-.78.78-.78 2.05 0 2.83L4 21.41c.39.39.9.59 1.41.59.51 0 1.02-.2 1.41-.59l7.78-7.78 2.81-2.81c.8-.78.8-2.07 0-2.86zM5.41 20L4 18.59l7.72-7.72 1.47 1.35L5.41 20z\"/>\n",
              "  </svg>\n",
              "      </button>\n",
              "\n",
              "\n",
              "\n",
              "    <div id=\"df-6becce1c-1863-44ea-b6a2-810f7a754583\">\n",
              "      <button class=\"colab-df-quickchart\" onclick=\"quickchart('df-6becce1c-1863-44ea-b6a2-810f7a754583')\"\n",
              "              title=\"Suggest charts.\"\n",
              "              style=\"display:none;\">\n",
              "\n",
              "<svg xmlns=\"http://www.w3.org/2000/svg\" height=\"24px\"viewBox=\"0 0 24 24\"\n",
              "     width=\"24px\">\n",
              "    <g>\n",
              "        <path d=\"M19 3H5c-1.1 0-2 .9-2 2v14c0 1.1.9 2 2 2h14c1.1 0 2-.9 2-2V5c0-1.1-.9-2-2-2zM9 17H7v-7h2v7zm4 0h-2V7h2v10zm4 0h-2v-4h2v4z\"/>\n",
              "    </g>\n",
              "</svg>\n",
              "      </button>\n",
              "    </div>\n",
              "\n",
              "<style>\n",
              "  .colab-df-quickchart {\n",
              "    background-color: #E8F0FE;\n",
              "    border: none;\n",
              "    border-radius: 50%;\n",
              "    cursor: pointer;\n",
              "    display: none;\n",
              "    fill: #1967D2;\n",
              "    height: 32px;\n",
              "    padding: 0 0 0 0;\n",
              "    width: 32px;\n",
              "  }\n",
              "\n",
              "  .colab-df-quickchart:hover {\n",
              "    background-color: #E2EBFA;\n",
              "    box-shadow: 0px 1px 2px rgba(60, 64, 67, 0.3), 0px 1px 3px 1px rgba(60, 64, 67, 0.15);\n",
              "    fill: #174EA6;\n",
              "  }\n",
              "\n",
              "  [theme=dark] .colab-df-quickchart {\n",
              "    background-color: #3B4455;\n",
              "    fill: #D2E3FC;\n",
              "  }\n",
              "\n",
              "  [theme=dark] .colab-df-quickchart:hover {\n",
              "    background-color: #434B5C;\n",
              "    box-shadow: 0px 1px 3px 1px rgba(0, 0, 0, 0.15);\n",
              "    filter: drop-shadow(0px 1px 2px rgba(0, 0, 0, 0.3));\n",
              "    fill: #FFFFFF;\n",
              "  }\n",
              "</style>\n",
              "\n",
              "    <script>\n",
              "      async function quickchart(key) {\n",
              "        const containerElement = document.querySelector('#' + key);\n",
              "        const charts = await google.colab.kernel.invokeFunction(\n",
              "            'suggestCharts', [key], {});\n",
              "      }\n",
              "    </script>\n",
              "\n",
              "      <script>\n",
              "\n",
              "function displayQuickchartButton(domScope) {\n",
              "  let quickchartButtonEl =\n",
              "    domScope.querySelector('#df-6becce1c-1863-44ea-b6a2-810f7a754583 button.colab-df-quickchart');\n",
              "  quickchartButtonEl.style.display =\n",
              "    google.colab.kernel.accessAllowed ? 'block' : 'none';\n",
              "}\n",
              "\n",
              "        displayQuickchartButton(document);\n",
              "      </script>\n",
              "      <style>\n",
              "    .colab-df-container {\n",
              "      display:flex;\n",
              "      flex-wrap:wrap;\n",
              "      gap: 12px;\n",
              "    }\n",
              "\n",
              "    .colab-df-convert {\n",
              "      background-color: #E8F0FE;\n",
              "      border: none;\n",
              "      border-radius: 50%;\n",
              "      cursor: pointer;\n",
              "      display: none;\n",
              "      fill: #1967D2;\n",
              "      height: 32px;\n",
              "      padding: 0 0 0 0;\n",
              "      width: 32px;\n",
              "    }\n",
              "\n",
              "    .colab-df-convert:hover {\n",
              "      background-color: #E2EBFA;\n",
              "      box-shadow: 0px 1px 2px rgba(60, 64, 67, 0.3), 0px 1px 3px 1px rgba(60, 64, 67, 0.15);\n",
              "      fill: #174EA6;\n",
              "    }\n",
              "\n",
              "    [theme=dark] .colab-df-convert {\n",
              "      background-color: #3B4455;\n",
              "      fill: #D2E3FC;\n",
              "    }\n",
              "\n",
              "    [theme=dark] .colab-df-convert:hover {\n",
              "      background-color: #434B5C;\n",
              "      box-shadow: 0px 1px 3px 1px rgba(0, 0, 0, 0.15);\n",
              "      filter: drop-shadow(0px 1px 2px rgba(0, 0, 0, 0.3));\n",
              "      fill: #FFFFFF;\n",
              "    }\n",
              "  </style>\n",
              "\n",
              "      <script>\n",
              "        const buttonEl =\n",
              "          document.querySelector('#df-36aa832e-dca7-4420-842d-e367fb8ea25b button.colab-df-convert');\n",
              "        buttonEl.style.display =\n",
              "          google.colab.kernel.accessAllowed ? 'block' : 'none';\n",
              "\n",
              "        async function convertToInteractive(key) {\n",
              "          const element = document.querySelector('#df-36aa832e-dca7-4420-842d-e367fb8ea25b');\n",
              "          const dataTable =\n",
              "            await google.colab.kernel.invokeFunction('convertToInteractive',\n",
              "                                                     [key], {});\n",
              "          if (!dataTable) return;\n",
              "\n",
              "          const docLinkHtml = 'Like what you see? Visit the ' +\n",
              "            '<a target=\"_blank\" href=https://colab.research.google.com/notebooks/data_table.ipynb>data table notebook</a>'\n",
              "            + ' to learn more about interactive tables.';\n",
              "          element.innerHTML = '';\n",
              "          dataTable['output_type'] = 'display_data';\n",
              "          await google.colab.output.renderOutput(dataTable, element);\n",
              "          const docLink = document.createElement('div');\n",
              "          docLink.innerHTML = docLinkHtml;\n",
              "          element.appendChild(docLink);\n",
              "        }\n",
              "      </script>\n",
              "    </div>\n",
              "  </div>\n"
            ]
          },
          "metadata": {},
          "execution_count": 70
        }
      ],
      "source": [
        "plot_q2 = df.groupby('family_status_id')['debt'].agg(['count', my_mean])\n",
        "\n",
        "plot_q2 = family_status_dict.merge(plot_q2, on='family_status_id').sort_values('my_mean').reset_index(drop=True)\n",
        "\n",
        "plot_q2"
      ]
    },
    {
      "cell_type": "code",
      "source": [
        "sns.barplot(data=plot_q2, x='family_status', y='my_mean').set(title=('Распределение процента невозвращенных кредитов от семейного положение'),\n",
        "                                                              xlabel='Семейное положение',\n",
        "                                                              ylabel='Процент невозвращенных кредитов (%)')\n",
        "\n",
        "plt.show()"
      ],
      "metadata": {
        "colab": {
          "base_uri": "https://localhost:8080/",
          "height": 487
        },
        "id": "Lxs3EI6X6wht",
        "outputId": "5bb5f576-9fed-4fab-c33c-7f035a3c63b5"
      },
      "id": "Lxs3EI6X6wht",
      "execution_count": 71,
      "outputs": [
        {
          "output_type": "display_data",
          "data": {
            "text/plain": [
              "<Figure size 1000x500 with 1 Axes>"
            ],
            "image/png": "[encoded data removed]"
          },
          "metadata": {}
        }
      ]
    },
    {
      "cell_type": "markdown",
      "id": "yC5qt8NaP_C6",
      "metadata": {
        "id": "yC5qt8NaP_C6"
      },
      "source": [
        "#### Вывод 2:"
      ]
    },
    {
      "cell_type": "markdown",
      "id": "xGGg7RZUTHRH",
      "metadata": {
        "id": "xGGg7RZUTHRH"
      },
      "source": [
        "Вдовцы/вдовы и люди в разводе чаще всех возвращают кредиты в срок. Люди в гражданском браке и не женатые/незамужем делают это реже (на 2-3%)."
      ]
    },
    {
      "cell_type": "markdown",
      "id": "NfybwH04QUw8",
      "metadata": {
        "id": "NfybwH04QUw8"
      },
      "source": [
        "### Вопрос 3:"
      ]
    },
    {
      "cell_type": "markdown",
      "id": "F1-x7dRsQYjk",
      "metadata": {
        "id": "F1-x7dRsQYjk"
      },
      "source": [
        "Есть ли зависимость между уровнем дохода и возвратом кредита в срок?"
      ]
    },
    {
      "cell_type": "markdown",
      "id": "DVXbCOOYQXGT",
      "metadata": {
        "id": "DVXbCOOYQXGT"
      },
      "source": [
        "Построим сводную таблицу."
      ]
    },
    {
      "cell_type": "code",
      "execution_count": 72,
      "id": "6aIrKYX-QeBh",
      "metadata": {
        "colab": {
          "base_uri": "https://localhost:8080/",
          "height": 206
        },
        "id": "6aIrKYX-QeBh",
        "outputId": "7aea02e4-7e6b-456b-8b9d-046981e76340"
      },
      "outputs": [
        {
          "output_type": "execute_result",
          "data": {
            "text/plain": [
              "  total_income_category  count  my_mean\n",
              "0                     A     25    8.000\n",
              "1                     B   4986    7.080\n",
              "2                     C  15850    8.492\n",
              "3                     D    347    6.052\n",
              "4                     E     22    9.091"
            ],
            "text/html": [
              "\n",
              "\n",
              "  <div id=\"df-84bb6c12-5be8-4119-9ae4-efb24b01a496\">\n",
              "    <div class=\"colab-df-container\">\n",
              "      <div>\n",
              "<style scoped>\n",
              "    .dataframe tbody tr th:only-of-type {\n",
              "        vertical-align: middle;\n",
              "    }\n",
              "\n",
              "    .dataframe tbody tr th {\n",
              "        vertical-align: top;\n",
              "    }\n",
              "\n",
              "    .dataframe thead th {\n",
              "        text-align: right;\n",
              "    }\n",
              "</style>\n",
              "<table border=\"1\" class=\"dataframe\">\n",
              "  <thead>\n",
              "    <tr style=\"text-align: right;\">\n",
              "      <th></th>\n",
              "      <th>total_income_category</th>\n",
              "      <th>count</th>\n",
              "      <th>my_mean</th>\n",
              "    </tr>\n",
              "  </thead>\n",
              "  <tbody>\n",
              "    <tr>\n",
              "      <th>0</th>\n",
              "      <td>A</td>\n",
              "      <td>25</td>\n",
              "      <td>8.000</td>\n",
              "    </tr>\n",
              "    <tr>\n",
              "      <th>1</th>\n",
              "      <td>B</td>\n",
              "      <td>4986</td>\n",
              "      <td>7.080</td>\n",
              "    </tr>\n",
              "    <tr>\n",
              "      <th>2</th>\n",
              "      <td>C</td>\n",
              "      <td>15850</td>\n",
              "      <td>8.492</td>\n",
              "    </tr>\n",
              "    <tr>\n",
              "      <th>3</th>\n",
              "      <td>D</td>\n",
              "      <td>347</td>\n",
              "      <td>6.052</td>\n",
              "    </tr>\n",
              "    <tr>\n",
              "      <th>4</th>\n",
              "      <td>E</td>\n",
              "      <td>22</td>\n",
              "      <td>9.091</td>\n",
              "    </tr>\n",
              "  </tbody>\n",
              "</table>\n",
              "</div>\n",
              "      <button class=\"colab-df-convert\" onclick=\"convertToInteractive('df-84bb6c12-5be8-4119-9ae4-efb24b01a496')\"\n",
              "              title=\"Convert this dataframe to an interactive table.\"\n",
              "              style=\"display:none;\">\n",
              "\n",
              "  <svg xmlns=\"http://www.w3.org/2000/svg\" height=\"24px\"viewBox=\"0 0 24 24\"\n",
              "       width=\"24px\">\n",
              "    <path d=\"M0 0h24v24H0V0z\" fill=\"none\"/>\n",
              "    <path d=\"M18.56 5.44l.94 2.06.94-2.06 2.06-.94-2.06-.94-.94-2.06-.94 2.06-2.06.94zm-11 1L8.5 8.5l.94-2.06 2.06-.94-2.06-.94L8.5 2.5l-.94 2.06-2.06.94zm10 10l.94 2.06.94-2.06 2.06-.94-2.06-.94-.94-2.06-.94 2.06-2.06.94z\"/><path d=\"M17.41 7.96l-1.37-1.37c-.4-.4-.92-.59-1.43-.59-.52 0-1.04.2-1.43.59L10.3 9.45l-7.72 7.72c-.78.78-.78 2.05 0 2.83L4 21.41c.39.39.9.59 1.41.59.51 0 1.02-.2 1.41-.59l7.78-7.78 2.81-2.81c.8-.78.8-2.07 0-2.86zM5.41 20L4 18.59l7.72-7.72 1.47 1.35L5.41 20z\"/>\n",
              "  </svg>\n",
              "      </button>\n",
              "\n",
              "\n",
              "\n",
              "    <div id=\"df-f49278f1-ddc6-48f4-bb81-1e2c158bc3e2\">\n",
              "      <button class=\"colab-df-quickchart\" onclick=\"quickchart('df-f49278f1-ddc6-48f4-bb81-1e2c158bc3e2')\"\n",
              "              title=\"Suggest charts.\"\n",
              "              style=\"display:none;\">\n",
              "\n",
              "<svg xmlns=\"http://www.w3.org/2000/svg\" height=\"24px\"viewBox=\"0 0 24 24\"\n",
              "     width=\"24px\">\n",
              "    <g>\n",
              "        <path d=\"M19 3H5c-1.1 0-2 .9-2 2v14c0 1.1.9 2 2 2h14c1.1 0 2-.9 2-2V5c0-1.1-.9-2-2-2zM9 17H7v-7h2v7zm4 0h-2V7h2v10zm4 0h-2v-4h2v4z\"/>\n",
              "    </g>\n",
              "</svg>\n",
              "      </button>\n",
              "    </div>\n",
              "\n",
              "<style>\n",
              "  .colab-df-quickchart {\n",
              "    background-color: #E8F0FE;\n",
              "    border: none;\n",
              "    border-radius: 50%;\n",
              "    cursor: pointer;\n",
              "    display: none;\n",
              "    fill: #1967D2;\n",
              "    height: 32px;\n",
              "    padding: 0 0 0 0;\n",
              "    width: 32px;\n",
              "  }\n",
              "\n",
              "  .colab-df-quickchart:hover {\n",
              "    background-color: #E2EBFA;\n",
              "    box-shadow: 0px 1px 2px rgba(60, 64, 67, 0.3), 0px 1px 3px 1px rgba(60, 64, 67, 0.15);\n",
              "    fill: #174EA6;\n",
              "  }\n",
              "\n",
              "  [theme=dark] .colab-df-quickchart {\n",
              "    background-color: #3B4455;\n",
              "    fill: #D2E3FC;\n",
              "  }\n",
              "\n",
              "  [theme=dark] .colab-df-quickchart:hover {\n",
              "    background-color: #434B5C;\n",
              "    box-shadow: 0px 1px 3px 1px rgba(0, 0, 0, 0.15);\n",
              "    filter: drop-shadow(0px 1px 2px rgba(0, 0, 0, 0.3));\n",
              "    fill: #FFFFFF;\n",
              "  }\n",
              "</style>\n",
              "\n",
              "    <script>\n",
              "      async function quickchart(key) {\n",
              "        const containerElement = document.querySelector('#' + key);\n",
              "        const charts = await google.colab.kernel.invokeFunction(\n",
              "            'suggestCharts', [key], {});\n",
              "      }\n",
              "    </script>\n",
              "\n",
              "      <script>\n",
              "\n",
              "function displayQuickchartButton(domScope) {\n",
              "  let quickchartButtonEl =\n",
              "    domScope.querySelector('#df-f49278f1-ddc6-48f4-bb81-1e2c158bc3e2 button.colab-df-quickchart');\n",
              "  quickchartButtonEl.style.display =\n",
              "    google.colab.kernel.accessAllowed ? 'block' : 'none';\n",
              "}\n",
              "\n",
              "        displayQuickchartButton(document);\n",
              "      </script>\n",
              "      <style>\n",
              "    .colab-df-container {\n",
              "      display:flex;\n",
              "      flex-wrap:wrap;\n",
              "      gap: 12px;\n",
              "    }\n",
              "\n",
              "    .colab-df-convert {\n",
              "      background-color: #E8F0FE;\n",
              "      border: none;\n",
              "      border-radius: 50%;\n",
              "      cursor: pointer;\n",
              "      display: none;\n",
              "      fill: #1967D2;\n",
              "      height: 32px;\n",
              "      padding: 0 0 0 0;\n",
              "      width: 32px;\n",
              "    }\n",
              "\n",
              "    .colab-df-convert:hover {\n",
              "      background-color: #E2EBFA;\n",
              "      box-shadow: 0px 1px 2px rgba(60, 64, 67, 0.3), 0px 1px 3px 1px rgba(60, 64, 67, 0.15);\n",
              "      fill: #174EA6;\n",
              "    }\n",
              "\n",
              "    [theme=dark] .colab-df-convert {\n",
              "      background-color: #3B4455;\n",
              "      fill: #D2E3FC;\n",
              "    }\n",
              "\n",
              "    [theme=dark] .colab-df-convert:hover {\n",
              "      background-color: #434B5C;\n",
              "      box-shadow: 0px 1px 3px 1px rgba(0, 0, 0, 0.15);\n",
              "      filter: drop-shadow(0px 1px 2px rgba(0, 0, 0, 0.3));\n",
              "      fill: #FFFFFF;\n",
              "    }\n",
              "  </style>\n",
              "\n",
              "      <script>\n",
              "        const buttonEl =\n",
              "          document.querySelector('#df-84bb6c12-5be8-4119-9ae4-efb24b01a496 button.colab-df-convert');\n",
              "        buttonEl.style.display =\n",
              "          google.colab.kernel.accessAllowed ? 'block' : 'none';\n",
              "\n",
              "        async function convertToInteractive(key) {\n",
              "          const element = document.querySelector('#df-84bb6c12-5be8-4119-9ae4-efb24b01a496');\n",
              "          const dataTable =\n",
              "            await google.colab.kernel.invokeFunction('convertToInteractive',\n",
              "                                                     [key], {});\n",
              "          if (!dataTable) return;\n",
              "\n",
              "          const docLinkHtml = 'Like what you see? Visit the ' +\n",
              "            '<a target=\"_blank\" href=https://colab.research.google.com/notebooks/data_table.ipynb>data table notebook</a>'\n",
              "            + ' to learn more about interactive tables.';\n",
              "          element.innerHTML = '';\n",
              "          dataTable['output_type'] = 'display_data';\n",
              "          await google.colab.output.renderOutput(dataTable, element);\n",
              "          const docLink = document.createElement('div');\n",
              "          docLink.innerHTML = docLinkHtml;\n",
              "          element.appendChild(docLink);\n",
              "        }\n",
              "      </script>\n",
              "    </div>\n",
              "  </div>\n"
            ]
          },
          "metadata": {},
          "execution_count": 72
        }
      ],
      "source": [
        "plot_q3 = df.groupby('total_income_category')['debt'].agg(['count', my_mean]).reset_index()\n",
        "\n",
        "plot_q3"
      ]
    },
    {
      "cell_type": "markdown",
      "id": "Z2uYfMNHWiw8",
      "metadata": {
        "id": "Z2uYfMNHWiw8"
      },
      "source": [
        "Категории:\n",
        "\n",
        "* 0–30000 — 'E'\n",
        "* 30001–50000 — 'D'\n",
        "* 50001–200000 — 'C'\n",
        "* 200001–1000000 — 'B'\n",
        "* 1000001 и выше — 'A'"
      ]
    },
    {
      "cell_type": "markdown",
      "id": "-nLEOMEBXodW",
      "metadata": {
        "id": "-nLEOMEBXodW"
      },
      "source": [
        "Не будем рассматривать категории A и E из-за малого количества записей."
      ]
    },
    {
      "cell_type": "markdown",
      "id": "ahrGuFUCYB1Q",
      "metadata": {
        "id": "ahrGuFUCYB1Q"
      },
      "source": [
        "Категория D выделяется среди категорий B, C, D низким процентом возвратов кредитов в срок. Проверим не связно ли это с тем, что люди в категории D берут кредиты на другие цели."
      ]
    },
    {
      "cell_type": "code",
      "execution_count": 73,
      "id": "cLyLhlMcXE9j",
      "metadata": {
        "colab": {
          "base_uri": "https://localhost:8080/"
        },
        "id": "cLyLhlMcXE9j",
        "outputId": "a390fd18-974d-4f25-c66e-98a4941c7ec5"
      },
      "outputs": [
        {
          "output_type": "stream",
          "name": "stdout",
          "text": [
            "Категория: B\n",
            "операции с недвижимостью   0.510\n",
            "операции с автомобилем     0.204\n",
            "получение образования      0.177\n",
            "проведение свадьбы         0.109\n",
            "Name: purpose_category, dtype: float64\n",
            "\n",
            "Категория: C\n",
            "операции с недвижимостью   0.503\n",
            "операции с автомобилем     0.200\n",
            "получение образования      0.189\n",
            "проведение свадьбы         0.108\n",
            "Name: purpose_category, dtype: float64\n",
            "\n",
            "Категория: D\n",
            "операции с недвижимостью   0.481\n",
            "получение образования      0.216\n",
            "операции с автомобилем     0.205\n",
            "проведение свадьбы         0.098\n",
            "Name: purpose_category, dtype: float64\n",
            "\n"
          ]
        }
      ],
      "source": [
        "for cat in ['B', 'C', 'D']:\n",
        "    print('Категория:', cat)\n",
        "    print(df[df['total_income_category'] == cat]['purpose_category'].value_counts(normalize=True))\n",
        "    print('')"
      ]
    },
    {
      "cell_type": "markdown",
      "id": "Qk7IYs6QYDU1",
      "metadata": {
        "id": "Qk7IYs6QYDU1"
      },
      "source": [
        "Значительной разницы в целях кредитов для группа B, C и D почти нет."
      ]
    },
    {
      "cell_type": "code",
      "source": [
        "sns.barplot(data=plot_q3, x='total_income_category', y='my_mean').set(title=('Распределение процента невозвращенных кредитов от категории дохода'),\n",
        "                                                                      xlabel='Категория дохода',\n",
        "                                                                      ylabel='Процент невозвращенных кредитов (%)')\n",
        "\n",
        "plt.show()"
      ],
      "metadata": {
        "colab": {
          "base_uri": "https://localhost:8080/",
          "height": 487
        },
        "id": "RTQvdWiw8tty",
        "outputId": "8fcfadb3-88a5-46f2-9164-fb243c9de0d4"
      },
      "id": "RTQvdWiw8tty",
      "execution_count": 74,
      "outputs": [
        {
          "output_type": "display_data",
          "data": {
            "text/plain": [
              "<Figure size 1000x500 with 1 Axes>"
            ],
            "image/png": "[encoded data removed]"
          },
          "metadata": {}
        }
      ]
    },
    {
      "cell_type": "markdown",
      "id": "2gCI4B6kRyh-",
      "metadata": {
        "id": "2gCI4B6kRyh-"
      },
      "source": [
        "#### Вывод 3:"
      ]
    },
    {
      "cell_type": "markdown",
      "id": "MJqr9IHxV5VQ",
      "metadata": {
        "id": "MJqr9IHxV5VQ"
      },
      "source": [
        "Видно, что категория B возвращает кредиты в срок чаще категории C, что коррелирует с разницей доходов. Стоит отметить, что когда мы заполняли пропуски медианой, медиана ~145000 попадает в категорию С, что могло исказить результаты. При этом категория D возвращает кредиты в срок чащё любых других категорий, это может быть связано, с тем что 330 человек недостаточное количество для сравнения."
      ]
    },
    {
      "cell_type": "markdown",
      "id": "4OT6kS6FQ3cm",
      "metadata": {
        "id": "4OT6kS6FQ3cm"
      },
      "source": [
        "### Вопрос 4:"
      ]
    },
    {
      "cell_type": "markdown",
      "id": "JVzMLnmUQ646",
      "metadata": {
        "id": "JVzMLnmUQ646"
      },
      "source": [
        "Как разные цели кредита влияют на его возврат в срок?\n"
      ]
    },
    {
      "cell_type": "markdown",
      "id": "WiLXJ4kgQ_rV",
      "metadata": {
        "id": "WiLXJ4kgQ_rV"
      },
      "source": [
        "Построим сводную таблицу."
      ]
    },
    {
      "cell_type": "code",
      "execution_count": 75,
      "id": "DL4ZWdTGRA1T",
      "metadata": {
        "colab": {
          "base_uri": "https://localhost:8080/",
          "height": 175
        },
        "id": "DL4ZWdTGRA1T",
        "outputId": "1b5cb9cf-e04b-47c6-ce53-c44ca7b19f7f"
      },
      "outputs": [
        {
          "output_type": "execute_result",
          "data": {
            "text/plain": [
              "           purpose_category  count  my_mean\n",
              "0  операции с недвижимостью  10703    7.260\n",
              "1        проведение свадьбы   2299    7.873\n",
              "2     получение образования   3970    9.295\n",
              "3    операции с автомобилем   4258    9.324"
            ],
            "text/html": [
              "\n",
              "\n",
              "  <div id=\"df-db44a4f3-d968-47da-b5c7-9a2b960304eb\">\n",
              "    <div class=\"colab-df-container\">\n",
              "      <div>\n",
              "<style scoped>\n",
              "    .dataframe tbody tr th:only-of-type {\n",
              "        vertical-align: middle;\n",
              "    }\n",
              "\n",
              "    .dataframe tbody tr th {\n",
              "        vertical-align: top;\n",
              "    }\n",
              "\n",
              "    .dataframe thead th {\n",
              "        text-align: right;\n",
              "    }\n",
              "</style>\n",
              "<table border=\"1\" class=\"dataframe\">\n",
              "  <thead>\n",
              "    <tr style=\"text-align: right;\">\n",
              "      <th></th>\n",
              "      <th>purpose_category</th>\n",
              "      <th>count</th>\n",
              "      <th>my_mean</th>\n",
              "    </tr>\n",
              "  </thead>\n",
              "  <tbody>\n",
              "    <tr>\n",
              "      <th>0</th>\n",
              "      <td>операции с недвижимостью</td>\n",
              "      <td>10703</td>\n",
              "      <td>7.260</td>\n",
              "    </tr>\n",
              "    <tr>\n",
              "      <th>1</th>\n",
              "      <td>проведение свадьбы</td>\n",
              "      <td>2299</td>\n",
              "      <td>7.873</td>\n",
              "    </tr>\n",
              "    <tr>\n",
              "      <th>2</th>\n",
              "      <td>получение образования</td>\n",
              "      <td>3970</td>\n",
              "      <td>9.295</td>\n",
              "    </tr>\n",
              "    <tr>\n",
              "      <th>3</th>\n",
              "      <td>операции с автомобилем</td>\n",
              "      <td>4258</td>\n",
              "      <td>9.324</td>\n",
              "    </tr>\n",
              "  </tbody>\n",
              "</table>\n",
              "</div>\n",
              "      <button class=\"colab-df-convert\" onclick=\"convertToInteractive('df-db44a4f3-d968-47da-b5c7-9a2b960304eb')\"\n",
              "              title=\"Convert this dataframe to an interactive table.\"\n",
              "              style=\"display:none;\">\n",
              "\n",
              "  <svg xmlns=\"http://www.w3.org/2000/svg\" height=\"24px\"viewBox=\"0 0 24 24\"\n",
              "       width=\"24px\">\n",
              "    <path d=\"M0 0h24v24H0V0z\" fill=\"none\"/>\n",
              "    <path d=\"M18.56 5.44l.94 2.06.94-2.06 2.06-.94-2.06-.94-.94-2.06-.94 2.06-2.06.94zm-11 1L8.5 8.5l.94-2.06 2.06-.94-2.06-.94L8.5 2.5l-.94 2.06-2.06.94zm10 10l.94 2.06.94-2.06 2.06-.94-2.06-.94-.94-2.06-.94 2.06-2.06.94z\"/><path d=\"M17.41 7.96l-1.37-1.37c-.4-.4-.92-.59-1.43-.59-.52 0-1.04.2-1.43.59L10.3 9.45l-7.72 7.72c-.78.78-.78 2.05 0 2.83L4 21.41c.39.39.9.59 1.41.59.51 0 1.02-.2 1.41-.59l7.78-7.78 2.81-2.81c.8-.78.8-2.07 0-2.86zM5.41 20L4 18.59l7.72-7.72 1.47 1.35L5.41 20z\"/>\n",
              "  </svg>\n",
              "      </button>\n",
              "\n",
              "\n",
              "\n",
              "    <div id=\"df-24dc4b9f-8369-40eb-9666-5ecc204a70ab\">\n",
              "      <button class=\"colab-df-quickchart\" onclick=\"quickchart('df-24dc4b9f-8369-40eb-9666-5ecc204a70ab')\"\n",
              "              title=\"Suggest charts.\"\n",
              "              style=\"display:none;\">\n",
              "\n",
              "<svg xmlns=\"http://www.w3.org/2000/svg\" height=\"24px\"viewBox=\"0 0 24 24\"\n",
              "     width=\"24px\">\n",
              "    <g>\n",
              "        <path d=\"M19 3H5c-1.1 0-2 .9-2 2v14c0 1.1.9 2 2 2h14c1.1 0 2-.9 2-2V5c0-1.1-.9-2-2-2zM9 17H7v-7h2v7zm4 0h-2V7h2v10zm4 0h-2v-4h2v4z\"/>\n",
              "    </g>\n",
              "</svg>\n",
              "      </button>\n",
              "    </div>\n",
              "\n",
              "<style>\n",
              "  .colab-df-quickchart {\n",
              "    background-color: #E8F0FE;\n",
              "    border: none;\n",
              "    border-radius: 50%;\n",
              "    cursor: pointer;\n",
              "    display: none;\n",
              "    fill: #1967D2;\n",
              "    height: 32px;\n",
              "    padding: 0 0 0 0;\n",
              "    width: 32px;\n",
              "  }\n",
              "\n",
              "  .colab-df-quickchart:hover {\n",
              "    background-color: #E2EBFA;\n",
              "    box-shadow: 0px 1px 2px rgba(60, 64, 67, 0.3), 0px 1px 3px 1px rgba(60, 64, 67, 0.15);\n",
              "    fill: #174EA6;\n",
              "  }\n",
              "\n",
              "  [theme=dark] .colab-df-quickchart {\n",
              "    background-color: #3B4455;\n",
              "    fill: #D2E3FC;\n",
              "  }\n",
              "\n",
              "  [theme=dark] .colab-df-quickchart:hover {\n",
              "    background-color: #434B5C;\n",
              "    box-shadow: 0px 1px 3px 1px rgba(0, 0, 0, 0.15);\n",
              "    filter: drop-shadow(0px 1px 2px rgba(0, 0, 0, 0.3));\n",
              "    fill: #FFFFFF;\n",
              "  }\n",
              "</style>\n",
              "\n",
              "    <script>\n",
              "      async function quickchart(key) {\n",
              "        const containerElement = document.querySelector('#' + key);\n",
              "        const charts = await google.colab.kernel.invokeFunction(\n",
              "            'suggestCharts', [key], {});\n",
              "      }\n",
              "    </script>\n",
              "\n",
              "      <script>\n",
              "\n",
              "function displayQuickchartButton(domScope) {\n",
              "  let quickchartButtonEl =\n",
              "    domScope.querySelector('#df-24dc4b9f-8369-40eb-9666-5ecc204a70ab button.colab-df-quickchart');\n",
              "  quickchartButtonEl.style.display =\n",
              "    google.colab.kernel.accessAllowed ? 'block' : 'none';\n",
              "}\n",
              "\n",
              "        displayQuickchartButton(document);\n",
              "      </script>\n",
              "      <style>\n",
              "    .colab-df-container {\n",
              "      display:flex;\n",
              "      flex-wrap:wrap;\n",
              "      gap: 12px;\n",
              "    }\n",
              "\n",
              "    .colab-df-convert {\n",
              "      background-color: #E8F0FE;\n",
              "      border: none;\n",
              "      border-radius: 50%;\n",
              "      cursor: pointer;\n",
              "      display: none;\n",
              "      fill: #1967D2;\n",
              "      height: 32px;\n",
              "      padding: 0 0 0 0;\n",
              "      width: 32px;\n",
              "    }\n",
              "\n",
              "    .colab-df-convert:hover {\n",
              "      background-color: #E2EBFA;\n",
              "      box-shadow: 0px 1px 2px rgba(60, 64, 67, 0.3), 0px 1px 3px 1px rgba(60, 64, 67, 0.15);\n",
              "      fill: #174EA6;\n",
              "    }\n",
              "\n",
              "    [theme=dark] .colab-df-convert {\n",
              "      background-color: #3B4455;\n",
              "      fill: #D2E3FC;\n",
              "    }\n",
              "\n",
              "    [theme=dark] .colab-df-convert:hover {\n",
              "      background-color: #434B5C;\n",
              "      box-shadow: 0px 1px 3px 1px rgba(0, 0, 0, 0.15);\n",
              "      filter: drop-shadow(0px 1px 2px rgba(0, 0, 0, 0.3));\n",
              "      fill: #FFFFFF;\n",
              "    }\n",
              "  </style>\n",
              "\n",
              "      <script>\n",
              "        const buttonEl =\n",
              "          document.querySelector('#df-db44a4f3-d968-47da-b5c7-9a2b960304eb button.colab-df-convert');\n",
              "        buttonEl.style.display =\n",
              "          google.colab.kernel.accessAllowed ? 'block' : 'none';\n",
              "\n",
              "        async function convertToInteractive(key) {\n",
              "          const element = document.querySelector('#df-db44a4f3-d968-47da-b5c7-9a2b960304eb');\n",
              "          const dataTable =\n",
              "            await google.colab.kernel.invokeFunction('convertToInteractive',\n",
              "                                                     [key], {});\n",
              "          if (!dataTable) return;\n",
              "\n",
              "          const docLinkHtml = 'Like what you see? Visit the ' +\n",
              "            '<a target=\"_blank\" href=https://colab.research.google.com/notebooks/data_table.ipynb>data table notebook</a>'\n",
              "            + ' to learn more about interactive tables.';\n",
              "          element.innerHTML = '';\n",
              "          dataTable['output_type'] = 'display_data';\n",
              "          await google.colab.output.renderOutput(dataTable, element);\n",
              "          const docLink = document.createElement('div');\n",
              "          docLink.innerHTML = docLinkHtml;\n",
              "          element.appendChild(docLink);\n",
              "        }\n",
              "      </script>\n",
              "    </div>\n",
              "  </div>\n"
            ]
          },
          "metadata": {},
          "execution_count": 75
        }
      ],
      "source": [
        "plot_q4 = df.groupby('purpose_category', as_index=False)['debt'].agg(['count', my_mean]).sort_values('my_mean').reset_index()\n",
        "\n",
        "plot_q4"
      ]
    },
    {
      "cell_type": "code",
      "source": [
        "sns.barplot(data=plot_q4, x='purpose_category', y='my_mean').set(title=('Распределение процента невозвращенных кредитов от целей кредита'),\n",
        "                                                                 xlabel='Цель кредита',\n",
        "                                                                 ylabel='Процент невозвращенных кредитов (%)')\n",
        "\n",
        "plt.show()"
      ],
      "metadata": {
        "colab": {
          "base_uri": "https://localhost:8080/",
          "height": 487
        },
        "id": "ULwSITgZ_Y-t",
        "outputId": "c9538cd9-cf9d-4387-edba-d76564a06aca"
      },
      "id": "ULwSITgZ_Y-t",
      "execution_count": 76,
      "outputs": [
        {
          "output_type": "display_data",
          "data": {
            "text/plain": [
              "<Figure size 1000x500 with 1 Axes>"
            ],
            "image/png": "[encoded data removed]"
          },
          "metadata": {}
        }
      ]
    },
    {
      "cell_type": "markdown",
      "id": "fp8KDKOYR2Y3",
      "metadata": {
        "id": "fp8KDKOYR2Y3"
      },
      "source": [
        "### Вывод 4:"
      ]
    },
    {
      "cell_type": "markdown",
      "id": "HBLNZfEHYcpn",
      "metadata": {
        "id": "HBLNZfEHYcpn"
      },
      "source": [
        "Видна явная зависимость между целями кредитования и вероятностью возврата кредита в срок. Кредиты на операции с недвижимостью чаще всего возвращают в срок, кредиты на операции с автомобилем реже всего."
      ]
    },
    {
      "cell_type": "markdown",
      "id": "af94aa9b",
      "metadata": {
        "id": "af94aa9b"
      },
      "source": [
        "## Общий вывод:"
      ]
    },
    {
      "cell_type": "markdown",
      "id": "baed651e",
      "metadata": {
        "id": "baed651e"
      },
      "source": [
        "* С ростом количества детей падает вероятность возврата кредита в срок, за исключением категории \"3 ребенка\".\n",
        "    * Процент невозврата категории \"0 детей\" - 7.55%\n",
        "    * Процент невозврата категории \"4 ребенка\" - 9.76%\n",
        "* Вдовцы/вдовы с большей вероятностью возвращают кредиты в срок, неженатые/незамужем с меньшей вероятностью это делают.\n",
        "    * Процент невозврата категории \"вдовец / вдова\" - 6.55%\n",
        "    * Процент невозврата категории \"не женат / не замужем\" - 9.78%\n",
        "* Зависимость для вероятности возврата кредита в срок от уровня заработный платы не такая явная, в нескольких категориях слишком мало людей для анализа. Также пустые значения заполнены медианой по столбцу, что могло исказить результаты.\n",
        "    * Процент невозврата категории \"D\" - 6.05%\n",
        "    * Процент невозврата категории \"B\" - 7.08%\n",
        "    * Процент невозврата категории \"С\" - 8.49%    \n",
        "* Вероятность возврата кредита в срок максимальна для кредитов на операции с недвижимостью и минимальна для кредитов на операции с автомобилем.\n",
        "    * Процент невозврата категории \"операции с недвижимостью\" - 7.26%\n",
        "    * Процент невозврата категории \"операции с автомобилем\" - 9.32%\n",
        "* Из исследованных зависимостей сильнее всего на вероятность возврата кредита в срок влияют семейное положение и цель кредита.\n"
      ]
    }
  ],
  "metadata": {
    "ExecuteTimeLog": [
      {
        "duration": 1475,
        "start_time": "2022-04-25T20:54:31.509Z"
      },
      {
        "duration": 67,
        "start_time": "2022-04-25T20:54:32.986Z"
      },
      {
        "duration": 28,
        "start_time": "2022-04-25T20:54:33.055Z"
      },
      {
        "duration": 18,
        "start_time": "2022-04-25T20:54:33.085Z"
      },
      {
        "duration": 31,
        "start_time": "2022-04-25T20:54:33.105Z"
      },
      {
        "duration": 13,
        "start_time": "2022-04-25T20:54:33.138Z"
      },
      {
        "duration": 11,
        "start_time": "2022-04-25T20:54:33.153Z"
      },
      {
        "duration": 8,
        "start_time": "2022-04-25T20:54:33.166Z"
      },
      {
        "duration": 11,
        "start_time": "2022-04-25T20:54:33.176Z"
      },
      {
        "duration": 17,
        "start_time": "2022-04-25T20:54:33.191Z"
      },
      {
        "duration": 3570,
        "start_time": "2022-04-25T20:54:33.234Z"
      },
      {
        "duration": 4,
        "start_time": "2022-04-25T20:54:36.806Z"
      },
      {
        "duration": 1861,
        "start_time": "2022-04-25T20:54:36.811Z"
      },
      {
        "duration": 285,
        "start_time": "2022-04-25T20:54:38.673Z"
      },
      {
        "duration": 7,
        "start_time": "2022-04-25T20:54:38.960Z"
      },
      {
        "duration": 9,
        "start_time": "2022-04-25T20:54:38.968Z"
      },
      {
        "duration": 9,
        "start_time": "2022-04-25T20:54:38.979Z"
      },
      {
        "duration": 8,
        "start_time": "2022-04-25T20:54:38.990Z"
      },
      {
        "duration": 38,
        "start_time": "2022-04-25T20:54:39.000Z"
      },
      {
        "duration": 9,
        "start_time": "2022-04-25T20:54:39.040Z"
      },
      {
        "duration": 7,
        "start_time": "2022-04-25T20:54:39.051Z"
      },
      {
        "duration": 9,
        "start_time": "2022-04-25T20:54:39.059Z"
      },
      {
        "duration": 8,
        "start_time": "2022-04-25T20:54:39.070Z"
      },
      {
        "duration": 9,
        "start_time": "2022-04-25T20:54:39.080Z"
      },
      {
        "duration": 12,
        "start_time": "2022-04-25T20:54:39.090Z"
      },
      {
        "duration": 728,
        "start_time": "2022-04-25T20:54:39.134Z"
      },
      {
        "duration": 9,
        "start_time": "2022-04-25T20:54:39.863Z"
      },
      {
        "duration": 15,
        "start_time": "2022-04-25T20:54:39.876Z"
      },
      {
        "duration": 5,
        "start_time": "2022-04-25T20:54:39.893Z"
      },
      {
        "duration": 36,
        "start_time": "2022-04-25T20:54:39.899Z"
      },
      {
        "duration": 1908,
        "start_time": "2022-04-25T20:54:39.937Z"
      },
      {
        "duration": 6,
        "start_time": "2022-04-25T20:54:41.848Z"
      },
      {
        "duration": 9,
        "start_time": "2022-04-25T20:54:41.856Z"
      },
      {
        "duration": 10,
        "start_time": "2022-04-25T20:54:41.867Z"
      },
      {
        "duration": 557,
        "start_time": "2022-04-25T20:54:41.879Z"
      },
      {
        "duration": 8,
        "start_time": "2022-04-25T20:54:42.438Z"
      },
      {
        "duration": 8,
        "start_time": "2022-04-25T20:54:42.448Z"
      },
      {
        "duration": 9,
        "start_time": "2022-04-25T20:54:42.458Z"
      },
      {
        "duration": 5,
        "start_time": "2022-04-25T20:54:42.468Z"
      },
      {
        "duration": 59,
        "start_time": "2022-04-25T20:54:42.475Z"
      },
      {
        "duration": 3,
        "start_time": "2022-04-25T20:54:42.536Z"
      },
      {
        "duration": 23,
        "start_time": "2022-04-25T20:54:42.541Z"
      },
      {
        "duration": 40,
        "start_time": "2022-04-25T20:54:42.566Z"
      },
      {
        "duration": 38,
        "start_time": "2022-04-25T20:54:42.607Z"
      },
      {
        "duration": 14,
        "start_time": "2022-04-25T20:54:42.647Z"
      },
      {
        "duration": 20,
        "start_time": "2022-04-25T20:54:42.662Z"
      },
      {
        "duration": 4,
        "start_time": "2022-04-25T20:54:42.684Z"
      },
      {
        "duration": 53,
        "start_time": "2022-04-25T20:54:42.690Z"
      },
      {
        "duration": 9,
        "start_time": "2022-04-25T20:54:42.744Z"
      },
      {
        "duration": 19,
        "start_time": "2022-04-25T20:54:42.754Z"
      },
      {
        "duration": 22,
        "start_time": "2022-04-25T20:54:42.775Z"
      },
      {
        "duration": 6,
        "start_time": "2022-04-25T20:54:42.799Z"
      },
      {
        "duration": 6,
        "start_time": "2022-04-25T20:54:42.833Z"
      },
      {
        "duration": 26,
        "start_time": "2022-04-25T20:54:42.841Z"
      },
      {
        "duration": 11,
        "start_time": "2022-04-25T20:54:42.870Z"
      },
      {
        "duration": 19,
        "start_time": "2022-04-25T20:54:42.883Z"
      },
      {
        "duration": 39,
        "start_time": "2022-04-25T20:54:42.904Z"
      },
      {
        "duration": 9,
        "start_time": "2022-04-25T20:54:42.945Z"
      },
      {
        "duration": 481,
        "start_time": "2022-04-25T20:54:42.955Z"
      },
      {
        "duration": 15,
        "start_time": "2022-04-25T20:54:43.437Z"
      },
      {
        "duration": 12,
        "start_time": "2022-04-25T20:54:43.454Z"
      },
      {
        "duration": 11,
        "start_time": "2022-04-25T20:54:43.468Z"
      },
      {
        "duration": 17,
        "start_time": "2022-04-25T20:54:43.481Z"
      },
      {
        "duration": 42,
        "start_time": "2022-04-25T20:54:43.499Z"
      },
      {
        "duration": 1180,
        "start_time": "2022-04-25T20:58:23.092Z"
      },
      {
        "duration": 63,
        "start_time": "2022-04-25T20:58:24.274Z"
      },
      {
        "duration": 25,
        "start_time": "2022-04-25T20:58:24.339Z"
      },
      {
        "duration": 15,
        "start_time": "2022-04-25T20:58:24.366Z"
      },
      {
        "duration": 3,
        "start_time": "2022-04-25T20:58:24.383Z"
      },
      {
        "duration": 11,
        "start_time": "2022-04-25T20:58:24.388Z"
      },
      {
        "duration": 34,
        "start_time": "2022-04-25T20:58:24.400Z"
      },
      {
        "duration": 4,
        "start_time": "2022-04-25T20:58:24.435Z"
      },
      {
        "duration": 9,
        "start_time": "2022-04-25T20:58:24.441Z"
      },
      {
        "duration": 8,
        "start_time": "2022-04-25T20:58:24.453Z"
      },
      {
        "duration": 3201,
        "start_time": "2022-04-25T20:58:24.462Z"
      },
      {
        "duration": 4,
        "start_time": "2022-04-25T20:58:27.665Z"
      },
      {
        "duration": 1771,
        "start_time": "2022-04-25T20:58:27.670Z"
      },
      {
        "duration": 279,
        "start_time": "2022-04-25T20:58:29.443Z"
      },
      {
        "duration": 15,
        "start_time": "2022-04-25T20:58:29.723Z"
      },
      {
        "duration": 5,
        "start_time": "2022-04-25T20:58:29.740Z"
      },
      {
        "duration": 9,
        "start_time": "2022-04-25T20:58:29.747Z"
      },
      {
        "duration": 7,
        "start_time": "2022-04-25T20:58:29.758Z"
      },
      {
        "duration": 8,
        "start_time": "2022-04-25T20:58:29.767Z"
      },
      {
        "duration": 9,
        "start_time": "2022-04-25T20:58:29.778Z"
      },
      {
        "duration": 49,
        "start_time": "2022-04-25T20:58:29.789Z"
      },
      {
        "duration": 9,
        "start_time": "2022-04-25T20:58:29.840Z"
      },
      {
        "duration": 9,
        "start_time": "2022-04-25T20:58:29.851Z"
      },
      {
        "duration": 8,
        "start_time": "2022-04-25T20:58:29.862Z"
      },
      {
        "duration": 16,
        "start_time": "2022-04-25T20:58:29.872Z"
      },
      {
        "duration": 734,
        "start_time": "2022-04-25T20:58:29.890Z"
      },
      {
        "duration": 14,
        "start_time": "2022-04-25T20:58:30.627Z"
      },
      {
        "duration": 12,
        "start_time": "2022-04-25T20:58:30.646Z"
      },
      {
        "duration": 5,
        "start_time": "2022-04-25T20:58:30.660Z"
      },
      {
        "duration": 18,
        "start_time": "2022-04-25T20:58:30.667Z"
      },
      {
        "duration": 1849,
        "start_time": "2022-04-25T20:58:30.687Z"
      },
      {
        "duration": 6,
        "start_time": "2022-04-25T20:58:32.538Z"
      },
      {
        "duration": 9,
        "start_time": "2022-04-25T20:58:32.546Z"
      },
      {
        "duration": 9,
        "start_time": "2022-04-25T20:58:32.557Z"
      },
      {
        "duration": 540,
        "start_time": "2022-04-25T20:58:32.568Z"
      },
      {
        "duration": 7,
        "start_time": "2022-04-25T20:58:33.110Z"
      },
      {
        "duration": 20,
        "start_time": "2022-04-25T20:58:33.118Z"
      },
      {
        "duration": 9,
        "start_time": "2022-04-25T20:58:33.140Z"
      },
      {
        "duration": 5,
        "start_time": "2022-04-25T20:58:33.151Z"
      },
      {
        "duration": 17,
        "start_time": "2022-04-25T20:58:33.158Z"
      },
      {
        "duration": 2,
        "start_time": "2022-04-25T20:58:33.177Z"
      },
      {
        "duration": 56,
        "start_time": "2022-04-25T20:58:33.181Z"
      },
      {
        "duration": 38,
        "start_time": "2022-04-25T20:58:33.239Z"
      },
      {
        "duration": 15,
        "start_time": "2022-04-25T20:58:33.279Z"
      },
      {
        "duration": 40,
        "start_time": "2022-04-25T20:58:33.296Z"
      },
      {
        "duration": 20,
        "start_time": "2022-04-25T20:58:33.338Z"
      },
      {
        "duration": 5,
        "start_time": "2022-04-25T20:58:33.360Z"
      },
      {
        "duration": 17,
        "start_time": "2022-04-25T20:58:33.367Z"
      },
      {
        "duration": 12,
        "start_time": "2022-04-25T20:58:33.386Z"
      },
      {
        "duration": 46,
        "start_time": "2022-04-25T20:58:33.400Z"
      },
      {
        "duration": 23,
        "start_time": "2022-04-25T20:58:33.448Z"
      },
      {
        "duration": 7,
        "start_time": "2022-04-25T20:58:33.473Z"
      },
      {
        "duration": 6,
        "start_time": "2022-04-25T20:58:33.482Z"
      },
      {
        "duration": 59,
        "start_time": "2022-04-25T20:58:33.489Z"
      },
      {
        "duration": 6,
        "start_time": "2022-04-25T20:58:33.549Z"
      },
      {
        "duration": 22,
        "start_time": "2022-04-25T20:58:33.557Z"
      },
      {
        "duration": 16,
        "start_time": "2022-04-25T20:58:33.581Z"
      },
      {
        "duration": 12,
        "start_time": "2022-04-25T20:58:33.598Z"
      },
      {
        "duration": 403,
        "start_time": "2022-04-25T20:58:33.612Z"
      },
      {
        "duration": 20,
        "start_time": "2022-04-25T20:58:34.017Z"
      },
      {
        "duration": 12,
        "start_time": "2022-04-25T20:58:34.038Z"
      },
      {
        "duration": 11,
        "start_time": "2022-04-25T20:58:34.051Z"
      },
      {
        "duration": 18,
        "start_time": "2022-04-25T20:58:34.064Z"
      },
      {
        "duration": 15,
        "start_time": "2022-04-25T20:58:34.083Z"
      },
      {
        "duration": 1269,
        "start_time": "2022-04-25T20:59:08.017Z"
      },
      {
        "duration": 64,
        "start_time": "2022-04-25T20:59:09.288Z"
      },
      {
        "duration": 25,
        "start_time": "2022-04-25T20:59:09.354Z"
      },
      {
        "duration": 16,
        "start_time": "2022-04-25T20:59:09.381Z"
      },
      {
        "duration": 24,
        "start_time": "2022-04-25T20:59:09.399Z"
      },
      {
        "duration": 21,
        "start_time": "2022-04-25T20:59:09.424Z"
      },
      {
        "duration": 19,
        "start_time": "2022-04-25T20:59:09.447Z"
      },
      {
        "duration": 14,
        "start_time": "2022-04-25T20:59:09.468Z"
      },
      {
        "duration": 16,
        "start_time": "2022-04-25T20:59:09.484Z"
      },
      {
        "duration": 24,
        "start_time": "2022-04-25T20:59:09.502Z"
      },
      {
        "duration": 3163,
        "start_time": "2022-04-25T20:59:09.527Z"
      },
      {
        "duration": 4,
        "start_time": "2022-04-25T20:59:12.692Z"
      },
      {
        "duration": 1751,
        "start_time": "2022-04-25T20:59:12.698Z"
      },
      {
        "duration": 283,
        "start_time": "2022-04-25T20:59:14.453Z"
      },
      {
        "duration": 8,
        "start_time": "2022-04-25T20:59:14.738Z"
      },
      {
        "duration": 7,
        "start_time": "2022-04-25T20:59:14.748Z"
      },
      {
        "duration": 9,
        "start_time": "2022-04-25T20:59:14.757Z"
      },
      {
        "duration": 7,
        "start_time": "2022-04-25T20:59:14.768Z"
      },
      {
        "duration": 9,
        "start_time": "2022-04-25T20:59:14.777Z"
      },
      {
        "duration": 47,
        "start_time": "2022-04-25T20:59:14.788Z"
      },
      {
        "duration": 7,
        "start_time": "2022-04-25T20:59:14.837Z"
      },
      {
        "duration": 9,
        "start_time": "2022-04-25T20:59:14.846Z"
      },
      {
        "duration": 9,
        "start_time": "2022-04-25T20:59:14.857Z"
      },
      {
        "duration": 8,
        "start_time": "2022-04-25T20:59:14.867Z"
      },
      {
        "duration": 10,
        "start_time": "2022-04-25T20:59:14.877Z"
      },
      {
        "duration": 730,
        "start_time": "2022-04-25T20:59:14.888Z"
      },
      {
        "duration": 15,
        "start_time": "2022-04-25T20:59:15.620Z"
      },
      {
        "duration": 13,
        "start_time": "2022-04-25T20:59:15.636Z"
      },
      {
        "duration": 6,
        "start_time": "2022-04-25T20:59:15.651Z"
      },
      {
        "duration": 16,
        "start_time": "2022-04-25T20:59:15.659Z"
      },
      {
        "duration": 1855,
        "start_time": "2022-04-25T20:59:15.677Z"
      },
      {
        "duration": 4,
        "start_time": "2022-04-25T20:59:17.534Z"
      },
      {
        "duration": 22,
        "start_time": "2022-04-25T20:59:17.540Z"
      },
      {
        "duration": 9,
        "start_time": "2022-04-25T20:59:17.563Z"
      },
      {
        "duration": 515,
        "start_time": "2022-04-25T20:59:17.573Z"
      },
      {
        "duration": 6,
        "start_time": "2022-04-25T20:59:18.090Z"
      },
      {
        "duration": 7,
        "start_time": "2022-04-25T20:59:18.098Z"
      },
      {
        "duration": 30,
        "start_time": "2022-04-25T20:59:18.106Z"
      },
      {
        "duration": 5,
        "start_time": "2022-04-25T20:59:18.138Z"
      },
      {
        "duration": 18,
        "start_time": "2022-04-25T20:59:18.144Z"
      },
      {
        "duration": 3,
        "start_time": "2022-04-25T20:59:18.166Z"
      },
      {
        "duration": 26,
        "start_time": "2022-04-25T20:59:18.171Z"
      },
      {
        "duration": 67,
        "start_time": "2022-04-25T20:59:18.199Z"
      },
      {
        "duration": 14,
        "start_time": "2022-04-25T20:59:18.267Z"
      },
      {
        "duration": 13,
        "start_time": "2022-04-25T20:59:18.283Z"
      },
      {
        "duration": 41,
        "start_time": "2022-04-25T20:59:18.298Z"
      },
      {
        "duration": 4,
        "start_time": "2022-04-25T20:59:18.341Z"
      },
      {
        "duration": 19,
        "start_time": "2022-04-25T20:59:18.346Z"
      },
      {
        "duration": 7,
        "start_time": "2022-04-25T20:59:18.367Z"
      },
      {
        "duration": 22,
        "start_time": "2022-04-25T20:59:18.376Z"
      },
      {
        "duration": 48,
        "start_time": "2022-04-25T20:59:18.400Z"
      },
      {
        "duration": 6,
        "start_time": "2022-04-25T20:59:18.449Z"
      },
      {
        "duration": 6,
        "start_time": "2022-04-25T20:59:18.457Z"
      },
      {
        "duration": 25,
        "start_time": "2022-04-25T20:59:18.464Z"
      },
      {
        "duration": 6,
        "start_time": "2022-04-25T20:59:18.491Z"
      },
      {
        "duration": 43,
        "start_time": "2022-04-25T20:59:18.498Z"
      },
      {
        "duration": 12,
        "start_time": "2022-04-25T20:59:18.543Z"
      },
      {
        "duration": 8,
        "start_time": "2022-04-25T20:59:18.557Z"
      },
      {
        "duration": 384,
        "start_time": "2022-04-25T20:59:18.567Z"
      },
      {
        "duration": 15,
        "start_time": "2022-04-25T20:59:18.953Z"
      },
      {
        "duration": 12,
        "start_time": "2022-04-25T20:59:18.971Z"
      },
      {
        "duration": 11,
        "start_time": "2022-04-25T20:59:18.985Z"
      },
      {
        "duration": 42,
        "start_time": "2022-04-25T20:59:18.998Z"
      },
      {
        "duration": 12,
        "start_time": "2022-04-25T20:59:19.041Z"
      },
      {
        "duration": 1443,
        "start_time": "2022-04-27T17:29:32.059Z"
      },
      {
        "duration": 58,
        "start_time": "2022-04-27T17:29:33.505Z"
      },
      {
        "duration": 22,
        "start_time": "2022-04-27T17:29:33.565Z"
      },
      {
        "duration": 15,
        "start_time": "2022-04-27T17:29:33.589Z"
      },
      {
        "duration": 5,
        "start_time": "2022-04-27T17:29:33.623Z"
      },
      {
        "duration": 10,
        "start_time": "2022-04-27T17:29:33.631Z"
      },
      {
        "duration": 6,
        "start_time": "2022-04-27T17:29:33.643Z"
      },
      {
        "duration": 6,
        "start_time": "2022-04-27T17:29:33.651Z"
      },
      {
        "duration": 10,
        "start_time": "2022-04-27T17:29:33.659Z"
      },
      {
        "duration": 10,
        "start_time": "2022-04-27T17:29:33.671Z"
      },
      {
        "duration": 2874,
        "start_time": "2022-04-27T17:29:33.683Z"
      },
      {
        "duration": 3,
        "start_time": "2022-04-27T17:29:36.559Z"
      },
      {
        "duration": 1620,
        "start_time": "2022-04-27T17:29:36.564Z"
      },
      {
        "duration": 258,
        "start_time": "2022-04-27T17:29:38.186Z"
      },
      {
        "duration": 7,
        "start_time": "2022-04-27T17:29:38.445Z"
      },
      {
        "duration": 9,
        "start_time": "2022-04-27T17:29:38.455Z"
      },
      {
        "duration": 11,
        "start_time": "2022-04-27T17:29:38.466Z"
      },
      {
        "duration": 11,
        "start_time": "2022-04-27T17:29:38.479Z"
      },
      {
        "duration": 33,
        "start_time": "2022-04-27T17:29:38.492Z"
      },
      {
        "duration": 12,
        "start_time": "2022-04-27T17:29:38.527Z"
      },
      {
        "duration": 7,
        "start_time": "2022-04-27T17:29:38.541Z"
      },
      {
        "duration": 11,
        "start_time": "2022-04-27T17:29:38.550Z"
      },
      {
        "duration": 10,
        "start_time": "2022-04-27T17:29:38.564Z"
      },
      {
        "duration": 6,
        "start_time": "2022-04-27T17:29:38.577Z"
      },
      {
        "duration": 40,
        "start_time": "2022-04-27T17:29:38.585Z"
      },
      {
        "duration": 976,
        "start_time": "2022-04-27T17:29:38.627Z"
      },
      {
        "duration": 19,
        "start_time": "2022-04-27T17:29:39.605Z"
      },
      {
        "duration": 15,
        "start_time": "2022-04-27T17:29:39.629Z"
      },
      {
        "duration": 161,
        "start_time": "2022-04-27T17:29:39.646Z"
      },
      {
        "duration": 0,
        "start_time": "2022-04-27T17:29:39.809Z"
      },
      {
        "duration": 0,
        "start_time": "2022-04-27T17:29:39.811Z"
      },
      {
        "duration": 1,
        "start_time": "2022-04-27T17:29:39.812Z"
      },
      {
        "duration": 0,
        "start_time": "2022-04-27T17:29:39.824Z"
      },
      {
        "duration": 0,
        "start_time": "2022-04-27T17:29:39.825Z"
      },
      {
        "duration": 0,
        "start_time": "2022-04-27T17:29:39.826Z"
      },
      {
        "duration": 0,
        "start_time": "2022-04-27T17:29:39.828Z"
      },
      {
        "duration": 0,
        "start_time": "2022-04-27T17:29:39.830Z"
      },
      {
        "duration": 0,
        "start_time": "2022-04-27T17:29:39.831Z"
      },
      {
        "duration": 0,
        "start_time": "2022-04-27T17:29:39.832Z"
      },
      {
        "duration": 0,
        "start_time": "2022-04-27T17:29:39.834Z"
      },
      {
        "duration": 0,
        "start_time": "2022-04-27T17:29:39.835Z"
      },
      {
        "duration": 0,
        "start_time": "2022-04-27T17:29:39.836Z"
      },
      {
        "duration": 0,
        "start_time": "2022-04-27T17:29:39.839Z"
      },
      {
        "duration": 0,
        "start_time": "2022-04-27T17:29:39.840Z"
      },
      {
        "duration": 0,
        "start_time": "2022-04-27T17:29:39.842Z"
      },
      {
        "duration": 0,
        "start_time": "2022-04-27T17:29:39.843Z"
      },
      {
        "duration": 0,
        "start_time": "2022-04-27T17:29:39.844Z"
      },
      {
        "duration": 0,
        "start_time": "2022-04-27T17:29:39.846Z"
      },
      {
        "duration": 0,
        "start_time": "2022-04-27T17:29:39.847Z"
      },
      {
        "duration": 0,
        "start_time": "2022-04-27T17:29:39.848Z"
      },
      {
        "duration": 0,
        "start_time": "2022-04-27T17:29:39.850Z"
      },
      {
        "duration": 0,
        "start_time": "2022-04-27T17:29:39.851Z"
      },
      {
        "duration": 0,
        "start_time": "2022-04-27T17:29:39.853Z"
      },
      {
        "duration": 0,
        "start_time": "2022-04-27T17:29:39.855Z"
      },
      {
        "duration": 0,
        "start_time": "2022-04-27T17:29:39.856Z"
      },
      {
        "duration": 0,
        "start_time": "2022-04-27T17:29:39.857Z"
      },
      {
        "duration": 0,
        "start_time": "2022-04-27T17:29:39.859Z"
      },
      {
        "duration": 0,
        "start_time": "2022-04-27T17:29:39.860Z"
      },
      {
        "duration": 0,
        "start_time": "2022-04-27T17:29:39.924Z"
      },
      {
        "duration": 0,
        "start_time": "2022-04-27T17:29:39.925Z"
      },
      {
        "duration": 0,
        "start_time": "2022-04-27T17:29:39.927Z"
      },
      {
        "duration": 0,
        "start_time": "2022-04-27T17:29:39.928Z"
      },
      {
        "duration": 0,
        "start_time": "2022-04-27T17:29:39.930Z"
      },
      {
        "duration": 1,
        "start_time": "2022-04-27T17:29:39.931Z"
      },
      {
        "duration": 1172,
        "start_time": "2022-04-27T17:30:10.976Z"
      },
      {
        "duration": 58,
        "start_time": "2022-04-27T17:30:12.150Z"
      },
      {
        "duration": 36,
        "start_time": "2022-04-27T17:30:12.210Z"
      },
      {
        "duration": 15,
        "start_time": "2022-04-27T17:30:12.249Z"
      },
      {
        "duration": 10,
        "start_time": "2022-04-27T17:30:12.265Z"
      },
      {
        "duration": 15,
        "start_time": "2022-04-27T17:30:12.277Z"
      },
      {
        "duration": 10,
        "start_time": "2022-04-27T17:30:12.294Z"
      },
      {
        "duration": 9,
        "start_time": "2022-04-27T17:30:12.325Z"
      },
      {
        "duration": 10,
        "start_time": "2022-04-27T17:30:12.336Z"
      },
      {
        "duration": 13,
        "start_time": "2022-04-27T17:30:12.350Z"
      },
      {
        "duration": 3096,
        "start_time": "2022-04-27T17:30:12.365Z"
      },
      {
        "duration": 5,
        "start_time": "2022-04-27T17:30:15.462Z"
      },
      {
        "duration": 2145,
        "start_time": "2022-04-27T17:30:15.468Z"
      },
      {
        "duration": 249,
        "start_time": "2022-04-27T17:30:17.616Z"
      },
      {
        "duration": 8,
        "start_time": "2022-04-27T17:30:17.867Z"
      },
      {
        "duration": 7,
        "start_time": "2022-04-27T17:30:17.877Z"
      },
      {
        "duration": 10,
        "start_time": "2022-04-27T17:30:17.886Z"
      },
      {
        "duration": 30,
        "start_time": "2022-04-27T17:30:17.897Z"
      },
      {
        "duration": 9,
        "start_time": "2022-04-27T17:30:17.929Z"
      },
      {
        "duration": 14,
        "start_time": "2022-04-27T17:30:17.940Z"
      },
      {
        "duration": 10,
        "start_time": "2022-04-27T17:30:17.956Z"
      },
      {
        "duration": 13,
        "start_time": "2022-04-27T17:30:17.967Z"
      },
      {
        "duration": 12,
        "start_time": "2022-04-27T17:30:17.982Z"
      },
      {
        "duration": 28,
        "start_time": "2022-04-27T17:30:17.996Z"
      },
      {
        "duration": 9,
        "start_time": "2022-04-27T17:30:18.026Z"
      },
      {
        "duration": 753,
        "start_time": "2022-04-27T17:30:18.037Z"
      },
      {
        "duration": 10,
        "start_time": "2022-04-27T17:30:18.793Z"
      },
      {
        "duration": 14,
        "start_time": "2022-04-27T17:30:18.825Z"
      },
      {
        "duration": 7,
        "start_time": "2022-04-27T17:30:18.841Z"
      },
      {
        "duration": 14,
        "start_time": "2022-04-27T17:30:18.850Z"
      },
      {
        "duration": 2704,
        "start_time": "2022-04-27T17:30:18.866Z"
      },
      {
        "duration": 6,
        "start_time": "2022-04-27T17:30:21.572Z"
      },
      {
        "duration": 7,
        "start_time": "2022-04-27T17:30:21.579Z"
      },
      {
        "duration": 9,
        "start_time": "2022-04-27T17:30:21.588Z"
      },
      {
        "duration": 458,
        "start_time": "2022-04-27T17:30:21.599Z"
      },
      {
        "duration": 7,
        "start_time": "2022-04-27T17:30:22.058Z"
      },
      {
        "duration": 9,
        "start_time": "2022-04-27T17:30:22.067Z"
      },
      {
        "duration": 9,
        "start_time": "2022-04-27T17:30:22.077Z"
      },
      {
        "duration": 6,
        "start_time": "2022-04-27T17:30:22.087Z"
      },
      {
        "duration": 48,
        "start_time": "2022-04-27T17:30:22.094Z"
      },
      {
        "duration": 3,
        "start_time": "2022-04-27T17:30:22.144Z"
      },
      {
        "duration": 23,
        "start_time": "2022-04-27T17:30:22.148Z"
      },
      {
        "duration": 64,
        "start_time": "2022-04-27T17:30:22.173Z"
      },
      {
        "duration": 14,
        "start_time": "2022-04-27T17:30:22.239Z"
      },
      {
        "duration": 15,
        "start_time": "2022-04-27T17:30:22.255Z"
      },
      {
        "duration": 17,
        "start_time": "2022-04-27T17:30:22.271Z"
      },
      {
        "duration": 36,
        "start_time": "2022-04-27T17:30:22.289Z"
      },
      {
        "duration": 16,
        "start_time": "2022-04-27T17:30:22.327Z"
      },
      {
        "duration": 6,
        "start_time": "2022-04-27T17:30:22.345Z"
      },
      {
        "duration": 19,
        "start_time": "2022-04-27T17:30:22.353Z"
      },
      {
        "duration": 20,
        "start_time": "2022-04-27T17:30:22.374Z"
      },
      {
        "duration": 31,
        "start_time": "2022-04-27T17:30:22.396Z"
      },
      {
        "duration": 5,
        "start_time": "2022-04-27T17:30:22.429Z"
      },
      {
        "duration": 21,
        "start_time": "2022-04-27T17:30:22.436Z"
      },
      {
        "duration": 5,
        "start_time": "2022-04-27T17:30:22.459Z"
      },
      {
        "duration": 59,
        "start_time": "2022-04-27T17:30:22.466Z"
      },
      {
        "duration": 13,
        "start_time": "2022-04-27T17:30:22.528Z"
      },
      {
        "duration": 11,
        "start_time": "2022-04-27T17:30:22.543Z"
      },
      {
        "duration": 524,
        "start_time": "2022-04-27T17:30:22.556Z"
      },
      {
        "duration": 18,
        "start_time": "2022-04-27T17:30:23.082Z"
      },
      {
        "duration": 30,
        "start_time": "2022-04-27T17:30:23.102Z"
      },
      {
        "duration": 10,
        "start_time": "2022-04-27T17:30:23.134Z"
      },
      {
        "duration": 11,
        "start_time": "2022-04-27T17:30:23.145Z"
      },
      {
        "duration": 13,
        "start_time": "2022-04-27T17:30:23.158Z"
      },
      {
        "duration": 1777,
        "start_time": "2022-05-01T14:51:31.348Z"
      },
      {
        "duration": 72,
        "start_time": "2022-05-01T14:51:33.128Z"
      },
      {
        "duration": 35,
        "start_time": "2022-05-01T14:51:33.202Z"
      },
      {
        "duration": 21,
        "start_time": "2022-05-01T14:51:33.252Z"
      },
      {
        "duration": 6,
        "start_time": "2022-05-01T14:51:33.276Z"
      },
      {
        "duration": 22,
        "start_time": "2022-05-01T14:51:33.283Z"
      },
      {
        "duration": 29,
        "start_time": "2022-05-01T14:51:33.307Z"
      },
      {
        "duration": 16,
        "start_time": "2022-05-01T14:51:33.338Z"
      },
      {
        "duration": 19,
        "start_time": "2022-05-01T14:51:33.357Z"
      },
      {
        "duration": 11,
        "start_time": "2022-05-01T14:51:33.378Z"
      },
      {
        "duration": 6072,
        "start_time": "2022-05-01T14:51:33.391Z"
      },
      {
        "duration": 6,
        "start_time": "2022-05-01T14:51:39.465Z"
      },
      {
        "duration": 2604,
        "start_time": "2022-05-01T14:51:39.473Z"
      },
      {
        "duration": 439,
        "start_time": "2022-05-01T14:51:42.082Z"
      },
      {
        "duration": 10,
        "start_time": "2022-05-01T14:51:42.523Z"
      },
      {
        "duration": 26,
        "start_time": "2022-05-01T14:51:42.535Z"
      },
      {
        "duration": 15,
        "start_time": "2022-05-01T14:51:42.564Z"
      },
      {
        "duration": 18,
        "start_time": "2022-05-01T14:51:42.581Z"
      },
      {
        "duration": 12,
        "start_time": "2022-05-01T14:51:42.602Z"
      },
      {
        "duration": 36,
        "start_time": "2022-05-01T14:51:42.617Z"
      },
      {
        "duration": 8,
        "start_time": "2022-05-01T14:51:42.655Z"
      },
      {
        "duration": 10,
        "start_time": "2022-05-01T14:51:42.665Z"
      },
      {
        "duration": 12,
        "start_time": "2022-05-01T14:51:42.677Z"
      },
      {
        "duration": 9,
        "start_time": "2022-05-01T14:51:42.691Z"
      },
      {
        "duration": 52,
        "start_time": "2022-05-01T14:51:42.701Z"
      },
      {
        "duration": 1209,
        "start_time": "2022-05-01T14:51:42.755Z"
      },
      {
        "duration": 10,
        "start_time": "2022-05-01T14:51:43.966Z"
      },
      {
        "duration": 18,
        "start_time": "2022-05-01T14:51:43.978Z"
      },
      {
        "duration": 6,
        "start_time": "2022-05-01T14:51:43.998Z"
      },
      {
        "duration": 20,
        "start_time": "2022-05-01T14:51:44.006Z"
      },
      {
        "duration": 2776,
        "start_time": "2022-05-01T14:51:44.051Z"
      },
      {
        "duration": 6,
        "start_time": "2022-05-01T14:51:46.830Z"
      },
      {
        "duration": 8,
        "start_time": "2022-05-01T14:51:46.852Z"
      },
      {
        "duration": 10,
        "start_time": "2022-05-01T14:51:46.863Z"
      },
      {
        "duration": 808,
        "start_time": "2022-05-01T14:51:46.876Z"
      },
      {
        "duration": 9,
        "start_time": "2022-05-01T14:51:47.686Z"
      },
      {
        "duration": 8,
        "start_time": "2022-05-01T14:51:47.697Z"
      },
      {
        "duration": 11,
        "start_time": "2022-05-01T14:51:47.707Z"
      },
      {
        "duration": 9,
        "start_time": "2022-05-01T14:51:47.760Z"
      },
      {
        "duration": 22,
        "start_time": "2022-05-01T14:51:47.771Z"
      },
      {
        "duration": 3,
        "start_time": "2022-05-01T14:51:47.800Z"
      },
      {
        "duration": 60,
        "start_time": "2022-05-01T14:51:47.805Z"
      },
      {
        "duration": 55,
        "start_time": "2022-05-01T14:51:47.867Z"
      },
      {
        "duration": 42,
        "start_time": "2022-05-01T14:51:47.924Z"
      },
      {
        "duration": 18,
        "start_time": "2022-05-01T14:51:47.968Z"
      },
      {
        "duration": 27,
        "start_time": "2022-05-01T14:51:47.988Z"
      },
      {
        "duration": 5,
        "start_time": "2022-05-01T14:51:48.017Z"
      },
      {
        "duration": 53,
        "start_time": "2022-05-01T14:51:48.023Z"
      },
      {
        "duration": 33,
        "start_time": "2022-05-01T14:51:48.083Z"
      },
      {
        "duration": 38,
        "start_time": "2022-05-01T14:51:48.118Z"
      },
      {
        "duration": 78,
        "start_time": "2022-05-01T14:51:48.158Z"
      },
      {
        "duration": 8,
        "start_time": "2022-05-01T14:51:48.238Z"
      },
      {
        "duration": 18,
        "start_time": "2022-05-01T14:51:48.248Z"
      },
      {
        "duration": 37,
        "start_time": "2022-05-01T14:51:48.268Z"
      },
      {
        "duration": 7,
        "start_time": "2022-05-01T14:51:48.307Z"
      },
      {
        "duration": 42,
        "start_time": "2022-05-01T14:51:48.316Z"
      },
      {
        "duration": 21,
        "start_time": "2022-05-01T14:51:48.360Z"
      },
      {
        "duration": 12,
        "start_time": "2022-05-01T14:51:48.383Z"
      },
      {
        "duration": 591,
        "start_time": "2022-05-01T14:51:48.397Z"
      },
      {
        "duration": 19,
        "start_time": "2022-05-01T14:51:48.991Z"
      },
      {
        "duration": 15,
        "start_time": "2022-05-01T14:51:49.012Z"
      },
      {
        "duration": 40,
        "start_time": "2022-05-01T14:51:49.028Z"
      },
      {
        "duration": 14,
        "start_time": "2022-05-01T14:51:49.070Z"
      },
      {
        "duration": 21,
        "start_time": "2022-05-01T14:51:49.087Z"
      },
      {
        "duration": 6,
        "start_time": "2022-05-01T15:03:41.238Z"
      },
      {
        "duration": 17,
        "start_time": "2022-05-01T15:05:38.384Z"
      },
      {
        "duration": 18,
        "start_time": "2022-05-01T15:05:44.033Z"
      },
      {
        "duration": 82,
        "start_time": "2022-05-09T14:02:33.836Z"
      },
      {
        "duration": 47,
        "start_time": "2022-05-09T14:03:51.348Z"
      },
      {
        "duration": 8,
        "start_time": "2022-05-09T14:04:34.916Z"
      },
      {
        "duration": 1468,
        "start_time": "2022-05-09T14:04:43.798Z"
      },
      {
        "duration": 64,
        "start_time": "2022-05-09T14:04:45.268Z"
      },
      {
        "duration": 27,
        "start_time": "2022-05-09T14:04:45.334Z"
      },
      {
        "duration": 17,
        "start_time": "2022-05-09T14:04:45.363Z"
      },
      {
        "duration": 5,
        "start_time": "2022-05-09T14:04:45.407Z"
      },
      {
        "duration": 10,
        "start_time": "2022-05-09T14:04:45.414Z"
      },
      {
        "duration": 5,
        "start_time": "2022-05-09T14:04:45.426Z"
      },
      {
        "duration": 6,
        "start_time": "2022-05-09T14:04:45.433Z"
      },
      {
        "duration": 8,
        "start_time": "2022-05-09T14:04:45.440Z"
      },
      {
        "duration": 66,
        "start_time": "2022-05-09T14:04:45.449Z"
      },
      {
        "duration": 3164,
        "start_time": "2022-05-09T14:04:45.517Z"
      },
      {
        "duration": 4,
        "start_time": "2022-05-09T14:04:48.683Z"
      },
      {
        "duration": 1740,
        "start_time": "2022-05-09T14:04:48.689Z"
      },
      {
        "duration": 329,
        "start_time": "2022-05-09T14:04:50.433Z"
      },
      {
        "duration": 9,
        "start_time": "2022-05-09T14:04:50.764Z"
      },
      {
        "duration": 5,
        "start_time": "2022-05-09T14:04:50.776Z"
      },
      {
        "duration": 11,
        "start_time": "2022-05-09T14:04:50.807Z"
      },
      {
        "duration": 9,
        "start_time": "2022-05-09T14:04:50.821Z"
      },
      {
        "duration": 12,
        "start_time": "2022-05-09T14:04:50.832Z"
      },
      {
        "duration": 22,
        "start_time": "2022-05-09T14:04:50.845Z"
      },
      {
        "duration": 42,
        "start_time": "2022-05-09T14:04:50.869Z"
      },
      {
        "duration": 7,
        "start_time": "2022-05-09T14:04:50.913Z"
      },
      {
        "duration": 11,
        "start_time": "2022-05-09T14:04:50.923Z"
      },
      {
        "duration": 7,
        "start_time": "2022-05-09T14:04:50.937Z"
      },
      {
        "duration": 11,
        "start_time": "2022-05-09T14:04:50.946Z"
      },
      {
        "duration": 701,
        "start_time": "2022-05-09T14:04:51.007Z"
      },
      {
        "duration": 8,
        "start_time": "2022-05-09T14:04:51.711Z"
      },
      {
        "duration": 15,
        "start_time": "2022-05-09T14:04:51.721Z"
      },
      {
        "duration": 6,
        "start_time": "2022-05-09T14:04:51.738Z"
      },
      {
        "duration": 11,
        "start_time": "2022-05-09T14:04:51.746Z"
      },
      {
        "duration": 1871,
        "start_time": "2022-05-09T14:04:51.759Z"
      },
      {
        "duration": 5,
        "start_time": "2022-05-09T14:04:53.632Z"
      },
      {
        "duration": 7,
        "start_time": "2022-05-09T14:04:53.639Z"
      },
      {
        "duration": 9,
        "start_time": "2022-05-09T14:04:53.648Z"
      },
      {
        "duration": 554,
        "start_time": "2022-05-09T14:04:53.658Z"
      },
      {
        "duration": 8,
        "start_time": "2022-05-09T14:04:54.215Z"
      },
      {
        "duration": 8,
        "start_time": "2022-05-09T14:04:54.225Z"
      },
      {
        "duration": 10,
        "start_time": "2022-05-09T14:04:54.235Z"
      },
      {
        "duration": 6,
        "start_time": "2022-05-09T14:04:54.247Z"
      },
      {
        "duration": 63,
        "start_time": "2022-05-09T14:04:54.255Z"
      },
      {
        "duration": 3,
        "start_time": "2022-05-09T14:04:54.323Z"
      },
      {
        "duration": 28,
        "start_time": "2022-05-09T14:04:54.328Z"
      },
      {
        "duration": 70,
        "start_time": "2022-05-09T14:04:54.358Z"
      },
      {
        "duration": 14,
        "start_time": "2022-05-09T14:04:54.430Z"
      },
      {
        "duration": 13,
        "start_time": "2022-05-09T14:04:54.446Z"
      },
      {
        "duration": 54,
        "start_time": "2022-05-09T14:04:54.461Z"
      },
      {
        "duration": 4,
        "start_time": "2022-05-09T14:04:54.517Z"
      },
      {
        "duration": 19,
        "start_time": "2022-05-09T14:04:54.522Z"
      },
      {
        "duration": 6,
        "start_time": "2022-05-09T14:04:54.543Z"
      },
      {
        "duration": 20,
        "start_time": "2022-05-09T14:04:54.551Z"
      },
      {
        "duration": 20,
        "start_time": "2022-05-09T14:04:54.608Z"
      },
      {
        "duration": 6,
        "start_time": "2022-05-09T14:04:54.630Z"
      },
      {
        "duration": 6,
        "start_time": "2022-05-09T14:04:54.637Z"
      },
      {
        "duration": 8,
        "start_time": "2022-05-09T14:04:54.645Z"
      },
      {
        "duration": 68,
        "start_time": "2022-05-09T14:04:54.654Z"
      },
      {
        "duration": 7,
        "start_time": "2022-05-09T14:04:54.724Z"
      },
      {
        "duration": 22,
        "start_time": "2022-05-09T14:04:54.733Z"
      },
      {
        "duration": 12,
        "start_time": "2022-05-09T14:04:54.758Z"
      },
      {
        "duration": 14,
        "start_time": "2022-05-09T14:04:54.808Z"
      },
      {
        "duration": 13,
        "start_time": "2022-05-09T14:04:54.824Z"
      },
      {
        "duration": 9,
        "start_time": "2022-05-09T14:04:54.838Z"
      },
      {
        "duration": 479,
        "start_time": "2022-05-09T14:04:54.849Z"
      },
      {
        "duration": 16,
        "start_time": "2022-05-09T14:04:55.330Z"
      },
      {
        "duration": 12,
        "start_time": "2022-05-09T14:04:55.348Z"
      },
      {
        "duration": 48,
        "start_time": "2022-05-09T14:04:55.361Z"
      },
      {
        "duration": 18,
        "start_time": "2022-05-09T14:04:55.411Z"
      },
      {
        "duration": 19,
        "start_time": "2022-05-09T14:04:55.432Z"
      },
      {
        "duration": 2,
        "start_time": "2022-05-09T14:12:07.175Z"
      },
      {
        "duration": 4,
        "start_time": "2022-05-09T14:12:12.414Z"
      },
      {
        "duration": 4,
        "start_time": "2022-05-09T14:12:27.550Z"
      },
      {
        "duration": 12,
        "start_time": "2022-05-09T14:12:38.921Z"
      },
      {
        "duration": 7,
        "start_time": "2022-05-09T14:12:42.300Z"
      },
      {
        "duration": 19,
        "start_time": "2022-05-09T14:13:16.598Z"
      },
      {
        "duration": 5,
        "start_time": "2022-05-09T14:14:10.628Z"
      },
      {
        "duration": 363,
        "start_time": "2022-05-09T14:14:13.236Z"
      },
      {
        "duration": 2,
        "start_time": "2022-05-09T14:14:33.047Z"
      },
      {
        "duration": 4,
        "start_time": "2022-05-09T14:14:38.453Z"
      },
      {
        "duration": 16,
        "start_time": "2022-05-09T14:14:44.534Z"
      },
      {
        "duration": 25,
        "start_time": "2022-05-09T14:14:49.397Z"
      },
      {
        "duration": 6,
        "start_time": "2022-05-09T14:14:55.132Z"
      },
      {
        "duration": 23,
        "start_time": "2022-05-09T14:14:58.396Z"
      },
      {
        "duration": 4,
        "start_time": "2022-05-09T14:15:22.093Z"
      },
      {
        "duration": 274,
        "start_time": "2022-05-09T14:15:24.634Z"
      },
      {
        "duration": 4,
        "start_time": "2022-05-09T14:17:59.767Z"
      },
      {
        "duration": 392,
        "start_time": "2022-05-09T14:18:02.676Z"
      },
      {
        "duration": 5,
        "start_time": "2022-05-09T14:18:13.944Z"
      },
      {
        "duration": 313,
        "start_time": "2022-05-09T14:18:15.990Z"
      },
      {
        "duration": 5,
        "start_time": "2022-05-09T14:20:28.588Z"
      },
      {
        "duration": 263,
        "start_time": "2022-05-09T14:20:31.462Z"
      },
      {
        "duration": 4,
        "start_time": "2022-05-09T14:22:49.186Z"
      },
      {
        "duration": 28,
        "start_time": "2022-05-09T14:22:51.505Z"
      },
      {
        "duration": 8,
        "start_time": "2022-05-09T14:22:54.140Z"
      },
      {
        "duration": 26,
        "start_time": "2022-05-09T14:22:56.065Z"
      },
      {
        "duration": 7,
        "start_time": "2022-05-09T14:23:22.092Z"
      },
      {
        "duration": 28,
        "start_time": "2022-05-09T14:23:24.318Z"
      },
      {
        "duration": 7,
        "start_time": "2022-05-09T14:23:26.386Z"
      },
      {
        "duration": 25,
        "start_time": "2022-05-09T14:23:28.121Z"
      },
      {
        "duration": 9,
        "start_time": "2022-05-09T14:24:11.321Z"
      },
      {
        "duration": 30,
        "start_time": "2022-05-09T14:24:13.850Z"
      },
      {
        "duration": 6,
        "start_time": "2022-05-09T14:24:15.891Z"
      },
      {
        "duration": 7,
        "start_time": "2022-05-09T14:24:27.257Z"
      },
      {
        "duration": 5,
        "start_time": "2022-05-09T14:25:03.572Z"
      },
      {
        "duration": 20,
        "start_time": "2022-05-09T14:25:05.540Z"
      },
      {
        "duration": 6,
        "start_time": "2022-05-09T14:25:07.180Z"
      },
      {
        "duration": 7,
        "start_time": "2022-05-09T14:25:08.877Z"
      },
      {
        "duration": 4,
        "start_time": "2022-05-09T14:27:05.528Z"
      },
      {
        "duration": 71,
        "start_time": "2022-05-09T14:29:33.705Z"
      },
      {
        "duration": 20,
        "start_time": "2022-05-09T14:30:18.584Z"
      },
      {
        "duration": 19,
        "start_time": "2022-05-09T14:30:34.829Z"
      },
      {
        "duration": 16,
        "start_time": "2022-05-09T14:31:20.560Z"
      },
      {
        "duration": 17,
        "start_time": "2022-05-09T14:31:49.524Z"
      },
      {
        "duration": 18,
        "start_time": "2022-05-09T14:32:51.148Z"
      },
      {
        "duration": 1180,
        "start_time": "2022-05-09T14:32:59.568Z"
      },
      {
        "duration": 58,
        "start_time": "2022-05-09T14:33:00.750Z"
      },
      {
        "duration": 25,
        "start_time": "2022-05-09T14:33:00.809Z"
      },
      {
        "duration": 18,
        "start_time": "2022-05-09T14:33:00.836Z"
      },
      {
        "duration": 9,
        "start_time": "2022-05-09T14:33:00.856Z"
      },
      {
        "duration": 45,
        "start_time": "2022-05-09T14:33:00.867Z"
      },
      {
        "duration": 6,
        "start_time": "2022-05-09T14:33:00.913Z"
      },
      {
        "duration": 7,
        "start_time": "2022-05-09T14:33:00.921Z"
      },
      {
        "duration": 21,
        "start_time": "2022-05-09T14:33:00.931Z"
      },
      {
        "duration": 17,
        "start_time": "2022-05-09T14:33:00.954Z"
      },
      {
        "duration": 3243,
        "start_time": "2022-05-09T14:33:00.974Z"
      },
      {
        "duration": 4,
        "start_time": "2022-05-09T14:33:04.219Z"
      },
      {
        "duration": 1794,
        "start_time": "2022-05-09T14:33:04.225Z"
      },
      {
        "duration": 300,
        "start_time": "2022-05-09T14:33:06.024Z"
      },
      {
        "duration": 8,
        "start_time": "2022-05-09T14:33:06.326Z"
      },
      {
        "duration": 5,
        "start_time": "2022-05-09T14:33:06.337Z"
      },
      {
        "duration": 10,
        "start_time": "2022-05-09T14:33:06.344Z"
      },
      {
        "duration": 52,
        "start_time": "2022-05-09T14:33:06.356Z"
      },
      {
        "duration": 8,
        "start_time": "2022-05-09T14:33:06.410Z"
      },
      {
        "duration": 32,
        "start_time": "2022-05-09T14:33:06.420Z"
      },
      {
        "duration": 6,
        "start_time": "2022-05-09T14:33:06.454Z"
      },
      {
        "duration": 48,
        "start_time": "2022-05-09T14:33:06.462Z"
      },
      {
        "duration": 10,
        "start_time": "2022-05-09T14:33:06.512Z"
      },
      {
        "duration": 7,
        "start_time": "2022-05-09T14:33:06.524Z"
      },
      {
        "duration": 8,
        "start_time": "2022-05-09T14:33:06.533Z"
      },
      {
        "duration": 755,
        "start_time": "2022-05-09T14:33:06.543Z"
      },
      {
        "duration": 12,
        "start_time": "2022-05-09T14:33:07.300Z"
      },
      {
        "duration": 12,
        "start_time": "2022-05-09T14:33:07.314Z"
      },
      {
        "duration": 4,
        "start_time": "2022-05-09T14:33:07.328Z"
      },
      {
        "duration": 12,
        "start_time": "2022-05-09T14:33:07.333Z"
      },
      {
        "duration": 1877,
        "start_time": "2022-05-09T14:33:07.347Z"
      },
      {
        "duration": 7,
        "start_time": "2022-05-09T14:33:09.227Z"
      },
      {
        "duration": 9,
        "start_time": "2022-05-09T14:33:09.236Z"
      },
      {
        "duration": 12,
        "start_time": "2022-05-09T14:33:09.247Z"
      },
      {
        "duration": 566,
        "start_time": "2022-05-09T14:33:09.262Z"
      },
      {
        "duration": 7,
        "start_time": "2022-05-09T14:33:09.830Z"
      },
      {
        "duration": 11,
        "start_time": "2022-05-09T14:33:09.838Z"
      },
      {
        "duration": 12,
        "start_time": "2022-05-09T14:33:09.851Z"
      },
      {
        "duration": 45,
        "start_time": "2022-05-09T14:33:09.865Z"
      },
      {
        "duration": 17,
        "start_time": "2022-05-09T14:33:09.912Z"
      },
      {
        "duration": 2,
        "start_time": "2022-05-09T14:33:09.934Z"
      },
      {
        "duration": 34,
        "start_time": "2022-05-09T14:33:09.938Z"
      },
      {
        "duration": 69,
        "start_time": "2022-05-09T14:33:09.974Z"
      },
      {
        "duration": 14,
        "start_time": "2022-05-09T14:33:10.044Z"
      },
      {
        "duration": 16,
        "start_time": "2022-05-09T14:33:10.060Z"
      },
      {
        "duration": 20,
        "start_time": "2022-05-09T14:33:10.107Z"
      },
      {
        "duration": 5,
        "start_time": "2022-05-09T14:33:10.129Z"
      },
      {
        "duration": 18,
        "start_time": "2022-05-09T14:33:10.136Z"
      },
      {
        "duration": 8,
        "start_time": "2022-05-09T14:33:10.156Z"
      },
      {
        "duration": 66,
        "start_time": "2022-05-09T14:33:10.166Z"
      },
      {
        "duration": 23,
        "start_time": "2022-05-09T14:33:10.235Z"
      },
      {
        "duration": 6,
        "start_time": "2022-05-09T14:33:10.260Z"
      },
      {
        "duration": 40,
        "start_time": "2022-05-09T14:33:10.268Z"
      },
      {
        "duration": 8,
        "start_time": "2022-05-09T14:33:10.309Z"
      },
      {
        "duration": 23,
        "start_time": "2022-05-09T14:33:10.319Z"
      },
      {
        "duration": 6,
        "start_time": "2022-05-09T14:33:10.344Z"
      },
      {
        "duration": 20,
        "start_time": "2022-05-09T14:33:10.352Z"
      },
      {
        "duration": 12,
        "start_time": "2022-05-09T14:33:10.407Z"
      },
      {
        "duration": 14,
        "start_time": "2022-05-09T14:33:10.420Z"
      },
      {
        "duration": 13,
        "start_time": "2022-05-09T14:33:10.435Z"
      },
      {
        "duration": 60,
        "start_time": "2022-05-09T14:33:10.449Z"
      },
      {
        "duration": 390,
        "start_time": "2022-05-09T14:33:10.511Z"
      },
      {
        "duration": 15,
        "start_time": "2022-05-09T14:33:10.907Z"
      },
      {
        "duration": 11,
        "start_time": "2022-05-09T14:33:10.924Z"
      },
      {
        "duration": 10,
        "start_time": "2022-05-09T14:33:10.937Z"
      },
      {
        "duration": 60,
        "start_time": "2022-05-09T14:33:10.949Z"
      },
      {
        "duration": 15,
        "start_time": "2022-05-09T14:33:11.011Z"
      },
      {
        "duration": 369,
        "start_time": "2022-05-09T14:46:58.040Z"
      },
      {
        "duration": 7,
        "start_time": "2022-05-09T14:47:41.583Z"
      },
      {
        "duration": 8,
        "start_time": "2022-05-09T14:47:55.961Z"
      },
      {
        "duration": 7,
        "start_time": "2022-05-09T14:50:30.761Z"
      },
      {
        "duration": 1260,
        "start_time": "2022-05-09T14:53:19.900Z"
      },
      {
        "duration": 60,
        "start_time": "2022-05-09T14:53:21.163Z"
      },
      {
        "duration": 27,
        "start_time": "2022-05-09T14:53:21.225Z"
      },
      {
        "duration": 19,
        "start_time": "2022-05-09T14:53:21.255Z"
      },
      {
        "duration": 33,
        "start_time": "2022-05-09T14:53:21.276Z"
      },
      {
        "duration": 14,
        "start_time": "2022-05-09T14:53:21.312Z"
      },
      {
        "duration": 7,
        "start_time": "2022-05-09T14:53:21.328Z"
      },
      {
        "duration": 5,
        "start_time": "2022-05-09T14:53:21.337Z"
      },
      {
        "duration": 11,
        "start_time": "2022-05-09T14:53:21.344Z"
      },
      {
        "duration": 9,
        "start_time": "2022-05-09T14:53:21.408Z"
      },
      {
        "duration": 3206,
        "start_time": "2022-05-09T14:53:21.419Z"
      },
      {
        "duration": 4,
        "start_time": "2022-05-09T14:53:24.627Z"
      },
      {
        "duration": 1703,
        "start_time": "2022-05-09T14:53:24.633Z"
      },
      {
        "duration": 271,
        "start_time": "2022-05-09T14:53:26.337Z"
      },
      {
        "duration": 7,
        "start_time": "2022-05-09T14:53:26.610Z"
      },
      {
        "duration": 6,
        "start_time": "2022-05-09T14:53:26.619Z"
      },
      {
        "duration": 6,
        "start_time": "2022-05-09T14:53:26.627Z"
      },
      {
        "duration": 9,
        "start_time": "2022-05-09T14:53:26.634Z"
      },
      {
        "duration": 7,
        "start_time": "2022-05-09T14:53:26.645Z"
      },
      {
        "duration": 8,
        "start_time": "2022-05-09T14:53:26.653Z"
      },
      {
        "duration": 19,
        "start_time": "2022-05-09T14:53:26.707Z"
      },
      {
        "duration": 8,
        "start_time": "2022-05-09T14:53:26.728Z"
      },
      {
        "duration": 9,
        "start_time": "2022-05-09T14:53:26.738Z"
      },
      {
        "duration": 11,
        "start_time": "2022-05-09T14:53:26.749Z"
      },
      {
        "duration": 7,
        "start_time": "2022-05-09T14:53:26.761Z"
      },
      {
        "duration": 42,
        "start_time": "2022-05-09T14:53:26.769Z"
      },
      {
        "duration": 707,
        "start_time": "2022-05-09T14:53:26.813Z"
      },
      {
        "duration": 7,
        "start_time": "2022-05-09T14:53:27.524Z"
      },
      {
        "duration": 11,
        "start_time": "2022-05-09T14:53:27.533Z"
      },
      {
        "duration": 4,
        "start_time": "2022-05-09T14:53:27.546Z"
      },
      {
        "duration": 8,
        "start_time": "2022-05-09T14:53:27.552Z"
      },
      {
        "duration": 1938,
        "start_time": "2022-05-09T14:53:27.562Z"
      },
      {
        "duration": 9,
        "start_time": "2022-05-09T14:53:29.502Z"
      },
      {
        "duration": 7,
        "start_time": "2022-05-09T14:53:29.512Z"
      },
      {
        "duration": 9,
        "start_time": "2022-05-09T14:53:29.521Z"
      },
      {
        "duration": 549,
        "start_time": "2022-05-09T14:53:29.531Z"
      },
      {
        "duration": 7,
        "start_time": "2022-05-09T14:53:30.082Z"
      },
      {
        "duration": 20,
        "start_time": "2022-05-09T14:53:30.090Z"
      },
      {
        "duration": 10,
        "start_time": "2022-05-09T14:53:30.112Z"
      },
      {
        "duration": 8,
        "start_time": "2022-05-09T14:53:30.124Z"
      },
      {
        "duration": 16,
        "start_time": "2022-05-09T14:53:30.134Z"
      },
      {
        "duration": 5,
        "start_time": "2022-05-09T14:53:30.152Z"
      },
      {
        "duration": 65,
        "start_time": "2022-05-09T14:53:30.159Z"
      },
      {
        "duration": 35,
        "start_time": "2022-05-09T14:53:30.226Z"
      },
      {
        "duration": 13,
        "start_time": "2022-05-09T14:53:30.262Z"
      },
      {
        "duration": 43,
        "start_time": "2022-05-09T14:53:30.276Z"
      },
      {
        "duration": 18,
        "start_time": "2022-05-09T14:53:30.321Z"
      },
      {
        "duration": 4,
        "start_time": "2022-05-09T14:53:30.341Z"
      },
      {
        "duration": 16,
        "start_time": "2022-05-09T14:53:30.347Z"
      },
      {
        "duration": 46,
        "start_time": "2022-05-09T14:53:30.365Z"
      },
      {
        "duration": 22,
        "start_time": "2022-05-09T14:53:30.413Z"
      },
      {
        "duration": 14,
        "start_time": "2022-05-09T14:53:30.437Z"
      },
      {
        "duration": 8,
        "start_time": "2022-05-09T14:53:30.453Z"
      },
      {
        "duration": 19,
        "start_time": "2022-05-09T14:53:30.462Z"
      },
      {
        "duration": 34,
        "start_time": "2022-05-09T14:53:30.483Z"
      },
      {
        "duration": 7,
        "start_time": "2022-05-09T14:53:30.520Z"
      },
      {
        "duration": 20,
        "start_time": "2022-05-09T14:53:30.529Z"
      },
      {
        "duration": 13,
        "start_time": "2022-05-09T14:53:30.551Z"
      },
      {
        "duration": 52,
        "start_time": "2022-05-09T14:53:30.566Z"
      },
      {
        "duration": 11,
        "start_time": "2022-05-09T14:53:30.619Z"
      },
      {
        "duration": 10,
        "start_time": "2022-05-09T14:53:30.632Z"
      },
      {
        "duration": 440,
        "start_time": "2022-05-09T14:53:30.644Z"
      },
      {
        "duration": 24,
        "start_time": "2022-05-09T14:53:31.086Z"
      },
      {
        "duration": 12,
        "start_time": "2022-05-09T14:53:31.111Z"
      },
      {
        "duration": 20,
        "start_time": "2022-05-09T14:53:31.125Z"
      },
      {
        "duration": 32,
        "start_time": "2022-05-09T14:53:31.146Z"
      },
      {
        "duration": 32,
        "start_time": "2022-05-09T14:53:31.180Z"
      }
    ],
    "colab": {
      "provenance": [],
      "toc_visible": true
    },
    "kernelspec": {
      "display_name": "Python 3 (ipykernel)",
      "language": "python",
      "name": "python3"
    },
    "language_info": {
      "codemirror_mode": {
        "name": "ipython",
        "version": 3
      },
      "file_extension": ".py",
      "mimetype": "text/x-python",
      "name": "python",
      "nbconvert_exporter": "python",
      "pygments_lexer": "ipython3",
      "version": "3.9.5"
    },
    "toc": {
      "base_numbering": 1,
      "nav_menu": {},
      "number_sections": true,
      "sideBar": true,
      "skip_h1_title": true,
      "title_cell": "Table of Contents",
      "title_sidebar": "Contents",
      "toc_cell": false,
      "toc_position": {
        "height": "calc(100% - 180px)",
        "left": "10px",
        "top": "150px",
        "width": "363.8px"
      },
      "toc_section_display": true,
      "toc_window_display": true
    }
  },
  "nbformat": 4,
  "nbformat_minor": 5
}